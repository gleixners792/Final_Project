{
 "cells": [
  {
   "cell_type": "code",
   "execution_count": 1,
   "metadata": {},
   "outputs": [],
   "source": [
    "# Set the seed value for the notebook so the results are reproducible\n",
    "from numpy.random import seed\n",
    "seed(1)"
   ]
  },
  {
   "cell_type": "code",
   "execution_count": 2,
   "metadata": {
    "slideshow": {
     "slide_type": "subslide"
    }
   },
   "outputs": [],
   "source": [
    "# Dependencies\n",
    "import numpy as np\n",
    "import os\n",
    "import matplotlib.pyplot as plt\n",
    "import pandas as pd"
   ]
  },
  {
   "cell_type": "code",
   "execution_count": 3,
   "metadata": {},
   "outputs": [
    {
     "data": {
      "text/plain": [
       "'2.4.0'"
      ]
     },
     "execution_count": 3,
     "metadata": {},
     "output_type": "execute_result"
    }
   ],
   "source": [
    "import tensorflow\n",
    "tensorflow.keras.__version__"
   ]
  },
  {
   "cell_type": "markdown",
   "metadata": {},
   "source": [
    "## Read the CSV and Perform Basic Data Cleaning¶"
   ]
  },
  {
   "cell_type": "code",
   "execution_count": 4,
   "metadata": {
    "slideshow": {
     "slide_type": "fragment"
    }
   },
   "outputs": [
    {
     "data": {
      "text/html": [
       "<div>\n",
       "<style scoped>\n",
       "    .dataframe tbody tr th:only-of-type {\n",
       "        vertical-align: middle;\n",
       "    }\n",
       "\n",
       "    .dataframe tbody tr th {\n",
       "        vertical-align: top;\n",
       "    }\n",
       "\n",
       "    .dataframe thead th {\n",
       "        text-align: right;\n",
       "    }\n",
       "</style>\n",
       "<table border=\"1\" class=\"dataframe\">\n",
       "  <thead>\n",
       "    <tr style=\"text-align: right;\">\n",
       "      <th></th>\n",
       "      <th>npi</th>\n",
       "      <th>nppes_provider_gender</th>\n",
       "      <th>nppes_entity_code</th>\n",
       "      <th>nppes_provider_city</th>\n",
       "      <th>nppes_provider_zip</th>\n",
       "      <th>nppes_provider_state</th>\n",
       "      <th>nppes_provider_country</th>\n",
       "      <th>provider_type</th>\n",
       "      <th>medicare_participation_indicator</th>\n",
       "      <th>place_of_service</th>\n",
       "      <th>...</th>\n",
       "      <th>hcpcs_drug_indicator</th>\n",
       "      <th>line_srvc_cnt</th>\n",
       "      <th>bene_unique_cnt</th>\n",
       "      <th>bene_day_srvc_cnt</th>\n",
       "      <th>average_Medicare_allowed_amt</th>\n",
       "      <th>average_submitted_chrg_amt</th>\n",
       "      <th>average_Medicare_payment_amt</th>\n",
       "      <th>year</th>\n",
       "      <th>leie_code</th>\n",
       "      <th>leie</th>\n",
       "    </tr>\n",
       "  </thead>\n",
       "  <tbody>\n",
       "    <tr>\n",
       "      <th>0</th>\n",
       "      <td>1720342884</td>\n",
       "      <td>NaN</td>\n",
       "      <td>O</td>\n",
       "      <td>NEW ORLEANS</td>\n",
       "      <td>701122714.0</td>\n",
       "      <td>LA</td>\n",
       "      <td>US</td>\n",
       "      <td>Clinical Laboratory</td>\n",
       "      <td>Y</td>\n",
       "      <td>O</td>\n",
       "      <td>...</td>\n",
       "      <td>N</td>\n",
       "      <td>332603.0</td>\n",
       "      <td>167054.0</td>\n",
       "      <td>167798.0</td>\n",
       "      <td>105.972315</td>\n",
       "      <td>118.707137</td>\n",
       "      <td>103.835534</td>\n",
       "      <td>2014</td>\n",
       "      <td>1128b7</td>\n",
       "      <td>On_List</td>\n",
       "    </tr>\n",
       "    <tr>\n",
       "      <th>1</th>\n",
       "      <td>1720342884</td>\n",
       "      <td>NaN</td>\n",
       "      <td>O</td>\n",
       "      <td>NEW ORLEANS</td>\n",
       "      <td>701122714.0</td>\n",
       "      <td>LA</td>\n",
       "      <td>US</td>\n",
       "      <td>Clinical Laboratory</td>\n",
       "      <td>Y</td>\n",
       "      <td>O</td>\n",
       "      <td>...</td>\n",
       "      <td>N</td>\n",
       "      <td>37517.0</td>\n",
       "      <td>18911.0</td>\n",
       "      <td>25628.0</td>\n",
       "      <td>24.629483</td>\n",
       "      <td>95.659038</td>\n",
       "      <td>24.111942</td>\n",
       "      <td>2014</td>\n",
       "      <td>1128b7</td>\n",
       "      <td>On_List</td>\n",
       "    </tr>\n",
       "    <tr>\n",
       "      <th>2</th>\n",
       "      <td>1285651638</td>\n",
       "      <td>NaN</td>\n",
       "      <td>O</td>\n",
       "      <td>WEBSTER</td>\n",
       "      <td>775984924.0</td>\n",
       "      <td>TX</td>\n",
       "      <td>US</td>\n",
       "      <td>Clinical Laboratory</td>\n",
       "      <td>Y</td>\n",
       "      <td>O</td>\n",
       "      <td>...</td>\n",
       "      <td>N</td>\n",
       "      <td>97872.0</td>\n",
       "      <td>14035.0</td>\n",
       "      <td>96892.0</td>\n",
       "      <td>4.999969</td>\n",
       "      <td>7.000000</td>\n",
       "      <td>4.897617</td>\n",
       "      <td>2016</td>\n",
       "      <td>1128b7</td>\n",
       "      <td>On_List</td>\n",
       "    </tr>\n",
       "    <tr>\n",
       "      <th>3</th>\n",
       "      <td>1720342884</td>\n",
       "      <td>NaN</td>\n",
       "      <td>O</td>\n",
       "      <td>NEW ORLEANS</td>\n",
       "      <td>701122714.0</td>\n",
       "      <td>LA</td>\n",
       "      <td>US</td>\n",
       "      <td>Clinical Laboratory</td>\n",
       "      <td>Y</td>\n",
       "      <td>O</td>\n",
       "      <td>...</td>\n",
       "      <td>N</td>\n",
       "      <td>108896.0</td>\n",
       "      <td>19431.0</td>\n",
       "      <td>27266.0</td>\n",
       "      <td>26.539299</td>\n",
       "      <td>108.557999</td>\n",
       "      <td>25.983498</td>\n",
       "      <td>2014</td>\n",
       "      <td>1128b7</td>\n",
       "      <td>On_List</td>\n",
       "    </tr>\n",
       "    <tr>\n",
       "      <th>4</th>\n",
       "      <td>1285651638</td>\n",
       "      <td>NaN</td>\n",
       "      <td>O</td>\n",
       "      <td>WEBSTER</td>\n",
       "      <td>775984924.0</td>\n",
       "      <td>TX</td>\n",
       "      <td>US</td>\n",
       "      <td>Clinical Laboratory</td>\n",
       "      <td>Y</td>\n",
       "      <td>O</td>\n",
       "      <td>...</td>\n",
       "      <td>N</td>\n",
       "      <td>586053.0</td>\n",
       "      <td>14367.0</td>\n",
       "      <td>99032.0</td>\n",
       "      <td>0.999702</td>\n",
       "      <td>2.824145</td>\n",
       "      <td>0.979123</td>\n",
       "      <td>2016</td>\n",
       "      <td>1128b7</td>\n",
       "      <td>On_List</td>\n",
       "    </tr>\n",
       "    <tr>\n",
       "      <th>...</th>\n",
       "      <td>...</td>\n",
       "      <td>...</td>\n",
       "      <td>...</td>\n",
       "      <td>...</td>\n",
       "      <td>...</td>\n",
       "      <td>...</td>\n",
       "      <td>...</td>\n",
       "      <td>...</td>\n",
       "      <td>...</td>\n",
       "      <td>...</td>\n",
       "      <td>...</td>\n",
       "      <td>...</td>\n",
       "      <td>...</td>\n",
       "      <td>...</td>\n",
       "      <td>...</td>\n",
       "      <td>...</td>\n",
       "      <td>...</td>\n",
       "      <td>...</td>\n",
       "      <td>...</td>\n",
       "      <td>...</td>\n",
       "      <td>...</td>\n",
       "    </tr>\n",
       "    <tr>\n",
       "      <th>149995</th>\n",
       "      <td>1396830204</td>\n",
       "      <td>NaN</td>\n",
       "      <td>O</td>\n",
       "      <td>SANTA FE SPRINGS</td>\n",
       "      <td>906706000.0</td>\n",
       "      <td>CA</td>\n",
       "      <td>US</td>\n",
       "      <td>Clinical Laboratory</td>\n",
       "      <td>Y</td>\n",
       "      <td>O</td>\n",
       "      <td>...</td>\n",
       "      <td>N</td>\n",
       "      <td>4373.0</td>\n",
       "      <td>3506.0</td>\n",
       "      <td>4373.0</td>\n",
       "      <td>17.620000</td>\n",
       "      <td>31.405760</td>\n",
       "      <td>17.262902</td>\n",
       "      <td>2015</td>\n",
       "      <td>None</td>\n",
       "      <td>Not</td>\n",
       "    </tr>\n",
       "    <tr>\n",
       "      <th>149996</th>\n",
       "      <td>1437297298</td>\n",
       "      <td>M</td>\n",
       "      <td>I</td>\n",
       "      <td>JOSHUA TREE</td>\n",
       "      <td>92252.0</td>\n",
       "      <td>CA</td>\n",
       "      <td>US</td>\n",
       "      <td>Cardiology</td>\n",
       "      <td>Y</td>\n",
       "      <td>F</td>\n",
       "      <td>...</td>\n",
       "      <td>N</td>\n",
       "      <td>3288.0</td>\n",
       "      <td>2421.0</td>\n",
       "      <td>2828.0</td>\n",
       "      <td>8.693464</td>\n",
       "      <td>34.800365</td>\n",
       "      <td>6.818634</td>\n",
       "      <td>2015</td>\n",
       "      <td>None</td>\n",
       "      <td>Not</td>\n",
       "    </tr>\n",
       "    <tr>\n",
       "      <th>149997</th>\n",
       "      <td>1629232491</td>\n",
       "      <td>M</td>\n",
       "      <td>I</td>\n",
       "      <td>SAINT LOUIS</td>\n",
       "      <td>631366163.0</td>\n",
       "      <td>MO</td>\n",
       "      <td>US</td>\n",
       "      <td>Pathology</td>\n",
       "      <td>Y</td>\n",
       "      <td>O</td>\n",
       "      <td>...</td>\n",
       "      <td>N</td>\n",
       "      <td>1993.0</td>\n",
       "      <td>1126.0</td>\n",
       "      <td>1383.0</td>\n",
       "      <td>44.437968</td>\n",
       "      <td>306.000000</td>\n",
       "      <td>32.658981</td>\n",
       "      <td>2015</td>\n",
       "      <td>None</td>\n",
       "      <td>Not</td>\n",
       "    </tr>\n",
       "    <tr>\n",
       "      <th>149998</th>\n",
       "      <td>1699782722</td>\n",
       "      <td>NaN</td>\n",
       "      <td>O</td>\n",
       "      <td>NASHVILLE</td>\n",
       "      <td>372281310.0</td>\n",
       "      <td>TN</td>\n",
       "      <td>US</td>\n",
       "      <td>Clinical Laboratory</td>\n",
       "      <td>Y</td>\n",
       "      <td>O</td>\n",
       "      <td>...</td>\n",
       "      <td>N</td>\n",
       "      <td>3369.0</td>\n",
       "      <td>2502.0</td>\n",
       "      <td>3368.0</td>\n",
       "      <td>23.420000</td>\n",
       "      <td>85.000000</td>\n",
       "      <td>22.875741</td>\n",
       "      <td>2015</td>\n",
       "      <td>None</td>\n",
       "      <td>Not</td>\n",
       "    </tr>\n",
       "    <tr>\n",
       "      <th>149999</th>\n",
       "      <td>1710979554</td>\n",
       "      <td>M</td>\n",
       "      <td>I</td>\n",
       "      <td>LAKE MARY</td>\n",
       "      <td>327463315.0</td>\n",
       "      <td>FL</td>\n",
       "      <td>US</td>\n",
       "      <td>Podiatry</td>\n",
       "      <td>Y</td>\n",
       "      <td>O</td>\n",
       "      <td>...</td>\n",
       "      <td>N</td>\n",
       "      <td>3089.0</td>\n",
       "      <td>1111.0</td>\n",
       "      <td>3089.0</td>\n",
       "      <td>64.098281</td>\n",
       "      <td>68.732600</td>\n",
       "      <td>47.656708</td>\n",
       "      <td>2015</td>\n",
       "      <td>None</td>\n",
       "      <td>Not</td>\n",
       "    </tr>\n",
       "  </tbody>\n",
       "</table>\n",
       "<p>150000 rows × 22 columns</p>\n",
       "</div>"
      ],
      "text/plain": [
       "               npi nppes_provider_gender nppes_entity_code  \\\n",
       "0       1720342884                   NaN                 O   \n",
       "1       1720342884                   NaN                 O   \n",
       "2       1285651638                   NaN                 O   \n",
       "3       1720342884                   NaN                 O   \n",
       "4       1285651638                   NaN                 O   \n",
       "...            ...                   ...               ...   \n",
       "149995  1396830204                   NaN                 O   \n",
       "149996  1437297298                     M                 I   \n",
       "149997  1629232491                     M                 I   \n",
       "149998  1699782722                   NaN                 O   \n",
       "149999  1710979554                     M                 I   \n",
       "\n",
       "       nppes_provider_city  nppes_provider_zip nppes_provider_state  \\\n",
       "0              NEW ORLEANS         701122714.0                   LA   \n",
       "1              NEW ORLEANS         701122714.0                   LA   \n",
       "2                  WEBSTER         775984924.0                   TX   \n",
       "3              NEW ORLEANS         701122714.0                   LA   \n",
       "4                  WEBSTER         775984924.0                   TX   \n",
       "...                    ...                 ...                  ...   \n",
       "149995    SANTA FE SPRINGS         906706000.0                   CA   \n",
       "149996         JOSHUA TREE             92252.0                   CA   \n",
       "149997         SAINT LOUIS         631366163.0                   MO   \n",
       "149998           NASHVILLE         372281310.0                   TN   \n",
       "149999           LAKE MARY         327463315.0                   FL   \n",
       "\n",
       "       nppes_provider_country        provider_type  \\\n",
       "0                          US  Clinical Laboratory   \n",
       "1                          US  Clinical Laboratory   \n",
       "2                          US  Clinical Laboratory   \n",
       "3                          US  Clinical Laboratory   \n",
       "4                          US  Clinical Laboratory   \n",
       "...                       ...                  ...   \n",
       "149995                     US  Clinical Laboratory   \n",
       "149996                     US           Cardiology   \n",
       "149997                     US            Pathology   \n",
       "149998                     US  Clinical Laboratory   \n",
       "149999                     US             Podiatry   \n",
       "\n",
       "       medicare_participation_indicator place_of_service  ...  \\\n",
       "0                                     Y                O  ...   \n",
       "1                                     Y                O  ...   \n",
       "2                                     Y                O  ...   \n",
       "3                                     Y                O  ...   \n",
       "4                                     Y                O  ...   \n",
       "...                                 ...              ...  ...   \n",
       "149995                                Y                O  ...   \n",
       "149996                                Y                F  ...   \n",
       "149997                                Y                O  ...   \n",
       "149998                                Y                O  ...   \n",
       "149999                                Y                O  ...   \n",
       "\n",
       "       hcpcs_drug_indicator line_srvc_cnt bene_unique_cnt  bene_day_srvc_cnt  \\\n",
       "0                         N      332603.0        167054.0           167798.0   \n",
       "1                         N       37517.0         18911.0            25628.0   \n",
       "2                         N       97872.0         14035.0            96892.0   \n",
       "3                         N      108896.0         19431.0            27266.0   \n",
       "4                         N      586053.0         14367.0            99032.0   \n",
       "...                     ...           ...             ...                ...   \n",
       "149995                    N        4373.0          3506.0             4373.0   \n",
       "149996                    N        3288.0          2421.0             2828.0   \n",
       "149997                    N        1993.0          1126.0             1383.0   \n",
       "149998                    N        3369.0          2502.0             3368.0   \n",
       "149999                    N        3089.0          1111.0             3089.0   \n",
       "\n",
       "        average_Medicare_allowed_amt  average_submitted_chrg_amt  \\\n",
       "0                         105.972315                  118.707137   \n",
       "1                          24.629483                   95.659038   \n",
       "2                           4.999969                    7.000000   \n",
       "3                          26.539299                  108.557999   \n",
       "4                           0.999702                    2.824145   \n",
       "...                              ...                         ...   \n",
       "149995                     17.620000                   31.405760   \n",
       "149996                      8.693464                   34.800365   \n",
       "149997                     44.437968                  306.000000   \n",
       "149998                     23.420000                   85.000000   \n",
       "149999                     64.098281                   68.732600   \n",
       "\n",
       "        average_Medicare_payment_amt  year  leie_code     leie  \n",
       "0                         103.835534  2014     1128b7  On_List  \n",
       "1                          24.111942  2014     1128b7  On_List  \n",
       "2                           4.897617  2016     1128b7  On_List  \n",
       "3                          25.983498  2014     1128b7  On_List  \n",
       "4                           0.979123  2016     1128b7  On_List  \n",
       "...                              ...   ...        ...      ...  \n",
       "149995                     17.262902  2015       None      Not  \n",
       "149996                      6.818634  2015       None      Not  \n",
       "149997                     32.658981  2015       None      Not  \n",
       "149998                     22.875741  2015       None      Not  \n",
       "149999                     47.656708  2015       None      Not  \n",
       "\n",
       "[150000 rows x 22 columns]"
      ]
     },
     "execution_count": 4,
     "metadata": {},
     "output_type": "execute_result"
    }
   ],
   "source": [
    "input_data_file = \"sort_data_v2.txt\"\n",
    "#df = pd.read_csv(os.path.join(\"..\", \"Data\", input_data_file),sep='\\t')\n",
    "df = pd.read_csv(os.path.join(\"..\", \"Data\", input_data_file),sep='\\t', nrows=150000)\n",
    "\n",
    "# Drop the null columns where all values are null\n",
    "df = df.dropna(axis='columns', how='all')\n",
    "# Drop the null rows\n",
    "#df = df.dropna()\n",
    "df"
   ]
  },
  {
   "cell_type": "code",
   "execution_count": 5,
   "metadata": {},
   "outputs": [],
   "source": [
    "df['nppes_provider_gender'] = df['nppes_provider_gender'].fillna('O')"
   ]
  },
  {
   "cell_type": "code",
   "execution_count": 6,
   "metadata": {},
   "outputs": [
    {
     "data": {
      "text/plain": [
       "Index(['npi', 'nppes_provider_gender', 'nppes_entity_code',\n",
       "       'nppes_provider_city', 'nppes_provider_zip', 'nppes_provider_state',\n",
       "       'nppes_provider_country', 'provider_type',\n",
       "       'medicare_participation_indicator', 'place_of_service', 'hcpcs_code',\n",
       "       'hcpcs_description', 'hcpcs_drug_indicator', 'line_srvc_cnt',\n",
       "       'bene_unique_cnt', 'bene_day_srvc_cnt', 'average_Medicare_allowed_amt',\n",
       "       'average_submitted_chrg_amt', 'average_Medicare_payment_amt', 'year',\n",
       "       'leie_code', 'leie'],\n",
       "      dtype='object')"
      ]
     },
     "execution_count": 6,
     "metadata": {},
     "output_type": "execute_result"
    }
   ],
   "source": [
    "df.columns"
   ]
  },
  {
   "cell_type": "code",
   "execution_count": 7,
   "metadata": {},
   "outputs": [
    {
     "name": "stdout",
     "output_type": "stream",
     "text": [
      "<class 'pandas.core.frame.DataFrame'>\n",
      "RangeIndex: 150000 entries, 0 to 149999\n",
      "Data columns (total 22 columns):\n",
      " #   Column                            Non-Null Count   Dtype  \n",
      "---  ------                            --------------   -----  \n",
      " 0   npi                               150000 non-null  int64  \n",
      " 1   nppes_provider_gender             150000 non-null  object \n",
      " 2   nppes_entity_code                 150000 non-null  object \n",
      " 3   nppes_provider_city               150000 non-null  object \n",
      " 4   nppes_provider_zip                150000 non-null  float64\n",
      " 5   nppes_provider_state              150000 non-null  object \n",
      " 6   nppes_provider_country            150000 non-null  object \n",
      " 7   provider_type                     150000 non-null  object \n",
      " 8   medicare_participation_indicator  150000 non-null  object \n",
      " 9   place_of_service                  150000 non-null  object \n",
      " 10  hcpcs_code                        150000 non-null  object \n",
      " 11  hcpcs_description                 150000 non-null  object \n",
      " 12  hcpcs_drug_indicator              150000 non-null  object \n",
      " 13  line_srvc_cnt                     150000 non-null  float64\n",
      " 14  bene_unique_cnt                   150000 non-null  float64\n",
      " 15  bene_day_srvc_cnt                 150000 non-null  float64\n",
      " 16  average_Medicare_allowed_amt      150000 non-null  float64\n",
      " 17  average_submitted_chrg_amt        150000 non-null  float64\n",
      " 18  average_Medicare_payment_amt      150000 non-null  float64\n",
      " 19  year                              150000 non-null  int64  \n",
      " 20  leie_code                         150000 non-null  object \n",
      " 21  leie                              150000 non-null  object \n",
      "dtypes: float64(7), int64(2), object(13)\n",
      "memory usage: 25.2+ MB\n"
     ]
    }
   ],
   "source": [
    "df.info()"
   ]
  },
  {
   "cell_type": "markdown",
   "metadata": {},
   "source": [
    "## Select your features (columns)"
   ]
  },
  {
   "cell_type": "code",
   "execution_count": 8,
   "metadata": {},
   "outputs": [
    {
     "data": {
      "text/html": [
       "<div>\n",
       "<style scoped>\n",
       "    .dataframe tbody tr th:only-of-type {\n",
       "        vertical-align: middle;\n",
       "    }\n",
       "\n",
       "    .dataframe tbody tr th {\n",
       "        vertical-align: top;\n",
       "    }\n",
       "\n",
       "    .dataframe thead th {\n",
       "        text-align: right;\n",
       "    }\n",
       "</style>\n",
       "<table border=\"1\" class=\"dataframe\">\n",
       "  <thead>\n",
       "    <tr style=\"text-align: right;\">\n",
       "      <th></th>\n",
       "      <th>line_srvc_cnt</th>\n",
       "      <th>place_of_service</th>\n",
       "      <th>hcpcs_drug_indicator</th>\n",
       "      <th>nppes_entity_code</th>\n",
       "      <th>nppes_provider_gender</th>\n",
       "      <th>medicare_participation_indicator</th>\n",
       "      <th>leie</th>\n",
       "    </tr>\n",
       "  </thead>\n",
       "  <tbody>\n",
       "    <tr>\n",
       "      <th>0</th>\n",
       "      <td>332603.0</td>\n",
       "      <td>O</td>\n",
       "      <td>N</td>\n",
       "      <td>O</td>\n",
       "      <td>O</td>\n",
       "      <td>Y</td>\n",
       "      <td>On_List</td>\n",
       "    </tr>\n",
       "    <tr>\n",
       "      <th>1</th>\n",
       "      <td>37517.0</td>\n",
       "      <td>O</td>\n",
       "      <td>N</td>\n",
       "      <td>O</td>\n",
       "      <td>O</td>\n",
       "      <td>Y</td>\n",
       "      <td>On_List</td>\n",
       "    </tr>\n",
       "    <tr>\n",
       "      <th>2</th>\n",
       "      <td>97872.0</td>\n",
       "      <td>O</td>\n",
       "      <td>N</td>\n",
       "      <td>O</td>\n",
       "      <td>O</td>\n",
       "      <td>Y</td>\n",
       "      <td>On_List</td>\n",
       "    </tr>\n",
       "    <tr>\n",
       "      <th>3</th>\n",
       "      <td>108896.0</td>\n",
       "      <td>O</td>\n",
       "      <td>N</td>\n",
       "      <td>O</td>\n",
       "      <td>O</td>\n",
       "      <td>Y</td>\n",
       "      <td>On_List</td>\n",
       "    </tr>\n",
       "    <tr>\n",
       "      <th>4</th>\n",
       "      <td>586053.0</td>\n",
       "      <td>O</td>\n",
       "      <td>N</td>\n",
       "      <td>O</td>\n",
       "      <td>O</td>\n",
       "      <td>Y</td>\n",
       "      <td>On_List</td>\n",
       "    </tr>\n",
       "    <tr>\n",
       "      <th>...</th>\n",
       "      <td>...</td>\n",
       "      <td>...</td>\n",
       "      <td>...</td>\n",
       "      <td>...</td>\n",
       "      <td>...</td>\n",
       "      <td>...</td>\n",
       "      <td>...</td>\n",
       "    </tr>\n",
       "    <tr>\n",
       "      <th>149995</th>\n",
       "      <td>4373.0</td>\n",
       "      <td>O</td>\n",
       "      <td>N</td>\n",
       "      <td>O</td>\n",
       "      <td>O</td>\n",
       "      <td>Y</td>\n",
       "      <td>Not</td>\n",
       "    </tr>\n",
       "    <tr>\n",
       "      <th>149996</th>\n",
       "      <td>3288.0</td>\n",
       "      <td>F</td>\n",
       "      <td>N</td>\n",
       "      <td>I</td>\n",
       "      <td>M</td>\n",
       "      <td>Y</td>\n",
       "      <td>Not</td>\n",
       "    </tr>\n",
       "    <tr>\n",
       "      <th>149997</th>\n",
       "      <td>1993.0</td>\n",
       "      <td>O</td>\n",
       "      <td>N</td>\n",
       "      <td>I</td>\n",
       "      <td>M</td>\n",
       "      <td>Y</td>\n",
       "      <td>Not</td>\n",
       "    </tr>\n",
       "    <tr>\n",
       "      <th>149998</th>\n",
       "      <td>3369.0</td>\n",
       "      <td>O</td>\n",
       "      <td>N</td>\n",
       "      <td>O</td>\n",
       "      <td>O</td>\n",
       "      <td>Y</td>\n",
       "      <td>Not</td>\n",
       "    </tr>\n",
       "    <tr>\n",
       "      <th>149999</th>\n",
       "      <td>3089.0</td>\n",
       "      <td>O</td>\n",
       "      <td>N</td>\n",
       "      <td>I</td>\n",
       "      <td>M</td>\n",
       "      <td>Y</td>\n",
       "      <td>Not</td>\n",
       "    </tr>\n",
       "  </tbody>\n",
       "</table>\n",
       "<p>150000 rows × 7 columns</p>\n",
       "</div>"
      ],
      "text/plain": [
       "        line_srvc_cnt place_of_service hcpcs_drug_indicator nppes_entity_code  \\\n",
       "0            332603.0                O                    N                 O   \n",
       "1             37517.0                O                    N                 O   \n",
       "2             97872.0                O                    N                 O   \n",
       "3            108896.0                O                    N                 O   \n",
       "4            586053.0                O                    N                 O   \n",
       "...               ...              ...                  ...               ...   \n",
       "149995         4373.0                O                    N                 O   \n",
       "149996         3288.0                F                    N                 I   \n",
       "149997         1993.0                O                    N                 I   \n",
       "149998         3369.0                O                    N                 O   \n",
       "149999         3089.0                O                    N                 I   \n",
       "\n",
       "       nppes_provider_gender medicare_participation_indicator     leie  \n",
       "0                          O                                Y  On_List  \n",
       "1                          O                                Y  On_List  \n",
       "2                          O                                Y  On_List  \n",
       "3                          O                                Y  On_List  \n",
       "4                          O                                Y  On_List  \n",
       "...                      ...                              ...      ...  \n",
       "149995                     O                                Y      Not  \n",
       "149996                     M                                Y      Not  \n",
       "149997                     M                                Y      Not  \n",
       "149998                     O                                Y      Not  \n",
       "149999                     M                                Y      Not  \n",
       "\n",
       "[150000 rows x 7 columns]"
      ]
     },
     "execution_count": 8,
     "metadata": {},
     "output_type": "execute_result"
    }
   ],
   "source": [
    "# Set features. This will also be used as your x values.\n",
    "selected_features = df[['line_srvc_cnt', 'place_of_service', 'hcpcs_drug_indicator', 'nppes_entity_code', 'nppes_provider_gender',\n",
    "                       'medicare_participation_indicator', 'leie']]\n",
    "selected_features = selected_features.dropna()\n",
    "selected_features"
   ]
  },
  {
   "cell_type": "markdown",
   "metadata": {
    "slideshow": {
     "slide_type": "subslide"
    }
   },
   "source": [
    "## Data Pre-Processing"
   ]
  },
  {
   "cell_type": "code",
   "execution_count": 9,
   "metadata": {},
   "outputs": [
    {
     "name": "stdout",
     "output_type": "stream",
     "text": [
      "<class 'pandas.core.frame.DataFrame'>\n",
      "Int64Index: 150000 entries, 0 to 149999\n",
      "Data columns (total 6 columns):\n",
      " #   Column                            Non-Null Count   Dtype  \n",
      "---  ------                            --------------   -----  \n",
      " 0   line_srvc_cnt                     150000 non-null  float64\n",
      " 1   place_of_service                  150000 non-null  object \n",
      " 2   hcpcs_drug_indicator              150000 non-null  object \n",
      " 3   nppes_entity_code                 150000 non-null  object \n",
      " 4   nppes_provider_gender             150000 non-null  object \n",
      " 5   medicare_participation_indicator  150000 non-null  object \n",
      "dtypes: float64(1), object(5)\n",
      "memory usage: 8.0+ MB\n"
     ]
    }
   ],
   "source": [
    "disposition = selected_features[\"leie\"]\n",
    "disposition_names = [\"Not\", \"On_List\"]\n",
    "selected_features = selected_features.drop(\"leie\", axis=1)\n",
    "feature_names = selected_features.columns\n",
    "selected_features.info()"
   ]
  },
  {
   "cell_type": "code",
   "execution_count": 10,
   "metadata": {},
   "outputs": [
    {
     "name": "stdout",
     "output_type": "stream",
     "text": [
      "<class 'pandas.core.frame.DataFrame'>\n",
      "Int64Index: 150000 entries, 0 to 149999\n",
      "Data columns (total 1 columns):\n",
      " #   Column  Non-Null Count   Dtype \n",
      "---  ------  --------------   ----- \n",
      " 0   leie    150000 non-null  object\n",
      "dtypes: object(1)\n",
      "memory usage: 2.3+ MB\n"
     ]
    }
   ],
   "source": [
    "mike_df2 = disposition\n",
    "mike3 = mike_df2.to_frame()\n",
    "mike3.info()"
   ]
  },
  {
   "cell_type": "code",
   "execution_count": 11,
   "metadata": {},
   "outputs": [
    {
     "data": {
      "text/plain": [
       "Not        89678\n",
       "On_List    60322\n",
       "Name: leie, dtype: int64"
      ]
     },
     "execution_count": 11,
     "metadata": {},
     "output_type": "execute_result"
    }
   ],
   "source": [
    "mike3.leie.value_counts()"
   ]
  },
  {
   "cell_type": "code",
   "execution_count": 12,
   "metadata": {},
   "outputs": [
    {
     "data": {
      "text/html": [
       "<div>\n",
       "<style scoped>\n",
       "    .dataframe tbody tr th:only-of-type {\n",
       "        vertical-align: middle;\n",
       "    }\n",
       "\n",
       "    .dataframe tbody tr th {\n",
       "        vertical-align: top;\n",
       "    }\n",
       "\n",
       "    .dataframe thead th {\n",
       "        text-align: right;\n",
       "    }\n",
       "</style>\n",
       "<table border=\"1\" class=\"dataframe\">\n",
       "  <thead>\n",
       "    <tr style=\"text-align: right;\">\n",
       "      <th></th>\n",
       "      <th>line_srvc_cnt</th>\n",
       "      <th>place_of_service_F</th>\n",
       "      <th>place_of_service_O</th>\n",
       "      <th>hcpcs_drug_indicator_N</th>\n",
       "      <th>hcpcs_drug_indicator_Y</th>\n",
       "      <th>nppes_entity_code_I</th>\n",
       "      <th>nppes_entity_code_O</th>\n",
       "      <th>nppes_provider_gender_F</th>\n",
       "      <th>nppes_provider_gender_M</th>\n",
       "      <th>nppes_provider_gender_O</th>\n",
       "      <th>medicare_participation_indicator_Y</th>\n",
       "    </tr>\n",
       "  </thead>\n",
       "  <tbody>\n",
       "    <tr>\n",
       "      <th>0</th>\n",
       "      <td>332603.0</td>\n",
       "      <td>0</td>\n",
       "      <td>1</td>\n",
       "      <td>1</td>\n",
       "      <td>0</td>\n",
       "      <td>0</td>\n",
       "      <td>1</td>\n",
       "      <td>0</td>\n",
       "      <td>0</td>\n",
       "      <td>1</td>\n",
       "      <td>1</td>\n",
       "    </tr>\n",
       "    <tr>\n",
       "      <th>1</th>\n",
       "      <td>37517.0</td>\n",
       "      <td>0</td>\n",
       "      <td>1</td>\n",
       "      <td>1</td>\n",
       "      <td>0</td>\n",
       "      <td>0</td>\n",
       "      <td>1</td>\n",
       "      <td>0</td>\n",
       "      <td>0</td>\n",
       "      <td>1</td>\n",
       "      <td>1</td>\n",
       "    </tr>\n",
       "    <tr>\n",
       "      <th>2</th>\n",
       "      <td>97872.0</td>\n",
       "      <td>0</td>\n",
       "      <td>1</td>\n",
       "      <td>1</td>\n",
       "      <td>0</td>\n",
       "      <td>0</td>\n",
       "      <td>1</td>\n",
       "      <td>0</td>\n",
       "      <td>0</td>\n",
       "      <td>1</td>\n",
       "      <td>1</td>\n",
       "    </tr>\n",
       "    <tr>\n",
       "      <th>3</th>\n",
       "      <td>108896.0</td>\n",
       "      <td>0</td>\n",
       "      <td>1</td>\n",
       "      <td>1</td>\n",
       "      <td>0</td>\n",
       "      <td>0</td>\n",
       "      <td>1</td>\n",
       "      <td>0</td>\n",
       "      <td>0</td>\n",
       "      <td>1</td>\n",
       "      <td>1</td>\n",
       "    </tr>\n",
       "    <tr>\n",
       "      <th>4</th>\n",
       "      <td>586053.0</td>\n",
       "      <td>0</td>\n",
       "      <td>1</td>\n",
       "      <td>1</td>\n",
       "      <td>0</td>\n",
       "      <td>0</td>\n",
       "      <td>1</td>\n",
       "      <td>0</td>\n",
       "      <td>0</td>\n",
       "      <td>1</td>\n",
       "      <td>1</td>\n",
       "    </tr>\n",
       "    <tr>\n",
       "      <th>...</th>\n",
       "      <td>...</td>\n",
       "      <td>...</td>\n",
       "      <td>...</td>\n",
       "      <td>...</td>\n",
       "      <td>...</td>\n",
       "      <td>...</td>\n",
       "      <td>...</td>\n",
       "      <td>...</td>\n",
       "      <td>...</td>\n",
       "      <td>...</td>\n",
       "      <td>...</td>\n",
       "    </tr>\n",
       "    <tr>\n",
       "      <th>149995</th>\n",
       "      <td>4373.0</td>\n",
       "      <td>0</td>\n",
       "      <td>1</td>\n",
       "      <td>1</td>\n",
       "      <td>0</td>\n",
       "      <td>0</td>\n",
       "      <td>1</td>\n",
       "      <td>0</td>\n",
       "      <td>0</td>\n",
       "      <td>1</td>\n",
       "      <td>1</td>\n",
       "    </tr>\n",
       "    <tr>\n",
       "      <th>149996</th>\n",
       "      <td>3288.0</td>\n",
       "      <td>1</td>\n",
       "      <td>0</td>\n",
       "      <td>1</td>\n",
       "      <td>0</td>\n",
       "      <td>1</td>\n",
       "      <td>0</td>\n",
       "      <td>0</td>\n",
       "      <td>1</td>\n",
       "      <td>0</td>\n",
       "      <td>1</td>\n",
       "    </tr>\n",
       "    <tr>\n",
       "      <th>149997</th>\n",
       "      <td>1993.0</td>\n",
       "      <td>0</td>\n",
       "      <td>1</td>\n",
       "      <td>1</td>\n",
       "      <td>0</td>\n",
       "      <td>1</td>\n",
       "      <td>0</td>\n",
       "      <td>0</td>\n",
       "      <td>1</td>\n",
       "      <td>0</td>\n",
       "      <td>1</td>\n",
       "    </tr>\n",
       "    <tr>\n",
       "      <th>149998</th>\n",
       "      <td>3369.0</td>\n",
       "      <td>0</td>\n",
       "      <td>1</td>\n",
       "      <td>1</td>\n",
       "      <td>0</td>\n",
       "      <td>0</td>\n",
       "      <td>1</td>\n",
       "      <td>0</td>\n",
       "      <td>0</td>\n",
       "      <td>1</td>\n",
       "      <td>1</td>\n",
       "    </tr>\n",
       "    <tr>\n",
       "      <th>149999</th>\n",
       "      <td>3089.0</td>\n",
       "      <td>0</td>\n",
       "      <td>1</td>\n",
       "      <td>1</td>\n",
       "      <td>0</td>\n",
       "      <td>1</td>\n",
       "      <td>0</td>\n",
       "      <td>0</td>\n",
       "      <td>1</td>\n",
       "      <td>0</td>\n",
       "      <td>1</td>\n",
       "    </tr>\n",
       "  </tbody>\n",
       "</table>\n",
       "<p>150000 rows × 11 columns</p>\n",
       "</div>"
      ],
      "text/plain": [
       "        line_srvc_cnt  place_of_service_F  place_of_service_O  \\\n",
       "0            332603.0                   0                   1   \n",
       "1             37517.0                   0                   1   \n",
       "2             97872.0                   0                   1   \n",
       "3            108896.0                   0                   1   \n",
       "4            586053.0                   0                   1   \n",
       "...               ...                 ...                 ...   \n",
       "149995         4373.0                   0                   1   \n",
       "149996         3288.0                   1                   0   \n",
       "149997         1993.0                   0                   1   \n",
       "149998         3369.0                   0                   1   \n",
       "149999         3089.0                   0                   1   \n",
       "\n",
       "        hcpcs_drug_indicator_N  hcpcs_drug_indicator_Y  nppes_entity_code_I  \\\n",
       "0                            1                       0                    0   \n",
       "1                            1                       0                    0   \n",
       "2                            1                       0                    0   \n",
       "3                            1                       0                    0   \n",
       "4                            1                       0                    0   \n",
       "...                        ...                     ...                  ...   \n",
       "149995                       1                       0                    0   \n",
       "149996                       1                       0                    1   \n",
       "149997                       1                       0                    1   \n",
       "149998                       1                       0                    0   \n",
       "149999                       1                       0                    1   \n",
       "\n",
       "        nppes_entity_code_O  nppes_provider_gender_F  nppes_provider_gender_M  \\\n",
       "0                         1                        0                        0   \n",
       "1                         1                        0                        0   \n",
       "2                         1                        0                        0   \n",
       "3                         1                        0                        0   \n",
       "4                         1                        0                        0   \n",
       "...                     ...                      ...                      ...   \n",
       "149995                    1                        0                        0   \n",
       "149996                    0                        0                        1   \n",
       "149997                    0                        0                        1   \n",
       "149998                    1                        0                        0   \n",
       "149999                    0                        0                        1   \n",
       "\n",
       "        nppes_provider_gender_O  medicare_participation_indicator_Y  \n",
       "0                             1                                   1  \n",
       "1                             1                                   1  \n",
       "2                             1                                   1  \n",
       "3                             1                                   1  \n",
       "4                             1                                   1  \n",
       "...                         ...                                 ...  \n",
       "149995                        1                                   1  \n",
       "149996                        0                                   1  \n",
       "149997                        0                                   1  \n",
       "149998                        1                                   1  \n",
       "149999                        0                                   1  \n",
       "\n",
       "[150000 rows x 11 columns]"
      ]
     },
     "execution_count": 12,
     "metadata": {},
     "output_type": "execute_result"
    }
   ],
   "source": [
    "data = pd.get_dummies(selected_features)\n",
    "data"
   ]
  },
  {
   "cell_type": "code",
   "execution_count": 13,
   "metadata": {},
   "outputs": [
    {
     "name": "stdout",
     "output_type": "stream",
     "text": [
      "<class 'pandas.core.frame.DataFrame'>\n",
      "Int64Index: 150000 entries, 0 to 149999\n",
      "Data columns (total 7 columns):\n",
      " #   Column                   Non-Null Count   Dtype  \n",
      "---  ------                   --------------   -----  \n",
      " 0   line_srvc_cnt            150000 non-null  float64\n",
      " 1   place_of_service_F       150000 non-null  uint8  \n",
      " 2   hcpcs_drug_indicator_N   150000 non-null  uint8  \n",
      " 3   nppes_entity_code_I      150000 non-null  uint8  \n",
      " 4   nppes_provider_gender_F  150000 non-null  uint8  \n",
      " 5   nppes_provider_gender_M  150000 non-null  uint8  \n",
      " 6   nppes_provider_gender_O  150000 non-null  uint8  \n",
      "dtypes: float64(1), uint8(6)\n",
      "memory usage: 3.1 MB\n"
     ]
    }
   ],
   "source": [
    "data = data.drop(['nppes_entity_code_O', 'medicare_participation_indicator_Y', 'place_of_service_O', 'hcpcs_drug_indicator_Y'], axis=1)\n",
    "data.info()"
   ]
  },
  {
   "cell_type": "code",
   "execution_count": 14,
   "metadata": {
    "nbgrader": {
     "grade": false,
     "grade_id": "cell-86a9e3212f200d21",
     "locked": false,
     "schema_version": 1,
     "solution": true
    },
    "slideshow": {
     "slide_type": "subslide"
    }
   },
   "outputs": [
    {
     "name": "stdout",
     "output_type": "stream",
     "text": [
      "(150000, 7) (150000,)\n"
     ]
    }
   ],
   "source": [
    "X = data\n",
    "y = disposition\n",
    "print(X.shape, y.shape)"
   ]
  },
  {
   "cell_type": "code",
   "execution_count": 15,
   "metadata": {
    "nbgrader": {
     "grade": false,
     "grade_id": "cell-711a82d9b32c83ff",
     "locked": false,
     "schema_version": 1,
     "solution": true
    },
    "slideshow": {
     "slide_type": "fragment"
    }
   },
   "outputs": [],
   "source": [
    "from sklearn.model_selection import train_test_split\n",
    "from sklearn.preprocessing import LabelEncoder, MinMaxScaler\n",
    "from tensorflow.keras.utils import to_categorical"
   ]
  },
  {
   "cell_type": "code",
   "execution_count": 16,
   "metadata": {
    "nbgrader": {
     "grade": false,
     "grade_id": "cell-711a82d9b32c83ff",
     "locked": false,
     "schema_version": 1,
     "solution": true
    },
    "slideshow": {
     "slide_type": "fragment"
    }
   },
   "outputs": [],
   "source": [
    "X_train, X_test, y_train, y_test = train_test_split(\n",
    "    X, y, random_state=1)"
   ]
  },
  {
   "cell_type": "code",
   "execution_count": 17,
   "metadata": {
    "nbgrader": {
     "grade": false,
     "grade_id": "cell-711a82d9b32c83ff",
     "locked": false,
     "schema_version": 1,
     "solution": true
    },
    "slideshow": {
     "slide_type": "fragment"
    }
   },
   "outputs": [],
   "source": [
    "X_scaler = MinMaxScaler().fit(X_train)\n",
    "X_train_scaled = X_scaler.transform(X_train)\n",
    "X_test_scaled = X_scaler.transform(X_test)"
   ]
  },
  {
   "cell_type": "code",
   "execution_count": 18,
   "metadata": {
    "nbgrader": {
     "grade": false,
     "grade_id": "cell-711a82d9b32c83ff",
     "locked": false,
     "schema_version": 1,
     "solution": true
    },
    "slideshow": {
     "slide_type": "fragment"
    }
   },
   "outputs": [],
   "source": [
    "# Step 1: Label-encode data set\n",
    "label_encoder = LabelEncoder()\n",
    "label_encoder.fit(y_train)\n",
    "encoded_y_train = label_encoder.transform(y_train)\n",
    "encoded_y_test = label_encoder.transform(y_test)"
   ]
  },
  {
   "cell_type": "code",
   "execution_count": 19,
   "metadata": {
    "nbgrader": {
     "grade": false,
     "grade_id": "cell-711a82d9b32c83ff",
     "locked": false,
     "schema_version": 1,
     "solution": true
    },
    "slideshow": {
     "slide_type": "fragment"
    }
   },
   "outputs": [],
   "source": [
    "# Step 2: Convert encoded labels to one-hot-encoding\n",
    "y_train_categorical = to_categorical(encoded_y_train)\n",
    "y_test_categorical = to_categorical(encoded_y_test)"
   ]
  },
  {
   "cell_type": "markdown",
   "metadata": {},
   "source": [
    "# Create a Deep Learning Model"
   ]
  },
  {
   "cell_type": "code",
   "execution_count": 20,
   "metadata": {},
   "outputs": [],
   "source": [
    "from tensorflow.keras.models import Sequential\n",
    "from tensorflow.keras.layers import Dense"
   ]
  },
  {
   "cell_type": "code",
   "execution_count": 28,
   "metadata": {},
   "outputs": [],
   "source": [
    "# Create model and add layers\n",
    "model = Sequential()\n",
    "model.add(Dense(units=100, activation='relu', input_dim=7))\n",
    "model.add(Dense(units=100, activation='relu'))\n",
    "model.add(Dense(units=2, activation='softmax'))"
   ]
  },
  {
   "cell_type": "code",
   "execution_count": 29,
   "metadata": {},
   "outputs": [],
   "source": [
    "# Compile and fit the model\n",
    "model.compile(optimizer='adam',\n",
    "              loss='categorical_crossentropy',\n",
    "              metrics=['accuracy'])"
   ]
  },
  {
   "cell_type": "code",
   "execution_count": 30,
   "metadata": {},
   "outputs": [
    {
     "name": "stdout",
     "output_type": "stream",
     "text": [
      "Model: \"sequential_1\"\n",
      "_________________________________________________________________\n",
      "Layer (type)                 Output Shape              Param #   \n",
      "=================================================================\n",
      "dense_3 (Dense)              (None, 100)               800       \n",
      "_________________________________________________________________\n",
      "dense_4 (Dense)              (None, 100)               10100     \n",
      "_________________________________________________________________\n",
      "dense_5 (Dense)              (None, 2)                 202       \n",
      "=================================================================\n",
      "Total params: 11,102\n",
      "Trainable params: 11,102\n",
      "Non-trainable params: 0\n",
      "_________________________________________________________________\n"
     ]
    }
   ],
   "source": [
    "model.summary()"
   ]
  },
  {
   "cell_type": "code",
   "execution_count": 31,
   "metadata": {},
   "outputs": [
    {
     "name": "stdout",
     "output_type": "stream",
     "text": [
      "(112500, 7) (112500, 2)\n"
     ]
    }
   ],
   "source": [
    "print(X_train_scaled.shape, y_train_categorical.shape)"
   ]
  },
  {
   "cell_type": "code",
   "execution_count": 32,
   "metadata": {},
   "outputs": [
    {
     "data": {
      "text/plain": [
       "array([[1.04265456e-05, 0.00000000e+00, 0.00000000e+00, ...,\n",
       "        0.00000000e+00, 1.00000000e+00, 0.00000000e+00],\n",
       "       [3.37187969e-02, 0.00000000e+00, 1.00000000e+00, ...,\n",
       "        0.00000000e+00, 0.00000000e+00, 1.00000000e+00],\n",
       "       [1.04265456e-05, 0.00000000e+00, 1.00000000e+00, ...,\n",
       "        0.00000000e+00, 1.00000000e+00, 0.00000000e+00],\n",
       "       ...,\n",
       "       [4.01856446e-05, 0.00000000e+00, 1.00000000e+00, ...,\n",
       "        1.00000000e+00, 0.00000000e+00, 0.00000000e+00],\n",
       "       [1.92456655e-04, 0.00000000e+00, 1.00000000e+00, ...,\n",
       "        0.00000000e+00, 1.00000000e+00, 0.00000000e+00],\n",
       "       [4.82879395e-04, 1.00000000e+00, 1.00000000e+00, ...,\n",
       "        0.00000000e+00, 1.00000000e+00, 0.00000000e+00]])"
      ]
     },
     "execution_count": 32,
     "metadata": {},
     "output_type": "execute_result"
    }
   ],
   "source": [
    "X_train_scaled"
   ]
  },
  {
   "cell_type": "code",
   "execution_count": 33,
   "metadata": {},
   "outputs": [
    {
     "data": {
      "text/plain": [
       "array([[0., 1.],\n",
       "       [1., 0.],\n",
       "       [0., 1.],\n",
       "       ...,\n",
       "       [0., 1.],\n",
       "       [0., 1.],\n",
       "       [1., 0.]], dtype=float32)"
      ]
     },
     "execution_count": 33,
     "metadata": {},
     "output_type": "execute_result"
    }
   ],
   "source": [
    "y_train_categorical"
   ]
  },
  {
   "cell_type": "code",
   "execution_count": 34,
   "metadata": {},
   "outputs": [
    {
     "name": "stdout",
     "output_type": "stream",
     "text": [
      "Epoch 1/60\n",
      "3516/3516 - 2s - loss: 0.3941 - accuracy: 0.8152\n",
      "Epoch 2/60\n",
      "3516/3516 - 2s - loss: 0.3788 - accuracy: 0.8233\n",
      "Epoch 3/60\n",
      "3516/3516 - 2s - loss: 0.2353 - accuracy: 0.9177\n",
      "Epoch 4/60\n",
      "3516/3516 - 2s - loss: 0.1271 - accuracy: 0.9615\n",
      "Epoch 5/60\n",
      "3516/3516 - 2s - loss: 0.1103 - accuracy: 0.9648\n",
      "Epoch 6/60\n",
      "3516/3516 - 2s - loss: 0.0952 - accuracy: 0.9715\n",
      "Epoch 7/60\n",
      "3516/3516 - 2s - loss: 0.0837 - accuracy: 0.9769\n",
      "Epoch 8/60\n",
      "3516/3516 - 2s - loss: 0.0737 - accuracy: 0.9798\n",
      "Epoch 9/60\n",
      "3516/3516 - 2s - loss: 0.0703 - accuracy: 0.9810\n",
      "Epoch 10/60\n",
      "3516/3516 - 2s - loss: 0.0673 - accuracy: 0.9818\n",
      "Epoch 11/60\n",
      "3516/3516 - 2s - loss: 0.0658 - accuracy: 0.9816\n",
      "Epoch 12/60\n",
      "3516/3516 - 2s - loss: 0.0668 - accuracy: 0.9817\n",
      "Epoch 13/60\n",
      "3516/3516 - 2s - loss: 0.0653 - accuracy: 0.9821\n",
      "Epoch 14/60\n",
      "3516/3516 - 2s - loss: 0.0649 - accuracy: 0.9818\n",
      "Epoch 15/60\n",
      "3516/3516 - 2s - loss: 0.0636 - accuracy: 0.9826\n",
      "Epoch 16/60\n",
      "3516/3516 - 2s - loss: 0.0645 - accuracy: 0.9820\n",
      "Epoch 17/60\n",
      "3516/3516 - 2s - loss: 0.0627 - accuracy: 0.9828\n",
      "Epoch 18/60\n",
      "3516/3516 - 2s - loss: 0.0646 - accuracy: 0.9821\n",
      "Epoch 19/60\n",
      "3516/3516 - 2s - loss: 0.0622 - accuracy: 0.9829\n",
      "Epoch 20/60\n",
      "3516/3516 - 2s - loss: 0.0632 - accuracy: 0.9825\n",
      "Epoch 21/60\n",
      "3516/3516 - 2s - loss: 0.0619 - accuracy: 0.9830\n",
      "Epoch 22/60\n",
      "3516/3516 - 2s - loss: 0.0621 - accuracy: 0.9832\n",
      "Epoch 23/60\n",
      "3516/3516 - 2s - loss: 0.0622 - accuracy: 0.9829\n",
      "Epoch 24/60\n",
      "3516/3516 - 2s - loss: 0.0619 - accuracy: 0.9833\n",
      "Epoch 25/60\n",
      "3516/3516 - 2s - loss: 0.0633 - accuracy: 0.9827\n",
      "Epoch 26/60\n",
      "3516/3516 - 2s - loss: 0.0613 - accuracy: 0.9835\n",
      "Epoch 27/60\n",
      "3516/3516 - 2s - loss: 0.0618 - accuracy: 0.9832\n",
      "Epoch 28/60\n",
      "3516/3516 - 2s - loss: 0.0613 - accuracy: 0.9831\n",
      "Epoch 29/60\n",
      "3516/3516 - 2s - loss: 0.0614 - accuracy: 0.9831\n",
      "Epoch 30/60\n",
      "3516/3516 - 2s - loss: 0.0603 - accuracy: 0.9840\n",
      "Epoch 31/60\n",
      "3516/3516 - 2s - loss: 0.0608 - accuracy: 0.9837\n",
      "Epoch 32/60\n",
      "3516/3516 - 2s - loss: 0.0616 - accuracy: 0.9831\n",
      "Epoch 33/60\n",
      "3516/3516 - 2s - loss: 0.0601 - accuracy: 0.9839\n",
      "Epoch 34/60\n",
      "3516/3516 - 2s - loss: 0.0605 - accuracy: 0.9834\n",
      "Epoch 35/60\n",
      "3516/3516 - 2s - loss: 0.0598 - accuracy: 0.9841\n",
      "Epoch 36/60\n",
      "3516/3516 - 2s - loss: 0.0613 - accuracy: 0.9834\n",
      "Epoch 37/60\n",
      "3516/3516 - 2s - loss: 0.0604 - accuracy: 0.9836\n",
      "Epoch 38/60\n",
      "3516/3516 - 3s - loss: 0.0594 - accuracy: 0.9840\n",
      "Epoch 39/60\n",
      "3516/3516 - 2s - loss: 0.0598 - accuracy: 0.9842\n",
      "Epoch 40/60\n",
      "3516/3516 - 2s - loss: 0.0599 - accuracy: 0.9838\n",
      "Epoch 41/60\n",
      "3516/3516 - 2s - loss: 0.0588 - accuracy: 0.9843\n",
      "Epoch 42/60\n",
      "3516/3516 - 2s - loss: 0.0589 - accuracy: 0.9841\n",
      "Epoch 43/60\n",
      "3516/3516 - 2s - loss: 0.0608 - accuracy: 0.9837\n",
      "Epoch 44/60\n",
      "3516/3516 - 2s - loss: 0.0583 - accuracy: 0.9845\n",
      "Epoch 45/60\n",
      "3516/3516 - 2s - loss: 0.0590 - accuracy: 0.9840\n",
      "Epoch 46/60\n",
      "3516/3516 - 2s - loss: 0.0588 - accuracy: 0.9842\n",
      "Epoch 47/60\n",
      "3516/3516 - 2s - loss: 0.0585 - accuracy: 0.9843\n",
      "Epoch 48/60\n",
      "3516/3516 - 2s - loss: 0.0585 - accuracy: 0.9844\n",
      "Epoch 49/60\n",
      "3516/3516 - 2s - loss: 0.0584 - accuracy: 0.9843\n",
      "Epoch 50/60\n",
      "3516/3516 - 2s - loss: 0.0595 - accuracy: 0.9843\n",
      "Epoch 51/60\n",
      "3516/3516 - 2s - loss: 0.0587 - accuracy: 0.9845\n",
      "Epoch 52/60\n",
      "3516/3516 - 2s - loss: 0.0579 - accuracy: 0.9847\n",
      "Epoch 53/60\n",
      "3516/3516 - 2s - loss: 0.0576 - accuracy: 0.9848\n",
      "Epoch 54/60\n",
      "3516/3516 - 2s - loss: 0.0584 - accuracy: 0.9839\n",
      "Epoch 55/60\n",
      "3516/3516 - 2s - loss: 0.0587 - accuracy: 0.9843\n",
      "Epoch 56/60\n",
      "3516/3516 - 2s - loss: 0.0583 - accuracy: 0.9846\n",
      "Epoch 57/60\n",
      "3516/3516 - 2s - loss: 0.0586 - accuracy: 0.9844\n",
      "Epoch 58/60\n",
      "3516/3516 - 2s - loss: 0.0569 - accuracy: 0.9849\n",
      "Epoch 59/60\n",
      "3516/3516 - 2s - loss: 0.0586 - accuracy: 0.9845\n",
      "Epoch 60/60\n",
      "3516/3516 - 2s - loss: 0.0581 - accuracy: 0.9846\n"
     ]
    },
    {
     "data": {
      "text/plain": [
       "<tensorflow.python.keras.callbacks.History at 0x1f1ff73fd88>"
      ]
     },
     "execution_count": 34,
     "metadata": {},
     "output_type": "execute_result"
    }
   ],
   "source": [
    "model.fit(\n",
    "    X_train_scaled,\n",
    "    y_train_categorical,\n",
    "    epochs=60,\n",
    "    shuffle=True,\n",
    "    verbose=2\n",
    ")"
   ]
  },
  {
   "cell_type": "markdown",
   "metadata": {},
   "source": [
    "## Quantify our Trained Model"
   ]
  },
  {
   "cell_type": "code",
   "execution_count": 35,
   "metadata": {},
   "outputs": [
    {
     "name": "stdout",
     "output_type": "stream",
     "text": [
      "1172/1172 - 0s - loss: 0.0513 - accuracy: 0.9868\n",
      "Normal Neural Network - Loss: 0.051271989941596985, Accuracy: 0.9868266582489014\n"
     ]
    }
   ],
   "source": [
    "model_loss, model_accuracy = model.evaluate(\n",
    "    X_test_scaled, y_test_categorical, verbose=2)\n",
    "print(\n",
    "    f\"Normal Neural Network - Loss: {model_loss}, Accuracy: {model_accuracy}\")"
   ]
  },
  {
   "cell_type": "markdown",
   "metadata": {
    "slideshow": {
     "slide_type": "subslide"
    }
   },
   "source": [
    "## Make Predictions"
   ]
  },
  {
   "cell_type": "code",
   "execution_count": 36,
   "metadata": {
    "nbgrader": {
     "grade": false,
     "grade_id": "cell-f97eb3e97245187b",
     "locked": false,
     "schema_version": 1,
     "solution": true
    },
    "slideshow": {
     "slide_type": "fragment"
    }
   },
   "outputs": [
    {
     "name": "stdout",
     "output_type": "stream",
     "text": [
      "WARNING:tensorflow:From <ipython-input-36-229a01f4c5fc>:1: Sequential.predict_classes (from tensorflow.python.keras.engine.sequential) is deprecated and will be removed after 2021-01-01.\n",
      "Instructions for updating:\n",
      "Please use instead:* `np.argmax(model.predict(x), axis=-1)`,   if your model does multi-class classification   (e.g. if it uses a `softmax` last-layer activation).* `(model.predict(x) > 0.5).astype(\"int32\")`,   if your model does binary classification   (e.g. if it uses a `sigmoid` last-layer activation).\n"
     ]
    }
   ],
   "source": [
    "encoded_predictions = model.predict_classes(X_test_scaled[:1000])\n",
    "prediction_labels = label_encoder.inverse_transform(encoded_predictions)"
   ]
  },
  {
   "cell_type": "code",
   "execution_count": 37,
   "metadata": {},
   "outputs": [
    {
     "name": "stdout",
     "output_type": "stream",
     "text": [
      "Predicted classes: ['On_List' 'Not' 'Not' 'Not' 'Not' 'Not' 'Not' 'Not' 'Not' 'Not' 'On_List'\n",
      " 'Not' 'Not' 'Not' 'On_List' 'Not' 'Not' 'On_List' 'On_List' 'Not' 'Not'\n",
      " 'On_List' 'Not' 'Not' 'Not' 'On_List' 'Not' 'On_List' 'Not' 'Not'\n",
      " 'On_List' 'On_List' 'Not' 'Not' 'Not' 'Not' 'Not' 'Not' 'Not' 'On_List'\n",
      " 'Not' 'Not' 'Not' 'On_List' 'Not' 'On_List' 'Not' 'Not' 'On_List' 'Not'\n",
      " 'Not' 'On_List' 'Not' 'Not' 'Not' 'Not' 'On_List' 'Not' 'On_List' 'Not'\n",
      " 'On_List' 'On_List' 'Not' 'Not' 'On_List' 'On_List' 'On_List' 'Not' 'Not'\n",
      " 'On_List' 'Not' 'Not' 'On_List' 'Not' 'On_List' 'Not' 'On_List' 'Not'\n",
      " 'Not' 'Not' 'Not' 'Not' 'Not' 'On_List' 'Not' 'On_List' 'On_List'\n",
      " 'On_List' 'Not' 'On_List' 'On_List' 'On_List' 'On_List' 'On_List' 'Not'\n",
      " 'Not' 'On_List' 'On_List' 'On_List' 'On_List' 'Not' 'Not' 'Not' 'On_List'\n",
      " 'On_List' 'On_List' 'Not' 'Not' 'Not' 'Not' 'Not' 'On_List' 'On_List'\n",
      " 'On_List' 'Not' 'Not' 'On_List' 'On_List' 'Not' 'Not' 'Not' 'Not'\n",
      " 'On_List' 'On_List' 'Not' 'Not' 'Not' 'Not' 'On_List' 'On_List' 'Not'\n",
      " 'On_List' 'Not' 'Not' 'Not' 'On_List' 'Not' 'On_List' 'Not' 'Not' 'Not'\n",
      " 'On_List' 'Not' 'Not' 'Not' 'Not' 'Not' 'On_List' 'On_List' 'On_List'\n",
      " 'On_List' 'Not' 'On_List' 'Not' 'Not' 'Not' 'Not' 'Not' 'Not' 'On_List'\n",
      " 'On_List' 'On_List' 'Not' 'On_List' 'On_List' 'On_List' 'Not' 'Not'\n",
      " 'On_List' 'Not' 'Not' 'On_List' 'Not' 'Not' 'Not' 'Not' 'Not' 'Not' 'Not'\n",
      " 'Not' 'On_List' 'Not' 'Not' 'On_List' 'On_List' 'On_List' 'Not' 'Not'\n",
      " 'On_List' 'Not' 'Not' 'On_List' 'Not' 'Not' 'Not' 'Not' 'Not' 'Not' 'Not'\n",
      " 'Not' 'Not' 'Not' 'On_List' 'Not' 'Not' 'On_List' 'On_List' 'Not'\n",
      " 'On_List' 'Not' 'Not' 'Not' 'Not' 'Not' 'Not' 'On_List' 'Not' 'Not'\n",
      " 'On_List' 'Not' 'On_List' 'Not' 'Not' 'Not' 'On_List' 'Not' 'On_List'\n",
      " 'On_List' 'Not' 'Not' 'Not' 'On_List' 'Not' 'Not' 'Not' 'On_List' 'Not'\n",
      " 'Not' 'Not' 'Not' 'Not' 'Not' 'Not' 'On_List' 'Not' 'Not' 'Not' 'On_List'\n",
      " 'Not' 'Not' 'Not' 'On_List' 'Not' 'Not' 'Not' 'On_List' 'On_List'\n",
      " 'On_List' 'Not' 'Not' 'Not' 'Not' 'Not' 'On_List' 'Not' 'On_List'\n",
      " 'On_List' 'Not' 'Not' 'Not' 'On_List' 'Not' 'Not' 'On_List' 'Not'\n",
      " 'On_List' 'On_List' 'Not' 'Not' 'Not' 'Not' 'On_List' 'Not' 'Not' 'Not'\n",
      " 'Not' 'On_List' 'Not' 'Not' 'Not' 'On_List' 'On_List' 'Not' 'Not' 'Not'\n",
      " 'Not' 'Not' 'Not' 'On_List' 'Not' 'On_List' 'On_List' 'On_List' 'Not'\n",
      " 'On_List' 'Not' 'Not' 'Not' 'Not' 'Not' 'Not' 'On_List' 'On_List'\n",
      " 'On_List' 'On_List' 'Not' 'Not' 'On_List' 'Not' 'On_List' 'Not' 'On_List'\n",
      " 'Not' 'Not' 'Not' 'Not' 'Not' 'Not' 'Not' 'Not' 'Not' 'On_List' 'On_List'\n",
      " 'Not' 'On_List' 'Not' 'Not' 'Not' 'On_List' 'Not' 'Not' 'On_List'\n",
      " 'On_List' 'Not' 'Not' 'On_List' 'On_List' 'Not' 'Not' 'On_List' 'Not'\n",
      " 'Not' 'On_List' 'On_List' 'On_List' 'Not' 'Not' 'Not' 'Not' 'Not' 'Not'\n",
      " 'Not' 'Not' 'Not' 'Not' 'On_List' 'Not' 'On_List' 'On_List' 'Not'\n",
      " 'On_List' 'On_List' 'Not' 'Not' 'On_List' 'On_List' 'On_List' 'Not' 'Not'\n",
      " 'On_List' 'Not' 'Not' 'On_List' 'On_List' 'Not' 'Not' 'On_List' 'Not'\n",
      " 'On_List' 'Not' 'On_List' 'Not' 'On_List' 'Not' 'On_List' 'Not' 'Not'\n",
      " 'Not' 'On_List' 'Not' 'Not' 'On_List' 'Not' 'On_List' 'Not' 'Not' 'Not'\n",
      " 'On_List' 'Not' 'On_List' 'On_List' 'Not' 'Not' 'On_List' 'On_List' 'Not'\n",
      " 'On_List' 'Not' 'Not' 'Not' 'Not' 'Not' 'On_List' 'Not' 'Not' 'Not'\n",
      " 'On_List' 'On_List' 'On_List' 'On_List' 'Not' 'Not' 'Not' 'Not' 'Not'\n",
      " 'Not' 'On_List' 'Not' 'On_List' 'Not' 'Not' 'Not' 'Not' 'Not' 'Not'\n",
      " 'On_List' 'Not' 'Not' 'On_List' 'On_List' 'Not' 'Not' 'Not' 'On_List'\n",
      " 'Not' 'Not' 'On_List' 'Not' 'Not' 'Not' 'On_List' 'Not' 'Not' 'Not'\n",
      " 'On_List' 'Not' 'Not' 'Not' 'Not' 'Not' 'Not' 'On_List' 'Not' 'Not' 'Not'\n",
      " 'Not' 'On_List' 'On_List' 'Not' 'Not' 'Not' 'On_List' 'On_List' 'On_List'\n",
      " 'Not' 'On_List' 'Not' 'Not' 'Not' 'On_List' 'Not' 'Not' 'On_List' 'Not'\n",
      " 'On_List' 'On_List' 'Not' 'Not' 'On_List' 'Not' 'On_List' 'On_List' 'Not'\n",
      " 'Not' 'Not' 'On_List' 'Not' 'Not' 'Not' 'On_List' 'On_List' 'On_List'\n",
      " 'Not' 'On_List' 'On_List' 'On_List' 'On_List' 'Not' 'Not' 'Not' 'Not'\n",
      " 'Not' 'On_List' 'Not' 'Not' 'On_List' 'Not' 'Not' 'Not' 'Not' 'Not' 'Not'\n",
      " 'On_List' 'Not' 'Not' 'Not' 'On_List' 'Not' 'Not' 'On_List' 'On_List'\n",
      " 'On_List' 'On_List' 'Not' 'Not' 'Not' 'Not' 'On_List' 'On_List' 'On_List'\n",
      " 'Not' 'On_List' 'On_List' 'Not' 'Not' 'On_List' 'On_List' 'Not' 'On_List'\n",
      " 'Not' 'Not' 'Not' 'On_List' 'Not' 'On_List' 'Not' 'Not' 'On_List' 'Not'\n",
      " 'On_List' 'Not' 'On_List' 'On_List' 'Not' 'On_List' 'On_List' 'On_List'\n",
      " 'On_List' 'Not' 'On_List' 'On_List' 'Not' 'Not' 'Not' 'On_List' 'Not'\n",
      " 'Not' 'Not' 'On_List' 'On_List' 'Not' 'Not' 'Not' 'Not' 'On_List' 'Not'\n",
      " 'On_List' 'On_List' 'Not' 'On_List' 'Not' 'On_List' 'On_List' 'On_List'\n",
      " 'On_List' 'Not' 'On_List' 'On_List' 'Not' 'On_List' 'Not' 'On_List' 'Not'\n",
      " 'On_List' 'Not' 'Not' 'Not' 'On_List' 'Not' 'On_List' 'Not' 'On_List'\n",
      " 'On_List' 'Not' 'On_List' 'Not' 'Not' 'On_List' 'Not' 'Not' 'Not'\n",
      " 'On_List' 'Not' 'Not' 'Not' 'On_List' 'Not' 'On_List' 'Not' 'On_List'\n",
      " 'Not' 'Not' 'Not' 'On_List' 'On_List' 'Not' 'Not' 'Not' 'On_List'\n",
      " 'On_List' 'Not' 'Not' 'Not' 'Not' 'On_List' 'On_List' 'Not' 'On_List'\n",
      " 'On_List' 'Not' 'Not' 'On_List' 'Not' 'Not' 'On_List' 'Not' 'On_List'\n",
      " 'Not' 'Not' 'On_List' 'On_List' 'Not' 'Not' 'Not' 'Not' 'Not' 'Not'\n",
      " 'On_List' 'Not' 'On_List' 'Not' 'Not' 'Not' 'On_List' 'On_List' 'Not'\n",
      " 'On_List' 'On_List' 'On_List' 'Not' 'Not' 'On_List' 'On_List' 'On_List'\n",
      " 'Not' 'On_List' 'On_List' 'Not' 'Not' 'Not' 'Not' 'Not' 'Not' 'Not'\n",
      " 'On_List' 'On_List' 'On_List' 'On_List' 'Not' 'On_List' 'On_List' 'Not'\n",
      " 'Not' 'On_List' 'On_List' 'Not' 'On_List' 'Not' 'Not' 'On_List' 'Not'\n",
      " 'On_List' 'Not' 'Not' 'On_List' 'On_List' 'Not' 'Not' 'On_List' 'On_List'\n",
      " 'Not' 'On_List' 'Not' 'On_List' 'On_List' 'On_List' 'Not' 'On_List' 'Not'\n",
      " 'Not' 'On_List' 'On_List' 'On_List' 'Not' 'Not' 'Not' 'Not' 'On_List'\n",
      " 'Not' 'Not' 'Not' 'On_List' 'On_List' 'Not' 'Not' 'On_List' 'Not'\n",
      " 'On_List' 'On_List' 'On_List' 'Not' 'On_List' 'On_List' 'Not' 'Not' 'Not'\n",
      " 'On_List' 'On_List' 'Not' 'On_List' 'On_List' 'On_List' 'On_List' 'Not'\n",
      " 'On_List' 'Not' 'On_List' 'On_List' 'Not' 'On_List' 'Not' 'Not' 'On_List'\n",
      " 'On_List' 'Not' 'On_List' 'On_List' 'Not' 'Not' 'Not' 'Not' 'Not'\n",
      " 'On_List' 'On_List' 'On_List' 'Not' 'On_List' 'Not' 'Not' 'Not' 'Not'\n",
      " 'Not' 'On_List' 'Not' 'Not' 'Not' 'Not' 'On_List' 'On_List' 'Not'\n",
      " 'On_List' 'Not' 'Not' 'Not' 'Not' 'On_List' 'On_List' 'Not' 'On_List'\n",
      " 'On_List' 'Not' 'On_List' 'On_List' 'Not' 'On_List' 'Not' 'Not' 'On_List'\n",
      " 'Not' 'On_List' 'Not' 'On_List' 'Not' 'On_List' 'Not' 'Not' 'On_List'\n",
      " 'Not' 'On_List' 'On_List' 'Not' 'On_List' 'Not' 'Not' 'Not' 'Not'\n",
      " 'On_List' 'On_List' 'Not' 'On_List' 'On_List' 'On_List' 'Not' 'Not'\n",
      " 'On_List' 'Not' 'On_List' 'Not' 'Not' 'Not' 'On_List' 'On_List' 'Not'\n",
      " 'Not' 'Not' 'On_List' 'Not' 'On_List' 'Not' 'Not' 'Not' 'On_List'\n",
      " 'On_List' 'Not' 'On_List' 'Not' 'On_List' 'Not' 'Not' 'On_List' 'Not'\n",
      " 'On_List' 'Not' 'On_List' 'Not' 'On_List' 'Not' 'Not' 'Not' 'Not'\n",
      " 'On_List' 'Not' 'Not' 'On_List' 'Not' 'Not' 'Not' 'Not' 'Not' 'Not'\n",
      " 'On_List' 'Not' 'Not' 'Not' 'On_List' 'On_List' 'On_List' 'On_List' 'Not'\n",
      " 'On_List' 'Not' 'Not' 'On_List' 'Not' 'Not' 'Not' 'On_List' 'Not'\n",
      " 'On_List' 'Not' 'On_List' 'On_List' 'On_List' 'Not' 'On_List' 'Not' 'Not'\n",
      " 'Not' 'Not' 'On_List' 'Not' 'Not' 'Not' 'Not' 'On_List' 'Not' 'On_List'\n",
      " 'Not' 'Not' 'On_List' 'Not' 'Not' 'Not' 'On_List' 'Not' 'Not' 'Not' 'Not'\n",
      " 'On_List' 'Not' 'Not' 'On_List' 'Not' 'On_List' 'Not' 'Not' 'On_List'\n",
      " 'On_List' 'Not' 'Not' 'Not' 'Not' 'On_List' 'On_List' 'On_List' 'On_List'\n",
      " 'Not' 'Not' 'Not' 'Not' 'Not' 'On_List' 'On_List' 'On_List' 'Not'\n",
      " 'On_List' 'Not' 'On_List' 'Not' 'On_List' 'Not' 'Not' 'Not' 'Not' 'Not'\n",
      " 'On_List' 'On_List' 'On_List' 'On_List' 'Not' 'Not' 'On_List' 'On_List'\n",
      " 'Not' 'Not' 'On_List' 'On_List' 'Not' 'On_List' 'On_List']\n",
      "Actual Labels: ['On_List', 'Not', 'Not', 'Not', 'Not', 'Not', 'Not', 'Not', 'Not', 'Not', 'On_List', 'Not', 'Not', 'Not', 'On_List', 'Not', 'Not', 'On_List', 'On_List', 'Not', 'Not', 'On_List', 'Not', 'Not', 'Not', 'On_List', 'Not', 'On_List', 'Not', 'Not', 'On_List', 'On_List', 'Not', 'Not', 'Not', 'Not', 'Not', 'Not', 'Not', 'On_List', 'Not', 'Not', 'Not', 'On_List', 'Not', 'On_List', 'Not', 'Not', 'On_List', 'Not', 'Not', 'On_List', 'Not', 'Not', 'Not', 'Not', 'On_List', 'Not', 'On_List', 'Not', 'On_List', 'On_List', 'Not', 'Not', 'On_List', 'On_List', 'On_List', 'Not', 'Not', 'On_List', 'Not', 'Not', 'On_List', 'Not', 'On_List', 'Not', 'On_List', 'Not', 'Not', 'Not', 'Not', 'Not', 'Not', 'On_List', 'Not', 'On_List', 'On_List', 'On_List', 'Not', 'On_List', 'On_List', 'On_List', 'On_List', 'On_List', 'Not', 'Not', 'On_List', 'On_List', 'On_List', 'On_List', 'Not', 'Not', 'Not', 'On_List', 'On_List', 'On_List', 'Not', 'Not', 'Not', 'Not', 'Not', 'On_List', 'On_List', 'On_List', 'Not', 'Not', 'On_List', 'On_List', 'Not', 'Not', 'Not', 'Not', 'On_List', 'On_List', 'Not', 'Not', 'Not', 'Not', 'On_List', 'On_List', 'Not', 'On_List', 'Not', 'Not', 'Not', 'On_List', 'Not', 'On_List', 'Not', 'Not', 'Not', 'On_List', 'Not', 'Not', 'Not', 'Not', 'Not', 'On_List', 'On_List', 'On_List', 'On_List', 'Not', 'On_List', 'Not', 'Not', 'Not', 'Not', 'Not', 'Not', 'On_List', 'On_List', 'On_List', 'Not', 'On_List', 'On_List', 'On_List', 'Not', 'Not', 'On_List', 'Not', 'Not', 'On_List', 'Not', 'Not', 'Not', 'Not', 'Not', 'Not', 'Not', 'Not', 'On_List', 'Not', 'Not', 'On_List', 'On_List', 'On_List', 'Not', 'Not', 'On_List', 'Not', 'Not', 'On_List', 'Not', 'Not', 'Not', 'Not', 'Not', 'Not', 'Not', 'Not', 'Not', 'Not', 'On_List', 'Not', 'Not', 'On_List', 'On_List', 'Not', 'On_List', 'Not', 'Not', 'Not', 'Not', 'Not', 'Not', 'On_List', 'Not', 'Not', 'On_List', 'Not', 'On_List', 'Not', 'Not', 'Not', 'On_List', 'Not', 'On_List', 'On_List', 'Not', 'Not', 'Not', 'On_List', 'Not', 'Not', 'Not', 'On_List', 'Not', 'Not', 'Not', 'Not', 'Not', 'Not', 'Not', 'On_List', 'Not', 'Not', 'Not', 'On_List', 'Not', 'Not', 'Not', 'On_List', 'Not', 'Not', 'Not', 'On_List', 'On_List', 'On_List', 'Not', 'Not', 'Not', 'Not', 'Not', 'On_List', 'Not', 'On_List', 'On_List', 'Not', 'Not', 'Not', 'On_List', 'Not', 'Not', 'On_List', 'Not', 'On_List', 'On_List', 'Not', 'Not', 'Not', 'Not', 'On_List', 'Not', 'Not', 'Not', 'Not', 'On_List', 'Not', 'Not', 'Not', 'On_List', 'On_List', 'On_List', 'Not', 'Not', 'Not', 'Not', 'Not', 'On_List', 'Not', 'On_List', 'On_List', 'On_List', 'Not', 'On_List', 'Not', 'Not', 'Not', 'On_List', 'Not', 'Not', 'On_List', 'On_List', 'On_List', 'On_List', 'Not', 'Not', 'On_List', 'Not', 'On_List', 'Not', 'On_List', 'Not', 'Not', 'Not', 'Not', 'Not', 'Not', 'Not', 'Not', 'Not', 'On_List', 'On_List', 'Not', 'On_List', 'Not', 'Not', 'Not', 'On_List', 'Not', 'Not', 'On_List', 'On_List', 'Not', 'Not', 'On_List', 'On_List', 'Not', 'Not', 'On_List', 'Not', 'Not', 'On_List', 'On_List', 'On_List', 'Not', 'Not', 'Not', 'Not', 'Not', 'Not', 'Not', 'Not', 'Not', 'Not', 'On_List', 'Not', 'On_List', 'On_List', 'Not', 'On_List', 'On_List', 'Not', 'Not', 'On_List', 'On_List', 'On_List', 'Not', 'Not', 'On_List', 'Not', 'Not', 'On_List', 'On_List', 'Not', 'Not', 'On_List', 'Not', 'On_List', 'Not', 'On_List', 'Not', 'On_List', 'Not', 'On_List', 'Not', 'Not', 'Not', 'On_List', 'Not', 'Not', 'On_List', 'Not', 'On_List', 'Not', 'Not', 'Not', 'On_List', 'Not', 'On_List', 'On_List', 'Not', 'Not', 'On_List', 'On_List', 'Not', 'Not', 'Not', 'Not', 'Not', 'Not', 'Not', 'On_List', 'Not', 'Not', 'Not', 'On_List', 'On_List', 'On_List', 'On_List', 'Not', 'Not', 'Not', 'Not', 'Not', 'Not', 'On_List', 'Not', 'On_List', 'Not', 'Not', 'Not', 'Not', 'Not', 'Not', 'On_List', 'Not', 'Not', 'On_List', 'On_List', 'Not', 'On_List', 'Not', 'On_List', 'Not', 'Not', 'On_List', 'Not', 'Not', 'Not', 'On_List', 'Not', 'Not', 'Not', 'On_List', 'Not', 'Not', 'Not', 'Not', 'Not', 'Not', 'On_List', 'Not', 'Not', 'Not', 'Not', 'On_List', 'On_List', 'Not', 'Not', 'Not', 'On_List', 'On_List', 'On_List', 'Not', 'On_List', 'Not', 'Not', 'Not', 'On_List', 'Not', 'Not', 'On_List', 'Not', 'On_List', 'On_List', 'Not', 'Not', 'On_List', 'Not', 'On_List', 'On_List', 'Not', 'Not', 'Not', 'On_List', 'Not', 'Not', 'Not', 'On_List', 'On_List', 'On_List', 'Not', 'On_List', 'On_List', 'On_List', 'On_List', 'Not', 'Not', 'Not', 'Not', 'Not', 'On_List', 'Not', 'Not', 'On_List', 'Not', 'Not', 'Not', 'Not', 'Not', 'Not', 'On_List', 'Not', 'Not', 'Not', 'On_List', 'Not', 'Not', 'On_List', 'On_List', 'On_List', 'On_List', 'Not', 'Not', 'Not', 'Not', 'On_List', 'On_List', 'On_List', 'Not', 'On_List', 'On_List', 'Not', 'Not', 'On_List', 'On_List', 'Not', 'On_List', 'Not', 'Not', 'Not', 'On_List', 'Not', 'On_List', 'Not', 'Not', 'On_List', 'Not', 'On_List', 'Not', 'On_List', 'On_List', 'Not', 'On_List', 'On_List', 'On_List', 'On_List', 'Not', 'On_List', 'On_List', 'Not', 'Not', 'Not', 'On_List', 'Not', 'Not', 'Not', 'On_List', 'On_List', 'Not', 'Not', 'Not', 'Not', 'On_List', 'Not', 'On_List', 'On_List', 'Not', 'On_List', 'Not', 'On_List', 'On_List', 'On_List', 'On_List', 'Not', 'On_List', 'On_List', 'On_List', 'On_List', 'Not', 'On_List', 'Not', 'On_List', 'Not', 'Not', 'Not', 'On_List', 'Not', 'On_List', 'Not', 'On_List', 'On_List', 'Not', 'On_List', 'Not', 'Not', 'On_List', 'Not', 'Not', 'Not', 'On_List', 'Not', 'Not', 'Not', 'On_List', 'On_List', 'On_List', 'Not', 'On_List', 'Not', 'Not', 'Not', 'On_List', 'On_List', 'Not', 'Not', 'Not', 'On_List', 'On_List', 'On_List', 'Not', 'Not', 'Not', 'On_List', 'On_List', 'Not', 'On_List', 'On_List', 'Not', 'Not', 'On_List', 'Not', 'Not', 'On_List', 'Not', 'On_List', 'Not', 'Not', 'On_List', 'On_List', 'Not', 'Not', 'Not', 'Not', 'Not', 'Not', 'On_List', 'Not', 'On_List', 'Not', 'Not', 'Not', 'On_List', 'On_List', 'Not', 'On_List', 'On_List', 'On_List', 'Not', 'Not', 'On_List', 'On_List', 'On_List', 'Not', 'On_List', 'On_List', 'Not', 'Not', 'Not', 'Not', 'Not', 'Not', 'Not', 'On_List', 'On_List', 'On_List', 'On_List', 'Not', 'On_List', 'On_List', 'Not', 'Not', 'On_List', 'On_List', 'Not', 'On_List', 'Not', 'Not', 'On_List', 'Not', 'On_List', 'Not', 'Not', 'On_List', 'On_List', 'Not', 'Not', 'On_List', 'On_List', 'Not', 'On_List', 'Not', 'On_List', 'On_List', 'On_List', 'Not', 'On_List', 'Not', 'Not', 'On_List', 'On_List', 'On_List', 'Not', 'Not', 'Not', 'Not', 'On_List', 'Not', 'Not', 'Not', 'On_List', 'On_List', 'Not', 'Not', 'On_List', 'Not', 'On_List', 'On_List', 'On_List', 'Not', 'On_List', 'On_List', 'Not', 'Not', 'Not', 'On_List', 'On_List', 'Not', 'On_List', 'On_List', 'On_List', 'On_List', 'Not', 'On_List', 'Not', 'On_List', 'On_List', 'Not', 'On_List', 'Not', 'Not', 'On_List', 'On_List', 'Not', 'On_List', 'On_List', 'Not', 'Not', 'Not', 'Not', 'Not', 'On_List', 'On_List', 'On_List', 'Not', 'On_List', 'Not', 'Not', 'Not', 'Not', 'Not', 'On_List', 'Not', 'Not', 'Not', 'Not', 'On_List', 'On_List', 'Not', 'On_List', 'Not', 'Not', 'Not', 'Not', 'On_List', 'On_List', 'Not', 'On_List', 'On_List', 'Not', 'On_List', 'On_List', 'Not', 'On_List', 'Not', 'Not', 'On_List', 'Not', 'On_List', 'Not', 'On_List', 'Not', 'On_List', 'Not', 'Not', 'On_List', 'Not', 'On_List', 'On_List', 'Not', 'On_List', 'Not', 'Not', 'Not', 'Not', 'On_List', 'On_List', 'Not', 'On_List', 'On_List', 'On_List', 'Not', 'Not', 'On_List', 'Not', 'On_List', 'Not', 'Not', 'Not', 'On_List', 'On_List', 'Not', 'Not', 'Not', 'On_List', 'Not', 'On_List', 'Not', 'Not', 'Not', 'On_List', 'On_List', 'Not', 'On_List', 'Not', 'On_List', 'Not', 'Not', 'On_List', 'Not', 'On_List', 'Not', 'On_List', 'Not', 'On_List', 'Not', 'Not', 'Not', 'Not', 'On_List', 'Not', 'Not', 'On_List', 'Not', 'Not', 'Not', 'Not', 'Not', 'Not', 'On_List', 'Not', 'Not', 'Not', 'On_List', 'On_List', 'On_List', 'On_List', 'Not', 'On_List', 'Not', 'Not', 'On_List', 'Not', 'Not', 'Not', 'On_List', 'Not', 'On_List', 'Not', 'On_List', 'On_List', 'On_List', 'Not', 'On_List', 'Not', 'Not', 'Not', 'Not', 'On_List', 'Not', 'Not', 'Not', 'Not', 'On_List', 'Not', 'On_List', 'Not', 'Not', 'On_List', 'Not', 'Not', 'Not', 'On_List', 'On_List', 'Not', 'Not', 'Not', 'On_List', 'Not', 'Not', 'On_List', 'Not', 'On_List', 'Not', 'Not', 'On_List', 'On_List', 'Not', 'Not', 'Not', 'Not', 'On_List', 'On_List', 'On_List', 'On_List', 'Not', 'Not', 'Not', 'Not', 'Not', 'On_List', 'On_List', 'On_List', 'Not', 'On_List', 'Not', 'On_List', 'Not', 'Not', 'Not', 'Not', 'Not', 'Not', 'Not', 'On_List', 'On_List', 'On_List', 'On_List', 'Not', 'Not', 'On_List', 'On_List', 'Not', 'Not', 'On_List', 'On_List', 'Not', 'On_List', 'On_List']\n"
     ]
    }
   ],
   "source": [
    "print(f\"Predicted classes: {prediction_labels}\")\n",
    "print(f\"Actual Labels: {list(y_test[:1000])}\")"
   ]
  },
  {
   "cell_type": "code",
   "execution_count": 38,
   "metadata": {},
   "outputs": [],
   "source": [
    "import seaborn as sn"
   ]
  },
  {
   "cell_type": "code",
   "execution_count": 39,
   "metadata": {
    "scrolled": true
   },
   "outputs": [
    {
     "data": {
      "text/html": [
       "<div>\n",
       "<style scoped>\n",
       "    .dataframe tbody tr th:only-of-type {\n",
       "        vertical-align: middle;\n",
       "    }\n",
       "\n",
       "    .dataframe tbody tr th {\n",
       "        vertical-align: top;\n",
       "    }\n",
       "\n",
       "    .dataframe thead th {\n",
       "        text-align: right;\n",
       "    }\n",
       "</style>\n",
       "<table border=\"1\" class=\"dataframe\">\n",
       "  <thead>\n",
       "    <tr style=\"text-align: right;\">\n",
       "      <th></th>\n",
       "      <th>Actuals</th>\n",
       "      <th>Predictions</th>\n",
       "    </tr>\n",
       "  </thead>\n",
       "  <tbody>\n",
       "    <tr>\n",
       "      <th>0</th>\n",
       "      <td>On_List</td>\n",
       "      <td>On_List</td>\n",
       "    </tr>\n",
       "    <tr>\n",
       "      <th>1</th>\n",
       "      <td>Not</td>\n",
       "      <td>Not</td>\n",
       "    </tr>\n",
       "    <tr>\n",
       "      <th>2</th>\n",
       "      <td>Not</td>\n",
       "      <td>Not</td>\n",
       "    </tr>\n",
       "    <tr>\n",
       "      <th>3</th>\n",
       "      <td>Not</td>\n",
       "      <td>Not</td>\n",
       "    </tr>\n",
       "    <tr>\n",
       "      <th>4</th>\n",
       "      <td>Not</td>\n",
       "      <td>Not</td>\n",
       "    </tr>\n",
       "    <tr>\n",
       "      <th>...</th>\n",
       "      <td>...</td>\n",
       "      <td>...</td>\n",
       "    </tr>\n",
       "    <tr>\n",
       "      <th>995</th>\n",
       "      <td>On_List</td>\n",
       "      <td>On_List</td>\n",
       "    </tr>\n",
       "    <tr>\n",
       "      <th>996</th>\n",
       "      <td>On_List</td>\n",
       "      <td>On_List</td>\n",
       "    </tr>\n",
       "    <tr>\n",
       "      <th>997</th>\n",
       "      <td>Not</td>\n",
       "      <td>Not</td>\n",
       "    </tr>\n",
       "    <tr>\n",
       "      <th>998</th>\n",
       "      <td>On_List</td>\n",
       "      <td>On_List</td>\n",
       "    </tr>\n",
       "    <tr>\n",
       "      <th>999</th>\n",
       "      <td>On_List</td>\n",
       "      <td>On_List</td>\n",
       "    </tr>\n",
       "  </tbody>\n",
       "</table>\n",
       "<p>1000 rows × 2 columns</p>\n",
       "</div>"
      ],
      "text/plain": [
       "     Actuals Predictions\n",
       "0    On_List     On_List\n",
       "1        Not         Not\n",
       "2        Not         Not\n",
       "3        Not         Not\n",
       "4        Not         Not\n",
       "..       ...         ...\n",
       "995  On_List     On_List\n",
       "996  On_List     On_List\n",
       "997      Not         Not\n",
       "998  On_List     On_List\n",
       "999  On_List     On_List\n",
       "\n",
       "[1000 rows x 2 columns]"
      ]
     },
     "execution_count": 39,
     "metadata": {},
     "output_type": "execute_result"
    }
   ],
   "source": [
    "y_perdiction_results = prediction_labels\n",
    "y_results = y_test[:1000]\n",
    "display_data = pd.DataFrame({'Actuals':y_results, 'Predictions':y_perdiction_results})\n",
    "display_data.reset_index(drop=True, inplace=True)\n",
    "display_data"
   ]
  },
  {
   "cell_type": "code",
   "execution_count": 40,
   "metadata": {},
   "outputs": [],
   "source": [
    "y_test_temp = y_test[:1000]\n",
    "y_Predicted = encoded_predictions\n",
    "y_Actual = []\n",
    "\n",
    "for y_data in y_test_temp:\n",
    "    if(y_data == \"Not\"):\n",
    "        y_Actual.append(0)\n",
    "    else:\n",
    "        y_Actual.append(1)"
   ]
  },
  {
   "cell_type": "code",
   "execution_count": 41,
   "metadata": {},
   "outputs": [
    {
     "name": "stdout",
     "output_type": "stream",
     "text": [
      "<class 'pandas.core.frame.DataFrame'>\n",
      "RangeIndex: 1000 entries, 0 to 999\n",
      "Data columns (total 2 columns):\n",
      " #   Column       Non-Null Count  Dtype\n",
      "---  ------       --------------  -----\n",
      " 0   y_Actual     1000 non-null   int64\n",
      " 1   y_Predicted  1000 non-null   int64\n",
      "dtypes: int64(2)\n",
      "memory usage: 15.8 KB\n"
     ]
    }
   ],
   "source": [
    "new_data = pd.DataFrame({'y_Actual':y_Actual, 'y_Predicted':y_Predicted})\n",
    "new_data.info()"
   ]
  },
  {
   "cell_type": "code",
   "execution_count": 42,
   "metadata": {},
   "outputs": [
    {
     "data": {
      "text/html": [
       "<div>\n",
       "<style scoped>\n",
       "    .dataframe tbody tr th:only-of-type {\n",
       "        vertical-align: middle;\n",
       "    }\n",
       "\n",
       "    .dataframe tbody tr th {\n",
       "        vertical-align: top;\n",
       "    }\n",
       "\n",
       "    .dataframe thead th {\n",
       "        text-align: right;\n",
       "    }\n",
       "</style>\n",
       "<table border=\"1\" class=\"dataframe\">\n",
       "  <thead>\n",
       "    <tr style=\"text-align: right;\">\n",
       "      <th></th>\n",
       "      <th>y_Actual</th>\n",
       "      <th>y_Predicted</th>\n",
       "    </tr>\n",
       "  </thead>\n",
       "  <tbody>\n",
       "    <tr>\n",
       "      <th>0</th>\n",
       "      <td>1</td>\n",
       "      <td>1</td>\n",
       "    </tr>\n",
       "    <tr>\n",
       "      <th>1</th>\n",
       "      <td>0</td>\n",
       "      <td>0</td>\n",
       "    </tr>\n",
       "    <tr>\n",
       "      <th>2</th>\n",
       "      <td>0</td>\n",
       "      <td>0</td>\n",
       "    </tr>\n",
       "    <tr>\n",
       "      <th>3</th>\n",
       "      <td>0</td>\n",
       "      <td>0</td>\n",
       "    </tr>\n",
       "    <tr>\n",
       "      <th>4</th>\n",
       "      <td>0</td>\n",
       "      <td>0</td>\n",
       "    </tr>\n",
       "    <tr>\n",
       "      <th>...</th>\n",
       "      <td>...</td>\n",
       "      <td>...</td>\n",
       "    </tr>\n",
       "    <tr>\n",
       "      <th>995</th>\n",
       "      <td>1</td>\n",
       "      <td>1</td>\n",
       "    </tr>\n",
       "    <tr>\n",
       "      <th>996</th>\n",
       "      <td>1</td>\n",
       "      <td>1</td>\n",
       "    </tr>\n",
       "    <tr>\n",
       "      <th>997</th>\n",
       "      <td>0</td>\n",
       "      <td>0</td>\n",
       "    </tr>\n",
       "    <tr>\n",
       "      <th>998</th>\n",
       "      <td>1</td>\n",
       "      <td>1</td>\n",
       "    </tr>\n",
       "    <tr>\n",
       "      <th>999</th>\n",
       "      <td>1</td>\n",
       "      <td>1</td>\n",
       "    </tr>\n",
       "  </tbody>\n",
       "</table>\n",
       "<p>1000 rows × 2 columns</p>\n",
       "</div>"
      ],
      "text/plain": [
       "     y_Actual  y_Predicted\n",
       "0           1            1\n",
       "1           0            0\n",
       "2           0            0\n",
       "3           0            0\n",
       "4           0            0\n",
       "..        ...          ...\n",
       "995         1            1\n",
       "996         1            1\n",
       "997         0            0\n",
       "998         1            1\n",
       "999         1            1\n",
       "\n",
       "[1000 rows x 2 columns]"
      ]
     },
     "execution_count": 42,
     "metadata": {},
     "output_type": "execute_result"
    }
   ],
   "source": [
    "new_data.reset_index(drop=True, inplace=True)\n",
    "new_data"
   ]
  },
  {
   "cell_type": "code",
   "execution_count": 43,
   "metadata": {},
   "outputs": [],
   "source": [
    "#df_new = pd.DataFrame(new_data, columns=['y_Actual','y_Predicted'])\n",
    "#df_new.info()"
   ]
  },
  {
   "cell_type": "code",
   "execution_count": 44,
   "metadata": {},
   "outputs": [],
   "source": [
    "#df_new"
   ]
  },
  {
   "cell_type": "code",
   "execution_count": 45,
   "metadata": {},
   "outputs": [
    {
     "data": {
      "image/png": "[encoded data removed]",
      "text/plain": [
       "<Figure size 432x288 with 2 Axes>"
      ]
     },
     "metadata": {
      "needs_background": "light"
     },
     "output_type": "display_data"
    }
   ],
   "source": [
    "#df_new = pd.DataFrame(new_data, columns=['y_Actual','y_Predicted'])\n",
    "\n",
    "confusion_matrix = pd.crosstab(new_data['y_Actual'], new_data['y_Predicted'], rownames=['Actuals'], colnames=['Predictions'])\n",
    "\n",
    "sn.heatmap(confusion_matrix, annot=True, linewidths=.5, fmt=\".0f\", annot_kws={'size':24})\n",
    "plt.show()"
   ]
  },
  {
   "cell_type": "code",
   "execution_count": 46,
   "metadata": {},
   "outputs": [
    {
     "data": {
      "text/html": [
       "<div>\n",
       "<style scoped>\n",
       "    .dataframe tbody tr th:only-of-type {\n",
       "        vertical-align: middle;\n",
       "    }\n",
       "\n",
       "    .dataframe tbody tr th {\n",
       "        vertical-align: top;\n",
       "    }\n",
       "\n",
       "    .dataframe thead th {\n",
       "        text-align: right;\n",
       "    }\n",
       "</style>\n",
       "<table border=\"1\" class=\"dataframe\">\n",
       "  <thead>\n",
       "    <tr style=\"text-align: right;\">\n",
       "      <th>Predictions</th>\n",
       "      <th>0</th>\n",
       "      <th>1</th>\n",
       "    </tr>\n",
       "    <tr>\n",
       "      <th>Actuals</th>\n",
       "      <th></th>\n",
       "      <th></th>\n",
       "    </tr>\n",
       "  </thead>\n",
       "  <tbody>\n",
       "    <tr>\n",
       "      <th>0</th>\n",
       "      <td>593</td>\n",
       "      <td>2</td>\n",
       "    </tr>\n",
       "    <tr>\n",
       "      <th>1</th>\n",
       "      <td>7</td>\n",
       "      <td>398</td>\n",
       "    </tr>\n",
       "  </tbody>\n",
       "</table>\n",
       "</div>"
      ],
      "text/plain": [
       "Predictions    0    1\n",
       "Actuals              \n",
       "0            593    2\n",
       "1              7  398"
      ]
     },
     "execution_count": 46,
     "metadata": {},
     "output_type": "execute_result"
    }
   ],
   "source": [
    "confusion_matrix"
   ]
  },
  {
   "cell_type": "code",
   "execution_count": 47,
   "metadata": {},
   "outputs": [],
   "source": [
    "confusion_matrix = confusion_matrix.rename(columns={0 : \"Not on LEIE List\", 1 : \"On LEIE List\"})\n",
    "confusion_matrix = confusion_matrix.rename(index={0 : \"Not on LEIE List\", 1 : \"On LEIE List\"})"
   ]
  },
  {
   "cell_type": "code",
   "execution_count": 48,
   "metadata": {},
   "outputs": [
    {
     "data": {
      "text/html": [
       "<div>\n",
       "<style scoped>\n",
       "    .dataframe tbody tr th:only-of-type {\n",
       "        vertical-align: middle;\n",
       "    }\n",
       "\n",
       "    .dataframe tbody tr th {\n",
       "        vertical-align: top;\n",
       "    }\n",
       "\n",
       "    .dataframe thead th {\n",
       "        text-align: right;\n",
       "    }\n",
       "</style>\n",
       "<table border=\"1\" class=\"dataframe\">\n",
       "  <thead>\n",
       "    <tr style=\"text-align: right;\">\n",
       "      <th>Predictions</th>\n",
       "      <th>Not on LEIE List</th>\n",
       "      <th>On LEIE List</th>\n",
       "    </tr>\n",
       "    <tr>\n",
       "      <th>Actuals</th>\n",
       "      <th></th>\n",
       "      <th></th>\n",
       "    </tr>\n",
       "  </thead>\n",
       "  <tbody>\n",
       "    <tr>\n",
       "      <th>Not on LEIE List</th>\n",
       "      <td>593</td>\n",
       "      <td>2</td>\n",
       "    </tr>\n",
       "    <tr>\n",
       "      <th>On LEIE List</th>\n",
       "      <td>7</td>\n",
       "      <td>398</td>\n",
       "    </tr>\n",
       "  </tbody>\n",
       "</table>\n",
       "</div>"
      ],
      "text/plain": [
       "Predictions       Not on LEIE List  On LEIE List\n",
       "Actuals                                         \n",
       "Not on LEIE List               593             2\n",
       "On LEIE List                     7           398"
      ]
     },
     "execution_count": 48,
     "metadata": {},
     "output_type": "execute_result"
    }
   ],
   "source": [
    "confusion_matrix"
   ]
  },
  {
   "cell_type": "code",
   "execution_count": 49,
   "metadata": {},
   "outputs": [
    {
     "data": {
      "image/png": "[encoded data removed]",
      "text/plain": [
       "<Figure size 432x288 with 2 Axes>"
      ]
     },
     "metadata": {
      "needs_background": "light"
     },
     "output_type": "display_data"
    }
   ],
   "source": [
    "sn.heatmap(confusion_matrix, annot=True, linewidths=.5, fmt=\".0f\", annot_kws={'size':24})\n",
    "plt.show()"
   ]
  },
  {
   "cell_type": "code",
   "execution_count": null,
   "metadata": {},
   "outputs": [],
   "source": []
  }
 ],
 "metadata": {
  "kernelspec": {
   "display_name": "Python 3",
   "language": "python",
   "name": "python3"
  },
  "language_info": {
   "codemirror_mode": {
    "name": "ipython",
    "version": 3
   },
   "file_extension": ".py",
   "mimetype": "text/x-python",
   "name": "python",
   "nbconvert_exporter": "python",
   "pygments_lexer": "ipython3",
   "version": "3.7.6"
  },
  "varInspector": {
   "cols": {
    "lenName": 16,
    "lenType": 16,
    "lenVar": 40
   },
   "kernels_config": {
    "python": {
     "delete_cmd_postfix": "",
     "delete_cmd_prefix": "del ",
     "library": "var_list.py",
     "varRefreshCmd": "print(var_dic_list())"
    },
    "r": {
     "delete_cmd_postfix": ") ",
     "delete_cmd_prefix": "rm(",
     "library": "var_list.r",
     "varRefreshCmd": "cat(var_dic_list()) "
    }
   },
   "types_to_exclude": [
    "module",
    "function",
    "builtin_function_or_method",
    "instance",
    "_Feature"
   ],
   "window_display": false
  }
 },
 "nbformat": 4,
 "nbformat_minor": 4
}
