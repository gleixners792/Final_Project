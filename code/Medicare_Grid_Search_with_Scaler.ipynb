{
 "cells": [
  {
   "cell_type": "code",
   "execution_count": 1,
   "metadata": {},
   "outputs": [],
   "source": [
    "import matplotlib.pyplot as plt\n",
    "from sklearn.neighbors import KNeighborsClassifier\n",
    "import os\n",
    "import pandas as pd\n",
    "import numpy as np"
   ]
  },
  {
   "cell_type": "markdown",
   "metadata": {},
   "source": [
    "# Read the CSV and Perform Basic Data Cleaning"
   ]
  },
  {
   "cell_type": "code",
   "execution_count": 2,
   "metadata": {},
   "outputs": [
    {
     "name": "stderr",
     "output_type": "stream",
     "text": [
      "C:\\Users\\gleix\\anaconda3\\lib\\site-packages\\IPython\\core\\interactiveshell.py:3063: DtypeWarning: Columns (4) have mixed types.Specify dtype option on import or set low_memory=False.\n",
      "  interactivity=interactivity, compiler=compiler, result=result)\n"
     ]
    },
    {
     "data": {
      "text/html": [
       "<div>\n",
       "<style scoped>\n",
       "    .dataframe tbody tr th:only-of-type {\n",
       "        vertical-align: middle;\n",
       "    }\n",
       "\n",
       "    .dataframe tbody tr th {\n",
       "        vertical-align: top;\n",
       "    }\n",
       "\n",
       "    .dataframe thead th {\n",
       "        text-align: right;\n",
       "    }\n",
       "</style>\n",
       "<table border=\"1\" class=\"dataframe\">\n",
       "  <thead>\n",
       "    <tr style=\"text-align: right;\">\n",
       "      <th></th>\n",
       "      <th>npi</th>\n",
       "      <th>nppes_provider_gender</th>\n",
       "      <th>nppes_entity_code</th>\n",
       "      <th>nppes_provider_city</th>\n",
       "      <th>nppes_provider_zip</th>\n",
       "      <th>nppes_provider_state</th>\n",
       "      <th>nppes_provider_country</th>\n",
       "      <th>provider_type</th>\n",
       "      <th>medicare_participation_indicator</th>\n",
       "      <th>place_of_service</th>\n",
       "      <th>...</th>\n",
       "      <th>hcpcs_drug_indicator</th>\n",
       "      <th>line_srvc_cnt</th>\n",
       "      <th>bene_unique_cnt</th>\n",
       "      <th>bene_day_srvc_cnt</th>\n",
       "      <th>average_Medicare_allowed_amt</th>\n",
       "      <th>average_submitted_chrg_amt</th>\n",
       "      <th>average_Medicare_payment_amt</th>\n",
       "      <th>year</th>\n",
       "      <th>leie_code</th>\n",
       "      <th>leie</th>\n",
       "    </tr>\n",
       "  </thead>\n",
       "  <tbody>\n",
       "    <tr>\n",
       "      <th>0</th>\n",
       "      <td>1</td>\n",
       "      <td>NaN</td>\n",
       "      <td>NaN</td>\n",
       "      <td>NaN</td>\n",
       "      <td>NaN</td>\n",
       "      <td>NaN</td>\n",
       "      <td>NaN</td>\n",
       "      <td>NaN</td>\n",
       "      <td>NaN</td>\n",
       "      <td>NaN</td>\n",
       "      <td>...</td>\n",
       "      <td>NaN</td>\n",
       "      <td>NaN</td>\n",
       "      <td>NaN</td>\n",
       "      <td>NaN</td>\n",
       "      <td>NaN</td>\n",
       "      <td>NaN</td>\n",
       "      <td>NaN</td>\n",
       "      <td>2012</td>\n",
       "      <td>None</td>\n",
       "      <td>Not</td>\n",
       "    </tr>\n",
       "    <tr>\n",
       "      <th>1</th>\n",
       "      <td>1003000126</td>\n",
       "      <td>M</td>\n",
       "      <td>I</td>\n",
       "      <td>CUMBERLAND</td>\n",
       "      <td>2.15022e+08</td>\n",
       "      <td>MD</td>\n",
       "      <td>US</td>\n",
       "      <td>Internal Medicine</td>\n",
       "      <td>Y</td>\n",
       "      <td>F</td>\n",
       "      <td>...</td>\n",
       "      <td>N</td>\n",
       "      <td>115.0</td>\n",
       "      <td>112.0</td>\n",
       "      <td>115.0</td>\n",
       "      <td>135.25</td>\n",
       "      <td>199.0</td>\n",
       "      <td>108.115652</td>\n",
       "      <td>2012</td>\n",
       "      <td>None</td>\n",
       "      <td>Not</td>\n",
       "    </tr>\n",
       "    <tr>\n",
       "      <th>2</th>\n",
       "      <td>1003000126</td>\n",
       "      <td>M</td>\n",
       "      <td>I</td>\n",
       "      <td>CUMBERLAND</td>\n",
       "      <td>2.15022e+08</td>\n",
       "      <td>MD</td>\n",
       "      <td>US</td>\n",
       "      <td>Internal Medicine</td>\n",
       "      <td>Y</td>\n",
       "      <td>F</td>\n",
       "      <td>...</td>\n",
       "      <td>N</td>\n",
       "      <td>93.0</td>\n",
       "      <td>88.0</td>\n",
       "      <td>93.0</td>\n",
       "      <td>198.59</td>\n",
       "      <td>291.0</td>\n",
       "      <td>158.870000</td>\n",
       "      <td>2012</td>\n",
       "      <td>None</td>\n",
       "      <td>Not</td>\n",
       "    </tr>\n",
       "    <tr>\n",
       "      <th>3</th>\n",
       "      <td>1003000126</td>\n",
       "      <td>M</td>\n",
       "      <td>I</td>\n",
       "      <td>CUMBERLAND</td>\n",
       "      <td>2.15022e+08</td>\n",
       "      <td>MD</td>\n",
       "      <td>US</td>\n",
       "      <td>Internal Medicine</td>\n",
       "      <td>Y</td>\n",
       "      <td>F</td>\n",
       "      <td>...</td>\n",
       "      <td>N</td>\n",
       "      <td>111.0</td>\n",
       "      <td>83.0</td>\n",
       "      <td>111.0</td>\n",
       "      <td>38.75</td>\n",
       "      <td>58.0</td>\n",
       "      <td>30.720721</td>\n",
       "      <td>2012</td>\n",
       "      <td>None</td>\n",
       "      <td>Not</td>\n",
       "    </tr>\n",
       "    <tr>\n",
       "      <th>4</th>\n",
       "      <td>1003000126</td>\n",
       "      <td>M</td>\n",
       "      <td>I</td>\n",
       "      <td>CUMBERLAND</td>\n",
       "      <td>2.15022e+08</td>\n",
       "      <td>MD</td>\n",
       "      <td>US</td>\n",
       "      <td>Internal Medicine</td>\n",
       "      <td>Y</td>\n",
       "      <td>F</td>\n",
       "      <td>...</td>\n",
       "      <td>N</td>\n",
       "      <td>544.0</td>\n",
       "      <td>295.0</td>\n",
       "      <td>544.0</td>\n",
       "      <td>70.95</td>\n",
       "      <td>105.0</td>\n",
       "      <td>56.655662</td>\n",
       "      <td>2012</td>\n",
       "      <td>None</td>\n",
       "      <td>Not</td>\n",
       "    </tr>\n",
       "  </tbody>\n",
       "</table>\n",
       "<p>5 rows × 22 columns</p>\n",
       "</div>"
      ],
      "text/plain": [
       "          npi nppes_provider_gender nppes_entity_code nppes_provider_city  \\\n",
       "0           1                   NaN               NaN                 NaN   \n",
       "1  1003000126                     M                 I          CUMBERLAND   \n",
       "2  1003000126                     M                 I          CUMBERLAND   \n",
       "3  1003000126                     M                 I          CUMBERLAND   \n",
       "4  1003000126                     M                 I          CUMBERLAND   \n",
       "\n",
       "  nppes_provider_zip nppes_provider_state nppes_provider_country  \\\n",
       "0                NaN                  NaN                    NaN   \n",
       "1        2.15022e+08                   MD                     US   \n",
       "2        2.15022e+08                   MD                     US   \n",
       "3        2.15022e+08                   MD                     US   \n",
       "4        2.15022e+08                   MD                     US   \n",
       "\n",
       "       provider_type medicare_participation_indicator place_of_service  ...  \\\n",
       "0                NaN                              NaN              NaN  ...   \n",
       "1  Internal Medicine                                Y                F  ...   \n",
       "2  Internal Medicine                                Y                F  ...   \n",
       "3  Internal Medicine                                Y                F  ...   \n",
       "4  Internal Medicine                                Y                F  ...   \n",
       "\n",
       "  hcpcs_drug_indicator line_srvc_cnt bene_unique_cnt  bene_day_srvc_cnt  \\\n",
       "0                  NaN           NaN             NaN                NaN   \n",
       "1                    N         115.0           112.0              115.0   \n",
       "2                    N          93.0            88.0               93.0   \n",
       "3                    N         111.0            83.0              111.0   \n",
       "4                    N         544.0           295.0              544.0   \n",
       "\n",
       "   average_Medicare_allowed_amt  average_submitted_chrg_amt  \\\n",
       "0                           NaN                         NaN   \n",
       "1                        135.25                       199.0   \n",
       "2                        198.59                       291.0   \n",
       "3                         38.75                        58.0   \n",
       "4                         70.95                       105.0   \n",
       "\n",
       "   average_Medicare_payment_amt  year  leie_code  leie  \n",
       "0                           NaN  2012       None   Not  \n",
       "1                    108.115652  2012       None   Not  \n",
       "2                    158.870000  2012       None   Not  \n",
       "3                     30.720721  2012       None   Not  \n",
       "4                     56.655662  2012       None   Not  \n",
       "\n",
       "[5 rows x 22 columns]"
      ]
     },
     "execution_count": 2,
     "metadata": {},
     "output_type": "execute_result"
    }
   ],
   "source": [
    "input_data_file = \"output_data_npi.txt\"\n",
    "#df = pd.read_csv(os.path.join(\"..\", \"Data\", input_data_file),sep='\\t')\n",
    "df = pd.read_csv(os.path.join(\"..\", \"Data\", input_data_file),sep='\\t', nrows=2000000)\n",
    "\n",
    "# Drop the null columns where all values are null\n",
    "df = df.dropna(axis='columns', how='all')\n",
    "# Drop the null rows\n",
    "#df = df.dropna()\n",
    "df.head()"
   ]
  },
  {
   "cell_type": "code",
   "execution_count": 3,
   "metadata": {},
   "outputs": [],
   "source": [
    "df['nppes_provider_gender'] = df['nppes_provider_gender'].fillna('O')"
   ]
  },
  {
   "cell_type": "code",
   "execution_count": 4,
   "metadata": {},
   "outputs": [
    {
     "data": {
      "text/plain": [
       "Index(['npi', 'nppes_provider_gender', 'nppes_entity_code',\n",
       "       'nppes_provider_city', 'nppes_provider_zip', 'nppes_provider_state',\n",
       "       'nppes_provider_country', 'provider_type',\n",
       "       'medicare_participation_indicator', 'place_of_service', 'hcpcs_code',\n",
       "       'hcpcs_description', 'hcpcs_drug_indicator', 'line_srvc_cnt',\n",
       "       'bene_unique_cnt', 'bene_day_srvc_cnt', 'average_Medicare_allowed_amt',\n",
       "       'average_submitted_chrg_amt', 'average_Medicare_payment_amt', 'year',\n",
       "       'leie_code', 'leie'],\n",
       "      dtype='object')"
      ]
     },
     "execution_count": 4,
     "metadata": {},
     "output_type": "execute_result"
    }
   ],
   "source": [
    "df.columns"
   ]
  },
  {
   "cell_type": "code",
   "execution_count": 5,
   "metadata": {},
   "outputs": [
    {
     "name": "stdout",
     "output_type": "stream",
     "text": [
      "<class 'pandas.core.frame.DataFrame'>\n",
      "RangeIndex: 500000 entries, 0 to 499999\n",
      "Data columns (total 22 columns):\n",
      " #   Column                            Non-Null Count   Dtype  \n",
      "---  ------                            --------------   -----  \n",
      " 0   npi                               500000 non-null  int64  \n",
      " 1   nppes_provider_gender             500000 non-null  object \n",
      " 2   nppes_entity_code                 499999 non-null  object \n",
      " 3   nppes_provider_city               499999 non-null  object \n",
      " 4   nppes_provider_zip                499999 non-null  object \n",
      " 5   nppes_provider_state              499999 non-null  object \n",
      " 6   nppes_provider_country            499999 non-null  object \n",
      " 7   provider_type                     499999 non-null  object \n",
      " 8   medicare_participation_indicator  499999 non-null  object \n",
      " 9   place_of_service                  499999 non-null  object \n",
      " 10  hcpcs_code                        499999 non-null  object \n",
      " 11  hcpcs_description                 499999 non-null  object \n",
      " 12  hcpcs_drug_indicator              499999 non-null  object \n",
      " 13  line_srvc_cnt                     499999 non-null  float64\n",
      " 14  bene_unique_cnt                   499999 non-null  float64\n",
      " 15  bene_day_srvc_cnt                 499999 non-null  float64\n",
      " 16  average_Medicare_allowed_amt      499999 non-null  float64\n",
      " 17  average_submitted_chrg_amt        499999 non-null  float64\n",
      " 18  average_Medicare_payment_amt      499999 non-null  float64\n",
      " 19  year                              500000 non-null  int64  \n",
      " 20  leie_code                         500000 non-null  object \n",
      " 21  leie                              500000 non-null  object \n",
      "dtypes: float64(6), int64(2), object(14)\n",
      "memory usage: 83.9+ MB\n"
     ]
    }
   ],
   "source": [
    "df.info()"
   ]
  },
  {
   "cell_type": "markdown",
   "metadata": {},
   "source": [
    "# Select your features (columns)"
   ]
  },
  {
   "cell_type": "code",
   "execution_count": 6,
   "metadata": {},
   "outputs": [
    {
     "data": {
      "text/html": [
       "<div>\n",
       "<style scoped>\n",
       "    .dataframe tbody tr th:only-of-type {\n",
       "        vertical-align: middle;\n",
       "    }\n",
       "\n",
       "    .dataframe tbody tr th {\n",
       "        vertical-align: top;\n",
       "    }\n",
       "\n",
       "    .dataframe thead th {\n",
       "        text-align: right;\n",
       "    }\n",
       "</style>\n",
       "<table border=\"1\" class=\"dataframe\">\n",
       "  <thead>\n",
       "    <tr style=\"text-align: right;\">\n",
       "      <th></th>\n",
       "      <th>line_srvc_cnt</th>\n",
       "      <th>place_of_service</th>\n",
       "      <th>hcpcs_drug_indicator</th>\n",
       "      <th>nppes_entity_code</th>\n",
       "      <th>nppes_provider_gender</th>\n",
       "      <th>medicare_participation_indicator</th>\n",
       "      <th>leie</th>\n",
       "    </tr>\n",
       "  </thead>\n",
       "  <tbody>\n",
       "    <tr>\n",
       "      <th>1</th>\n",
       "      <td>115.0</td>\n",
       "      <td>F</td>\n",
       "      <td>N</td>\n",
       "      <td>I</td>\n",
       "      <td>M</td>\n",
       "      <td>Y</td>\n",
       "      <td>Not</td>\n",
       "    </tr>\n",
       "    <tr>\n",
       "      <th>2</th>\n",
       "      <td>93.0</td>\n",
       "      <td>F</td>\n",
       "      <td>N</td>\n",
       "      <td>I</td>\n",
       "      <td>M</td>\n",
       "      <td>Y</td>\n",
       "      <td>Not</td>\n",
       "    </tr>\n",
       "    <tr>\n",
       "      <th>3</th>\n",
       "      <td>111.0</td>\n",
       "      <td>F</td>\n",
       "      <td>N</td>\n",
       "      <td>I</td>\n",
       "      <td>M</td>\n",
       "      <td>Y</td>\n",
       "      <td>Not</td>\n",
       "    </tr>\n",
       "    <tr>\n",
       "      <th>4</th>\n",
       "      <td>544.0</td>\n",
       "      <td>F</td>\n",
       "      <td>N</td>\n",
       "      <td>I</td>\n",
       "      <td>M</td>\n",
       "      <td>Y</td>\n",
       "      <td>Not</td>\n",
       "    </tr>\n",
       "    <tr>\n",
       "      <th>5</th>\n",
       "      <td>75.0</td>\n",
       "      <td>F</td>\n",
       "      <td>N</td>\n",
       "      <td>I</td>\n",
       "      <td>M</td>\n",
       "      <td>Y</td>\n",
       "      <td>Not</td>\n",
       "    </tr>\n",
       "    <tr>\n",
       "      <th>...</th>\n",
       "      <td>...</td>\n",
       "      <td>...</td>\n",
       "      <td>...</td>\n",
       "      <td>...</td>\n",
       "      <td>...</td>\n",
       "      <td>...</td>\n",
       "      <td>...</td>\n",
       "    </tr>\n",
       "    <tr>\n",
       "      <th>499995</th>\n",
       "      <td>29.0</td>\n",
       "      <td>F</td>\n",
       "      <td>N</td>\n",
       "      <td>I</td>\n",
       "      <td>M</td>\n",
       "      <td>Y</td>\n",
       "      <td>Not</td>\n",
       "    </tr>\n",
       "    <tr>\n",
       "      <th>499996</th>\n",
       "      <td>12.0</td>\n",
       "      <td>F</td>\n",
       "      <td>N</td>\n",
       "      <td>I</td>\n",
       "      <td>M</td>\n",
       "      <td>Y</td>\n",
       "      <td>Not</td>\n",
       "    </tr>\n",
       "    <tr>\n",
       "      <th>499997</th>\n",
       "      <td>14.0</td>\n",
       "      <td>O</td>\n",
       "      <td>N</td>\n",
       "      <td>I</td>\n",
       "      <td>M</td>\n",
       "      <td>Y</td>\n",
       "      <td>Not</td>\n",
       "    </tr>\n",
       "    <tr>\n",
       "      <th>499998</th>\n",
       "      <td>37.0</td>\n",
       "      <td>O</td>\n",
       "      <td>N</td>\n",
       "      <td>I</td>\n",
       "      <td>M</td>\n",
       "      <td>Y</td>\n",
       "      <td>Not</td>\n",
       "    </tr>\n",
       "    <tr>\n",
       "      <th>499999</th>\n",
       "      <td>93.0</td>\n",
       "      <td>F</td>\n",
       "      <td>N</td>\n",
       "      <td>I</td>\n",
       "      <td>M</td>\n",
       "      <td>Y</td>\n",
       "      <td>Not</td>\n",
       "    </tr>\n",
       "  </tbody>\n",
       "</table>\n",
       "<p>499999 rows × 7 columns</p>\n",
       "</div>"
      ],
      "text/plain": [
       "        line_srvc_cnt place_of_service hcpcs_drug_indicator nppes_entity_code  \\\n",
       "1               115.0                F                    N                 I   \n",
       "2                93.0                F                    N                 I   \n",
       "3               111.0                F                    N                 I   \n",
       "4               544.0                F                    N                 I   \n",
       "5                75.0                F                    N                 I   \n",
       "...               ...              ...                  ...               ...   \n",
       "499995           29.0                F                    N                 I   \n",
       "499996           12.0                F                    N                 I   \n",
       "499997           14.0                O                    N                 I   \n",
       "499998           37.0                O                    N                 I   \n",
       "499999           93.0                F                    N                 I   \n",
       "\n",
       "       nppes_provider_gender medicare_participation_indicator leie  \n",
       "1                          M                                Y  Not  \n",
       "2                          M                                Y  Not  \n",
       "3                          M                                Y  Not  \n",
       "4                          M                                Y  Not  \n",
       "5                          M                                Y  Not  \n",
       "...                      ...                              ...  ...  \n",
       "499995                     M                                Y  Not  \n",
       "499996                     M                                Y  Not  \n",
       "499997                     M                                Y  Not  \n",
       "499998                     M                                Y  Not  \n",
       "499999                     M                                Y  Not  \n",
       "\n",
       "[499999 rows x 7 columns]"
      ]
     },
     "execution_count": 6,
     "metadata": {},
     "output_type": "execute_result"
    }
   ],
   "source": [
    "# Set features. This will also be used as your x values.\n",
    "selected_features = df[['line_srvc_cnt', 'place_of_service', 'hcpcs_drug_indicator', 'nppes_entity_code', 'nppes_provider_gender',\n",
    "                       'medicare_participation_indicator', 'leie']]\n",
    "selected_features = selected_features.dropna()\n",
    "selected_features"
   ]
  },
  {
   "cell_type": "markdown",
   "metadata": {},
   "source": [
    "# Create a Train Test Split\n",
    "\n",
    "Use `koi_disposition` for the y values"
   ]
  },
  {
   "cell_type": "code",
   "execution_count": 7,
   "metadata": {},
   "outputs": [
    {
     "name": "stdout",
     "output_type": "stream",
     "text": [
      "<class 'pandas.core.frame.DataFrame'>\n",
      "Int64Index: 499999 entries, 1 to 499999\n",
      "Data columns (total 7 columns):\n",
      " #   Column                            Non-Null Count   Dtype  \n",
      "---  ------                            --------------   -----  \n",
      " 0   line_srvc_cnt                     499999 non-null  float64\n",
      " 1   place_of_service                  499999 non-null  object \n",
      " 2   hcpcs_drug_indicator              499999 non-null  object \n",
      " 3   nppes_entity_code                 499999 non-null  object \n",
      " 4   nppes_provider_gender             499999 non-null  object \n",
      " 5   medicare_participation_indicator  499999 non-null  object \n",
      " 6   leie                              499999 non-null  object \n",
      "dtypes: float64(1), object(6)\n",
      "memory usage: 30.5+ MB\n"
     ]
    }
   ],
   "source": [
    "selected_features.info()\n",
    "\n",
    "#output_data_file = \"mike_look_test.txt\"\n",
    "#selected_features.to_csv(os.path.join(\"..\", \"Data\", output_data_file), index= False, sep='\\t')\n"
   ]
  },
  {
   "cell_type": "code",
   "execution_count": 8,
   "metadata": {},
   "outputs": [
    {
     "name": "stdout",
     "output_type": "stream",
     "text": [
      "<class 'pandas.core.frame.DataFrame'>\n",
      "Int64Index: 499999 entries, 1 to 499999\n",
      "Data columns (total 6 columns):\n",
      " #   Column                            Non-Null Count   Dtype  \n",
      "---  ------                            --------------   -----  \n",
      " 0   line_srvc_cnt                     499999 non-null  float64\n",
      " 1   place_of_service                  499999 non-null  object \n",
      " 2   hcpcs_drug_indicator              499999 non-null  object \n",
      " 3   nppes_entity_code                 499999 non-null  object \n",
      " 4   nppes_provider_gender             499999 non-null  object \n",
      " 5   medicare_participation_indicator  499999 non-null  object \n",
      "dtypes: float64(1), object(5)\n",
      "memory usage: 26.7+ MB\n"
     ]
    }
   ],
   "source": [
    "disposition = selected_features[\"leie\"]\n",
    "disposition_names = [\"Not\", \"On_List\"]\n",
    "selected_features = selected_features.drop(\"leie\", axis=1)\n",
    "feature_names = selected_features.columns\n",
    "selected_features.info()"
   ]
  },
  {
   "cell_type": "code",
   "execution_count": 9,
   "metadata": {},
   "outputs": [
    {
     "data": {
      "text/html": [
       "<div>\n",
       "<style scoped>\n",
       "    .dataframe tbody tr th:only-of-type {\n",
       "        vertical-align: middle;\n",
       "    }\n",
       "\n",
       "    .dataframe tbody tr th {\n",
       "        vertical-align: top;\n",
       "    }\n",
       "\n",
       "    .dataframe thead th {\n",
       "        text-align: right;\n",
       "    }\n",
       "</style>\n",
       "<table border=\"1\" class=\"dataframe\">\n",
       "  <thead>\n",
       "    <tr style=\"text-align: right;\">\n",
       "      <th></th>\n",
       "      <th>line_srvc_cnt</th>\n",
       "      <th>place_of_service_F</th>\n",
       "      <th>place_of_service_O</th>\n",
       "      <th>hcpcs_drug_indicator_N</th>\n",
       "      <th>hcpcs_drug_indicator_Y</th>\n",
       "      <th>nppes_entity_code_I</th>\n",
       "      <th>nppes_entity_code_O</th>\n",
       "      <th>nppes_provider_gender_F</th>\n",
       "      <th>nppes_provider_gender_M</th>\n",
       "      <th>nppes_provider_gender_O</th>\n",
       "      <th>medicare_participation_indicator_N</th>\n",
       "      <th>medicare_participation_indicator_Y</th>\n",
       "    </tr>\n",
       "  </thead>\n",
       "  <tbody>\n",
       "    <tr>\n",
       "      <th>1</th>\n",
       "      <td>115.0</td>\n",
       "      <td>1</td>\n",
       "      <td>0</td>\n",
       "      <td>1</td>\n",
       "      <td>0</td>\n",
       "      <td>1</td>\n",
       "      <td>0</td>\n",
       "      <td>0</td>\n",
       "      <td>1</td>\n",
       "      <td>0</td>\n",
       "      <td>0</td>\n",
       "      <td>1</td>\n",
       "    </tr>\n",
       "    <tr>\n",
       "      <th>2</th>\n",
       "      <td>93.0</td>\n",
       "      <td>1</td>\n",
       "      <td>0</td>\n",
       "      <td>1</td>\n",
       "      <td>0</td>\n",
       "      <td>1</td>\n",
       "      <td>0</td>\n",
       "      <td>0</td>\n",
       "      <td>1</td>\n",
       "      <td>0</td>\n",
       "      <td>0</td>\n",
       "      <td>1</td>\n",
       "    </tr>\n",
       "    <tr>\n",
       "      <th>3</th>\n",
       "      <td>111.0</td>\n",
       "      <td>1</td>\n",
       "      <td>0</td>\n",
       "      <td>1</td>\n",
       "      <td>0</td>\n",
       "      <td>1</td>\n",
       "      <td>0</td>\n",
       "      <td>0</td>\n",
       "      <td>1</td>\n",
       "      <td>0</td>\n",
       "      <td>0</td>\n",
       "      <td>1</td>\n",
       "    </tr>\n",
       "    <tr>\n",
       "      <th>4</th>\n",
       "      <td>544.0</td>\n",
       "      <td>1</td>\n",
       "      <td>0</td>\n",
       "      <td>1</td>\n",
       "      <td>0</td>\n",
       "      <td>1</td>\n",
       "      <td>0</td>\n",
       "      <td>0</td>\n",
       "      <td>1</td>\n",
       "      <td>0</td>\n",
       "      <td>0</td>\n",
       "      <td>1</td>\n",
       "    </tr>\n",
       "    <tr>\n",
       "      <th>5</th>\n",
       "      <td>75.0</td>\n",
       "      <td>1</td>\n",
       "      <td>0</td>\n",
       "      <td>1</td>\n",
       "      <td>0</td>\n",
       "      <td>1</td>\n",
       "      <td>0</td>\n",
       "      <td>0</td>\n",
       "      <td>1</td>\n",
       "      <td>0</td>\n",
       "      <td>0</td>\n",
       "      <td>1</td>\n",
       "    </tr>\n",
       "    <tr>\n",
       "      <th>...</th>\n",
       "      <td>...</td>\n",
       "      <td>...</td>\n",
       "      <td>...</td>\n",
       "      <td>...</td>\n",
       "      <td>...</td>\n",
       "      <td>...</td>\n",
       "      <td>...</td>\n",
       "      <td>...</td>\n",
       "      <td>...</td>\n",
       "      <td>...</td>\n",
       "      <td>...</td>\n",
       "      <td>...</td>\n",
       "    </tr>\n",
       "    <tr>\n",
       "      <th>499995</th>\n",
       "      <td>29.0</td>\n",
       "      <td>1</td>\n",
       "      <td>0</td>\n",
       "      <td>1</td>\n",
       "      <td>0</td>\n",
       "      <td>1</td>\n",
       "      <td>0</td>\n",
       "      <td>0</td>\n",
       "      <td>1</td>\n",
       "      <td>0</td>\n",
       "      <td>0</td>\n",
       "      <td>1</td>\n",
       "    </tr>\n",
       "    <tr>\n",
       "      <th>499996</th>\n",
       "      <td>12.0</td>\n",
       "      <td>1</td>\n",
       "      <td>0</td>\n",
       "      <td>1</td>\n",
       "      <td>0</td>\n",
       "      <td>1</td>\n",
       "      <td>0</td>\n",
       "      <td>0</td>\n",
       "      <td>1</td>\n",
       "      <td>0</td>\n",
       "      <td>0</td>\n",
       "      <td>1</td>\n",
       "    </tr>\n",
       "    <tr>\n",
       "      <th>499997</th>\n",
       "      <td>14.0</td>\n",
       "      <td>0</td>\n",
       "      <td>1</td>\n",
       "      <td>1</td>\n",
       "      <td>0</td>\n",
       "      <td>1</td>\n",
       "      <td>0</td>\n",
       "      <td>0</td>\n",
       "      <td>1</td>\n",
       "      <td>0</td>\n",
       "      <td>0</td>\n",
       "      <td>1</td>\n",
       "    </tr>\n",
       "    <tr>\n",
       "      <th>499998</th>\n",
       "      <td>37.0</td>\n",
       "      <td>0</td>\n",
       "      <td>1</td>\n",
       "      <td>1</td>\n",
       "      <td>0</td>\n",
       "      <td>1</td>\n",
       "      <td>0</td>\n",
       "      <td>0</td>\n",
       "      <td>1</td>\n",
       "      <td>0</td>\n",
       "      <td>0</td>\n",
       "      <td>1</td>\n",
       "    </tr>\n",
       "    <tr>\n",
       "      <th>499999</th>\n",
       "      <td>93.0</td>\n",
       "      <td>1</td>\n",
       "      <td>0</td>\n",
       "      <td>1</td>\n",
       "      <td>0</td>\n",
       "      <td>1</td>\n",
       "      <td>0</td>\n",
       "      <td>0</td>\n",
       "      <td>1</td>\n",
       "      <td>0</td>\n",
       "      <td>0</td>\n",
       "      <td>1</td>\n",
       "    </tr>\n",
       "  </tbody>\n",
       "</table>\n",
       "<p>499999 rows × 12 columns</p>\n",
       "</div>"
      ],
      "text/plain": [
       "        line_srvc_cnt  place_of_service_F  place_of_service_O  \\\n",
       "1               115.0                   1                   0   \n",
       "2                93.0                   1                   0   \n",
       "3               111.0                   1                   0   \n",
       "4               544.0                   1                   0   \n",
       "5                75.0                   1                   0   \n",
       "...               ...                 ...                 ...   \n",
       "499995           29.0                   1                   0   \n",
       "499996           12.0                   1                   0   \n",
       "499997           14.0                   0                   1   \n",
       "499998           37.0                   0                   1   \n",
       "499999           93.0                   1                   0   \n",
       "\n",
       "        hcpcs_drug_indicator_N  hcpcs_drug_indicator_Y  nppes_entity_code_I  \\\n",
       "1                            1                       0                    1   \n",
       "2                            1                       0                    1   \n",
       "3                            1                       0                    1   \n",
       "4                            1                       0                    1   \n",
       "5                            1                       0                    1   \n",
       "...                        ...                     ...                  ...   \n",
       "499995                       1                       0                    1   \n",
       "499996                       1                       0                    1   \n",
       "499997                       1                       0                    1   \n",
       "499998                       1                       0                    1   \n",
       "499999                       1                       0                    1   \n",
       "\n",
       "        nppes_entity_code_O  nppes_provider_gender_F  nppes_provider_gender_M  \\\n",
       "1                         0                        0                        1   \n",
       "2                         0                        0                        1   \n",
       "3                         0                        0                        1   \n",
       "4                         0                        0                        1   \n",
       "5                         0                        0                        1   \n",
       "...                     ...                      ...                      ...   \n",
       "499995                    0                        0                        1   \n",
       "499996                    0                        0                        1   \n",
       "499997                    0                        0                        1   \n",
       "499998                    0                        0                        1   \n",
       "499999                    0                        0                        1   \n",
       "\n",
       "        nppes_provider_gender_O  medicare_participation_indicator_N  \\\n",
       "1                             0                                   0   \n",
       "2                             0                                   0   \n",
       "3                             0                                   0   \n",
       "4                             0                                   0   \n",
       "5                             0                                   0   \n",
       "...                         ...                                 ...   \n",
       "499995                        0                                   0   \n",
       "499996                        0                                   0   \n",
       "499997                        0                                   0   \n",
       "499998                        0                                   0   \n",
       "499999                        0                                   0   \n",
       "\n",
       "        medicare_participation_indicator_Y  \n",
       "1                                        1  \n",
       "2                                        1  \n",
       "3                                        1  \n",
       "4                                        1  \n",
       "5                                        1  \n",
       "...                                    ...  \n",
       "499995                                   1  \n",
       "499996                                   1  \n",
       "499997                                   1  \n",
       "499998                                   1  \n",
       "499999                                   1  \n",
       "\n",
       "[499999 rows x 12 columns]"
      ]
     },
     "execution_count": 9,
     "metadata": {},
     "output_type": "execute_result"
    }
   ],
   "source": [
    "data = pd.get_dummies(selected_features)\n",
    "data"
   ]
  },
  {
   "cell_type": "code",
   "execution_count": 10,
   "metadata": {},
   "outputs": [
    {
     "name": "stdout",
     "output_type": "stream",
     "text": [
      "<class 'pandas.core.frame.DataFrame'>\n",
      "Int64Index: 499999 entries, 1 to 499999\n",
      "Data columns (total 8 columns):\n",
      " #   Column                              Non-Null Count   Dtype  \n",
      "---  ------                              --------------   -----  \n",
      " 0   line_srvc_cnt                       499999 non-null  float64\n",
      " 1   place_of_service_F                  499999 non-null  uint8  \n",
      " 2   hcpcs_drug_indicator_N              499999 non-null  uint8  \n",
      " 3   nppes_entity_code_I                 499999 non-null  uint8  \n",
      " 4   nppes_provider_gender_F             499999 non-null  uint8  \n",
      " 5   nppes_provider_gender_M             499999 non-null  uint8  \n",
      " 6   nppes_provider_gender_O             499999 non-null  uint8  \n",
      " 7   medicare_participation_indicator_N  499999 non-null  uint8  \n",
      "dtypes: float64(1), uint8(7)\n",
      "memory usage: 11.0 MB\n"
     ]
    }
   ],
   "source": [
    "data = data.drop(['nppes_entity_code_O', 'medicare_participation_indicator_Y', 'place_of_service_O', 'hcpcs_drug_indicator_Y'], axis=1)\n",
    "data.info()"
   ]
  },
  {
   "cell_type": "code",
   "execution_count": 11,
   "metadata": {},
   "outputs": [],
   "source": [
    "from sklearn.model_selection import train_test_split\n",
    "X_train, X_test, y_train, y_test = train_test_split(data, disposition, test_size=0.50, random_state=42)"
   ]
  },
  {
   "cell_type": "code",
   "execution_count": 12,
   "metadata": {},
   "outputs": [
    {
     "name": "stdout",
     "output_type": "stream",
     "text": [
      "<class 'pandas.core.frame.DataFrame'>\n",
      "Int64Index: 249999 entries, 315367 to 121959\n",
      "Data columns (total 8 columns):\n",
      " #   Column                              Non-Null Count   Dtype  \n",
      "---  ------                              --------------   -----  \n",
      " 0   line_srvc_cnt                       249999 non-null  float64\n",
      " 1   place_of_service_F                  249999 non-null  uint8  \n",
      " 2   hcpcs_drug_indicator_N              249999 non-null  uint8  \n",
      " 3   nppes_entity_code_I                 249999 non-null  uint8  \n",
      " 4   nppes_provider_gender_F             249999 non-null  uint8  \n",
      " 5   nppes_provider_gender_M             249999 non-null  uint8  \n",
      " 6   nppes_provider_gender_O             249999 non-null  uint8  \n",
      " 7   medicare_participation_indicator_N  249999 non-null  uint8  \n",
      "dtypes: float64(1), uint8(7)\n",
      "memory usage: 5.5 MB\n"
     ]
    }
   ],
   "source": [
    "X_train.info()"
   ]
  },
  {
   "cell_type": "code",
   "execution_count": 13,
   "metadata": {},
   "outputs": [
    {
     "data": {
      "text/plain": [
       "315367    Not\n",
       "196833    Not\n",
       "187641    Not\n",
       "418843    Not\n",
       "72548     Not\n",
       "         ... \n",
       "259179    Not\n",
       "365839    Not\n",
       "131933    Not\n",
       "146868    Not\n",
       "121959    Not\n",
       "Name: leie, Length: 249999, dtype: object"
      ]
     },
     "execution_count": 13,
     "metadata": {},
     "output_type": "execute_result"
    }
   ],
   "source": [
    "y_train"
   ]
  },
  {
   "cell_type": "code",
   "execution_count": 14,
   "metadata": {},
   "outputs": [],
   "source": [
    "# Support vector machine linear classifier\n",
    "from sklearn.svm import SVC \n",
    "model = SVC(kernel='linear')"
   ]
  },
  {
   "cell_type": "markdown",
   "metadata": {},
   "source": [
    "# Pre-processing\n",
    "Scale the data using the MinMaxScaler and perform some feature selection"
   ]
  },
  {
   "cell_type": "code",
   "execution_count": 15,
   "metadata": {},
   "outputs": [],
   "source": [
    "from sklearn.preprocessing import MinMaxScaler\n",
    "X_minmax = MinMaxScaler().fit(X_train)\n",
    "\n",
    "X_train_scale = X_minmax.transform(X_train)\n",
    "X_test_scale = X_minmax.transform(X_test)\n"
   ]
  },
  {
   "cell_type": "code",
   "execution_count": 16,
   "metadata": {},
   "outputs": [
    {
     "data": {
      "text/plain": [
       "array([[1.51818950e-04, 0.00000000e+00, 1.00000000e+00, ...,\n",
       "        1.00000000e+00, 0.00000000e+00, 0.00000000e+00],\n",
       "       [6.35435767e-04, 0.00000000e+00, 1.00000000e+00, ...,\n",
       "        1.00000000e+00, 0.00000000e+00, 0.00000000e+00],\n",
       "       [2.73437357e-05, 0.00000000e+00, 1.00000000e+00, ...,\n",
       "        1.00000000e+00, 0.00000000e+00, 0.00000000e+00],\n",
       "       ...,\n",
       "       [4.35459193e-04, 1.00000000e+00, 1.00000000e+00, ...,\n",
       "        1.00000000e+00, 0.00000000e+00, 0.00000000e+00],\n",
       "       [2.12220038e-05, 1.00000000e+00, 1.00000000e+00, ...,\n",
       "        1.00000000e+00, 0.00000000e+00, 0.00000000e+00],\n",
       "       [3.14248902e-05, 0.00000000e+00, 1.00000000e+00, ...,\n",
       "        0.00000000e+00, 0.00000000e+00, 0.00000000e+00]])"
      ]
     },
     "execution_count": 16,
     "metadata": {},
     "output_type": "execute_result"
    }
   ],
   "source": [
    "X_train_scale"
   ]
  },
  {
   "cell_type": "markdown",
   "metadata": {},
   "source": [
    "# Hyperparameter Tuning\n",
    "Use GridSearchCV to tune the model's parameters"
   ]
  },
  {
   "cell_type": "code",
   "execution_count": 17,
   "metadata": {},
   "outputs": [],
   "source": [
    "# Create the GridSearch estimator along with a parameter object containing the values to adjust\n",
    "from sklearn.model_selection import GridSearchCV\n",
    "param_grid = {'C': [1],\n",
    "              'gamma': [1.0]}\n",
    "grid = GridSearchCV(model, param_grid, verbose=3)"
   ]
  },
  {
   "cell_type": "code",
   "execution_count": 18,
   "metadata": {},
   "outputs": [
    {
     "name": "stdout",
     "output_type": "stream",
     "text": [
      "Fitting 5 folds for each of 1 candidates, totalling 5 fits\n"
     ]
    },
    {
     "name": "stderr",
     "output_type": "stream",
     "text": [
      "[Parallel(n_jobs=1)]: Using backend SequentialBackend with 1 concurrent workers.\n"
     ]
    },
    {
     "name": "stdout",
     "output_type": "stream",
     "text": [
      "[CV] C=1, gamma=1.0 ..................................................\n",
      "[CV] ...................... C=1, gamma=1.0, score=0.998, total=   2.1s\n",
      "[CV] C=1, gamma=1.0 ..................................................\n"
     ]
    },
    {
     "name": "stderr",
     "output_type": "stream",
     "text": [
      "[Parallel(n_jobs=1)]: Done   1 out of   1 | elapsed:    2.0s remaining:    0.0s\n"
     ]
    },
    {
     "name": "stdout",
     "output_type": "stream",
     "text": [
      "[CV] ...................... C=1, gamma=1.0, score=0.998, total=   2.1s\n",
      "[CV] C=1, gamma=1.0 ..................................................\n"
     ]
    },
    {
     "name": "stderr",
     "output_type": "stream",
     "text": [
      "[Parallel(n_jobs=1)]: Done   2 out of   2 | elapsed:    4.1s remaining:    0.0s\n"
     ]
    },
    {
     "name": "stdout",
     "output_type": "stream",
     "text": [
      "[CV] ...................... C=1, gamma=1.0, score=0.998, total=   2.1s\n",
      "[CV] C=1, gamma=1.0 ..................................................\n",
      "[CV] ...................... C=1, gamma=1.0, score=0.998, total=   2.1s\n",
      "[CV] C=1, gamma=1.0 ..................................................\n",
      "[CV] ...................... C=1, gamma=1.0, score=0.998, total=   2.1s\n"
     ]
    },
    {
     "name": "stderr",
     "output_type": "stream",
     "text": [
      "[Parallel(n_jobs=1)]: Done   5 out of   5 | elapsed:   10.4s finished\n"
     ]
    },
    {
     "data": {
      "text/plain": [
       "GridSearchCV(cv=None, error_score=nan,\n",
       "             estimator=SVC(C=1.0, break_ties=False, cache_size=200,\n",
       "                           class_weight=None, coef0=0.0,\n",
       "                           decision_function_shape='ovr', degree=3,\n",
       "                           gamma='scale', kernel='linear', max_iter=-1,\n",
       "                           probability=False, random_state=None, shrinking=True,\n",
       "                           tol=0.001, verbose=False),\n",
       "             iid='deprecated', n_jobs=None,\n",
       "             param_grid={'C': [1], 'gamma': [1.0]}, pre_dispatch='2*n_jobs',\n",
       "             refit=True, return_train_score=False, scoring=None, verbose=3)"
      ]
     },
     "execution_count": 18,
     "metadata": {},
     "output_type": "execute_result"
    }
   ],
   "source": [
    "# Fit the model using the grid search estimator. \n",
    "# This will take the SVC model and try each combination of parameters\n",
    "grid.fit(X_train_scale, y_train)"
   ]
  },
  {
   "cell_type": "code",
   "execution_count": 19,
   "metadata": {},
   "outputs": [
    {
     "name": "stdout",
     "output_type": "stream",
     "text": [
      "Training Data Score: 0.9983479933919736\n",
      "Testing Data Score: 0.998324\n"
     ]
    }
   ],
   "source": [
    "print(f\"Training Data Score: {grid.score(X_train_scale, y_train)}\")\n",
    "print(f\"Testing Data Score: {grid.score(X_test_scale, y_test)}\")"
   ]
  },
  {
   "cell_type": "code",
   "execution_count": 20,
   "metadata": {},
   "outputs": [
    {
     "name": "stdout",
     "output_type": "stream",
     "text": [
      "{'C': 1, 'gamma': 1.0}\n"
     ]
    }
   ],
   "source": [
    "# List the best parameters for this dataset\n",
    "print(grid.best_params_)"
   ]
  },
  {
   "cell_type": "code",
   "execution_count": 21,
   "metadata": {},
   "outputs": [
    {
     "name": "stdout",
     "output_type": "stream",
     "text": [
      "0.9983479934398687\n"
     ]
    }
   ],
   "source": [
    "# List the best score\n",
    "print(grid.best_score_)"
   ]
  },
  {
   "cell_type": "code",
   "execution_count": 22,
   "metadata": {},
   "outputs": [
    {
     "data": {
      "text/plain": [
       "dict"
      ]
     },
     "execution_count": 22,
     "metadata": {},
     "output_type": "execute_result"
    }
   ],
   "source": [
    "type(grid.cv_results_)"
   ]
  },
  {
   "cell_type": "code",
   "execution_count": 23,
   "metadata": {},
   "outputs": [
    {
     "name": "stdout",
     "output_type": "stream",
     "text": [
      "dict_keys(['mean_fit_time', 'std_fit_time', 'mean_score_time', 'std_score_time', 'param_C', 'param_gamma', 'params', 'split0_test_score', 'split1_test_score', 'split2_test_score', 'split3_test_score', 'split4_test_score', 'mean_test_score', 'std_test_score', 'rank_test_score'])\n"
     ]
    }
   ],
   "source": [
    "print(grid.cv_results_.keys())"
   ]
  },
  {
   "cell_type": "code",
   "execution_count": 24,
   "metadata": {},
   "outputs": [
    {
     "data": {
      "text/html": [
       "<div>\n",
       "<style scoped>\n",
       "    .dataframe tbody tr th:only-of-type {\n",
       "        vertical-align: middle;\n",
       "    }\n",
       "\n",
       "    .dataframe tbody tr th {\n",
       "        vertical-align: top;\n",
       "    }\n",
       "\n",
       "    .dataframe thead th {\n",
       "        text-align: right;\n",
       "    }\n",
       "</style>\n",
       "<table border=\"1\" class=\"dataframe\">\n",
       "  <thead>\n",
       "    <tr style=\"text-align: right;\">\n",
       "      <th></th>\n",
       "      <th>mean_fit_time</th>\n",
       "      <th>std_fit_time</th>\n",
       "      <th>mean_score_time</th>\n",
       "      <th>std_score_time</th>\n",
       "      <th>param_C</th>\n",
       "      <th>param_gamma</th>\n",
       "      <th>params</th>\n",
       "      <th>split0_test_score</th>\n",
       "      <th>split1_test_score</th>\n",
       "      <th>split2_test_score</th>\n",
       "      <th>split3_test_score</th>\n",
       "      <th>split4_test_score</th>\n",
       "      <th>mean_test_score</th>\n",
       "      <th>std_test_score</th>\n",
       "      <th>rank_test_score</th>\n",
       "    </tr>\n",
       "  </thead>\n",
       "  <tbody>\n",
       "    <tr>\n",
       "      <th>0</th>\n",
       "      <td>1.75205</td>\n",
       "      <td>0.01915</td>\n",
       "      <td>0.3359</td>\n",
       "      <td>0.005191</td>\n",
       "      <td>1</td>\n",
       "      <td>1</td>\n",
       "      <td>{'C': 1, 'gamma': 1.0}</td>\n",
       "      <td>0.99836</td>\n",
       "      <td>0.99834</td>\n",
       "      <td>0.99834</td>\n",
       "      <td>0.99834</td>\n",
       "      <td>0.99836</td>\n",
       "      <td>0.998348</td>\n",
       "      <td>0.00001</td>\n",
       "      <td>1</td>\n",
       "    </tr>\n",
       "  </tbody>\n",
       "</table>\n",
       "</div>"
      ],
      "text/plain": [
       "   mean_fit_time  std_fit_time  mean_score_time  std_score_time param_C  \\\n",
       "0        1.75205       0.01915           0.3359        0.005191       1   \n",
       "\n",
       "  param_gamma                  params  split0_test_score  split1_test_score  \\\n",
       "0           1  {'C': 1, 'gamma': 1.0}            0.99836            0.99834   \n",
       "\n",
       "   split2_test_score  split3_test_score  split4_test_score  mean_test_score  \\\n",
       "0            0.99834            0.99834            0.99836         0.998348   \n",
       "\n",
       "   std_test_score  rank_test_score  \n",
       "0         0.00001                1  "
      ]
     },
     "execution_count": 24,
     "metadata": {},
     "output_type": "execute_result"
    }
   ],
   "source": [
    "import pandas as pd\n",
    "\n",
    "cv_results = pd.DataFrame(grid.cv_results_)\n",
    "cv_results"
   ]
  },
  {
   "cell_type": "code",
   "execution_count": 25,
   "metadata": {},
   "outputs": [
    {
     "data": {
      "text/html": [
       "<div>\n",
       "<style scoped>\n",
       "    .dataframe tbody tr th:only-of-type {\n",
       "        vertical-align: middle;\n",
       "    }\n",
       "\n",
       "    .dataframe tbody tr th {\n",
       "        vertical-align: top;\n",
       "    }\n",
       "\n",
       "    .dataframe thead th {\n",
       "        text-align: right;\n",
       "    }\n",
       "</style>\n",
       "<table border=\"1\" class=\"dataframe\">\n",
       "  <thead>\n",
       "    <tr style=\"text-align: right;\">\n",
       "      <th></th>\n",
       "      <th>param_C</th>\n",
       "      <th>param_gamma</th>\n",
       "      <th>mean_test_score</th>\n",
       "    </tr>\n",
       "  </thead>\n",
       "  <tbody>\n",
       "    <tr>\n",
       "      <th>0</th>\n",
       "      <td>1</td>\n",
       "      <td>1</td>\n",
       "      <td>0.998348</td>\n",
       "    </tr>\n",
       "  </tbody>\n",
       "</table>\n",
       "</div>"
      ],
      "text/plain": [
       "  param_C param_gamma  mean_test_score\n",
       "0       1           1         0.998348"
      ]
     },
     "execution_count": 25,
     "metadata": {},
     "output_type": "execute_result"
    }
   ],
   "source": [
    "cv_results_tiny = cv_results[['param_C', 'param_gamma', 'mean_test_score']]\n",
    "cv_results_tiny.sort_values(by='mean_test_score', ascending=False).head(50)"
   ]
  },
  {
   "cell_type": "code",
   "execution_count": 26,
   "metadata": {},
   "outputs": [
    {
     "name": "stdout",
     "output_type": "stream",
     "text": [
      "0\n"
     ]
    }
   ],
   "source": [
    "# Best index for the model to impact the model.\n",
    "print(grid.best_index_)"
   ]
  },
  {
   "cell_type": "code",
   "execution_count": 27,
   "metadata": {},
   "outputs": [],
   "source": [
    "# Make predictions with the hypertuned model\n",
    "predictions = grid.predict(X_test_scale)"
   ]
  },
  {
   "cell_type": "code",
   "execution_count": 28,
   "metadata": {},
   "outputs": [
    {
     "name": "stderr",
     "output_type": "stream",
     "text": [
      "C:\\Users\\gleix\\anaconda3\\lib\\site-packages\\sklearn\\metrics\\_classification.py:1272: UndefinedMetricWarning: Precision and F-score are ill-defined and being set to 0.0 in labels with no predicted samples. Use `zero_division` parameter to control this behavior.\n",
      "  _warn_prf(average, modifier, msg_start, len(result))\n"
     ]
    },
    {
     "name": "stdout",
     "output_type": "stream",
     "text": [
      "              precision    recall  f1-score   support\n",
      "\n",
      "         Not       1.00      1.00      1.00    249581\n",
      "     On_List       0.00      0.00      0.00       419\n",
      "\n",
      "    accuracy                           1.00    250000\n",
      "   macro avg       0.50      0.50      0.50    250000\n",
      "weighted avg       1.00      1.00      1.00    250000\n",
      "\n"
     ]
    }
   ],
   "source": [
    "# Calculate classification report\n",
    "from sklearn.metrics import classification_report\n",
    "print(classification_report(y_test, predictions,\n",
    "                            target_names=disposition_names))"
   ]
  },
  {
   "cell_type": "code",
   "execution_count": 29,
   "metadata": {},
   "outputs": [
    {
     "data": {
      "text/plain": [
       "['Medicare_SVC_Grid_10-21-20_Test.sav']"
      ]
     },
     "execution_count": 29,
     "metadata": {},
     "output_type": "execute_result"
    }
   ],
   "source": [
    "# save your model by updating \"your_name\" with your name\n",
    "# and \"your_model\" with your model variable\n",
    "# be sure to turn this in to BCS\n",
    "# if joblib fails to import, try running the command to install in terminal/git-bash\n",
    "import joblib\n",
    "filename = 'Medicare_SVC_Grid_10-21-20_Test.sav'\n",
    "joblib.dump(grid, filename)"
   ]
  },
  {
   "cell_type": "code",
   "execution_count": null,
   "metadata": {},
   "outputs": [],
   "source": []
  }
 ],
 "metadata": {
  "kernel_info": {
   "name": "dev"
  },
  "kernelspec": {
   "display_name": "Python 3",
   "language": "python",
   "name": "python3"
  },
  "language_info": {
   "codemirror_mode": {
    "name": "ipython",
    "version": 3
   },
   "file_extension": ".py",
   "mimetype": "text/x-python",
   "name": "python",
   "nbconvert_exporter": "python",
   "pygments_lexer": "ipython3",
   "version": "3.7.6"
  },
  "nteract": {
   "version": "0.12.3"
  }
 },
 "nbformat": 4,
 "nbformat_minor": 2
}
