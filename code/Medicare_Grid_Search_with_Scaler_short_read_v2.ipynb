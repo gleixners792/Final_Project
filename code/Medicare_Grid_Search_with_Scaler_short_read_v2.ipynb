{
 "cells": [
  {
   "cell_type": "code",
   "execution_count": 1,
   "metadata": {},
   "outputs": [],
   "source": [
    "import matplotlib.pyplot as plt\n",
    "from sklearn.neighbors import KNeighborsClassifier\n",
    "import os\n",
    "import pandas as pd\n",
    "import numpy as np"
   ]
  },
  {
   "cell_type": "markdown",
   "metadata": {},
   "source": [
    "# Read the CSV and Perform Basic Data Cleaning"
   ]
  },
  {
   "cell_type": "code",
   "execution_count": 2,
   "metadata": {},
   "outputs": [
    {
     "data": {
      "text/html": [
       "<div>\n",
       "<style scoped>\n",
       "    .dataframe tbody tr th:only-of-type {\n",
       "        vertical-align: middle;\n",
       "    }\n",
       "\n",
       "    .dataframe tbody tr th {\n",
       "        vertical-align: top;\n",
       "    }\n",
       "\n",
       "    .dataframe thead th {\n",
       "        text-align: right;\n",
       "    }\n",
       "</style>\n",
       "<table border=\"1\" class=\"dataframe\">\n",
       "  <thead>\n",
       "    <tr style=\"text-align: right;\">\n",
       "      <th></th>\n",
       "      <th>npi</th>\n",
       "      <th>nppes_provider_gender</th>\n",
       "      <th>nppes_entity_code</th>\n",
       "      <th>nppes_provider_city</th>\n",
       "      <th>nppes_provider_zip</th>\n",
       "      <th>nppes_provider_state</th>\n",
       "      <th>nppes_provider_country</th>\n",
       "      <th>provider_type</th>\n",
       "      <th>medicare_participation_indicator</th>\n",
       "      <th>place_of_service</th>\n",
       "      <th>...</th>\n",
       "      <th>hcpcs_drug_indicator</th>\n",
       "      <th>line_srvc_cnt</th>\n",
       "      <th>bene_unique_cnt</th>\n",
       "      <th>bene_day_srvc_cnt</th>\n",
       "      <th>average_Medicare_allowed_amt</th>\n",
       "      <th>average_submitted_chrg_amt</th>\n",
       "      <th>average_Medicare_payment_amt</th>\n",
       "      <th>year</th>\n",
       "      <th>leie_code</th>\n",
       "      <th>leie</th>\n",
       "    </tr>\n",
       "  </thead>\n",
       "  <tbody>\n",
       "    <tr>\n",
       "      <th>0</th>\n",
       "      <td>1720342884</td>\n",
       "      <td>NaN</td>\n",
       "      <td>O</td>\n",
       "      <td>NEW ORLEANS</td>\n",
       "      <td>701122714.0</td>\n",
       "      <td>LA</td>\n",
       "      <td>US</td>\n",
       "      <td>Clinical Laboratory</td>\n",
       "      <td>Y</td>\n",
       "      <td>O</td>\n",
       "      <td>...</td>\n",
       "      <td>N</td>\n",
       "      <td>332603.0</td>\n",
       "      <td>167054.0</td>\n",
       "      <td>167798.0</td>\n",
       "      <td>105.972315</td>\n",
       "      <td>118.707137</td>\n",
       "      <td>103.835534</td>\n",
       "      <td>2014</td>\n",
       "      <td>1128b7</td>\n",
       "      <td>On_List</td>\n",
       "    </tr>\n",
       "    <tr>\n",
       "      <th>1</th>\n",
       "      <td>1720342884</td>\n",
       "      <td>NaN</td>\n",
       "      <td>O</td>\n",
       "      <td>NEW ORLEANS</td>\n",
       "      <td>701122714.0</td>\n",
       "      <td>LA</td>\n",
       "      <td>US</td>\n",
       "      <td>Clinical Laboratory</td>\n",
       "      <td>Y</td>\n",
       "      <td>O</td>\n",
       "      <td>...</td>\n",
       "      <td>N</td>\n",
       "      <td>37517.0</td>\n",
       "      <td>18911.0</td>\n",
       "      <td>25628.0</td>\n",
       "      <td>24.629483</td>\n",
       "      <td>95.659038</td>\n",
       "      <td>24.111942</td>\n",
       "      <td>2014</td>\n",
       "      <td>1128b7</td>\n",
       "      <td>On_List</td>\n",
       "    </tr>\n",
       "    <tr>\n",
       "      <th>2</th>\n",
       "      <td>1285651638</td>\n",
       "      <td>NaN</td>\n",
       "      <td>O</td>\n",
       "      <td>WEBSTER</td>\n",
       "      <td>775984924.0</td>\n",
       "      <td>TX</td>\n",
       "      <td>US</td>\n",
       "      <td>Clinical Laboratory</td>\n",
       "      <td>Y</td>\n",
       "      <td>O</td>\n",
       "      <td>...</td>\n",
       "      <td>N</td>\n",
       "      <td>97872.0</td>\n",
       "      <td>14035.0</td>\n",
       "      <td>96892.0</td>\n",
       "      <td>4.999969</td>\n",
       "      <td>7.000000</td>\n",
       "      <td>4.897617</td>\n",
       "      <td>2016</td>\n",
       "      <td>1128b7</td>\n",
       "      <td>On_List</td>\n",
       "    </tr>\n",
       "    <tr>\n",
       "      <th>3</th>\n",
       "      <td>1720342884</td>\n",
       "      <td>NaN</td>\n",
       "      <td>O</td>\n",
       "      <td>NEW ORLEANS</td>\n",
       "      <td>701122714.0</td>\n",
       "      <td>LA</td>\n",
       "      <td>US</td>\n",
       "      <td>Clinical Laboratory</td>\n",
       "      <td>Y</td>\n",
       "      <td>O</td>\n",
       "      <td>...</td>\n",
       "      <td>N</td>\n",
       "      <td>108896.0</td>\n",
       "      <td>19431.0</td>\n",
       "      <td>27266.0</td>\n",
       "      <td>26.539299</td>\n",
       "      <td>108.557999</td>\n",
       "      <td>25.983498</td>\n",
       "      <td>2014</td>\n",
       "      <td>1128b7</td>\n",
       "      <td>On_List</td>\n",
       "    </tr>\n",
       "    <tr>\n",
       "      <th>4</th>\n",
       "      <td>1285651638</td>\n",
       "      <td>NaN</td>\n",
       "      <td>O</td>\n",
       "      <td>WEBSTER</td>\n",
       "      <td>775984924.0</td>\n",
       "      <td>TX</td>\n",
       "      <td>US</td>\n",
       "      <td>Clinical Laboratory</td>\n",
       "      <td>Y</td>\n",
       "      <td>O</td>\n",
       "      <td>...</td>\n",
       "      <td>N</td>\n",
       "      <td>586053.0</td>\n",
       "      <td>14367.0</td>\n",
       "      <td>99032.0</td>\n",
       "      <td>0.999702</td>\n",
       "      <td>2.824145</td>\n",
       "      <td>0.979123</td>\n",
       "      <td>2016</td>\n",
       "      <td>1128b7</td>\n",
       "      <td>On_List</td>\n",
       "    </tr>\n",
       "    <tr>\n",
       "      <th>...</th>\n",
       "      <td>...</td>\n",
       "      <td>...</td>\n",
       "      <td>...</td>\n",
       "      <td>...</td>\n",
       "      <td>...</td>\n",
       "      <td>...</td>\n",
       "      <td>...</td>\n",
       "      <td>...</td>\n",
       "      <td>...</td>\n",
       "      <td>...</td>\n",
       "      <td>...</td>\n",
       "      <td>...</td>\n",
       "      <td>...</td>\n",
       "      <td>...</td>\n",
       "      <td>...</td>\n",
       "      <td>...</td>\n",
       "      <td>...</td>\n",
       "      <td>...</td>\n",
       "      <td>...</td>\n",
       "      <td>...</td>\n",
       "      <td>...</td>\n",
       "    </tr>\n",
       "    <tr>\n",
       "      <th>149995</th>\n",
       "      <td>1396830204</td>\n",
       "      <td>NaN</td>\n",
       "      <td>O</td>\n",
       "      <td>SANTA FE SPRINGS</td>\n",
       "      <td>906706000.0</td>\n",
       "      <td>CA</td>\n",
       "      <td>US</td>\n",
       "      <td>Clinical Laboratory</td>\n",
       "      <td>Y</td>\n",
       "      <td>O</td>\n",
       "      <td>...</td>\n",
       "      <td>N</td>\n",
       "      <td>4373.0</td>\n",
       "      <td>3506.0</td>\n",
       "      <td>4373.0</td>\n",
       "      <td>17.620000</td>\n",
       "      <td>31.405760</td>\n",
       "      <td>17.262902</td>\n",
       "      <td>2015</td>\n",
       "      <td>None</td>\n",
       "      <td>Not</td>\n",
       "    </tr>\n",
       "    <tr>\n",
       "      <th>149996</th>\n",
       "      <td>1437297298</td>\n",
       "      <td>M</td>\n",
       "      <td>I</td>\n",
       "      <td>JOSHUA TREE</td>\n",
       "      <td>92252.0</td>\n",
       "      <td>CA</td>\n",
       "      <td>US</td>\n",
       "      <td>Cardiology</td>\n",
       "      <td>Y</td>\n",
       "      <td>F</td>\n",
       "      <td>...</td>\n",
       "      <td>N</td>\n",
       "      <td>3288.0</td>\n",
       "      <td>2421.0</td>\n",
       "      <td>2828.0</td>\n",
       "      <td>8.693464</td>\n",
       "      <td>34.800365</td>\n",
       "      <td>6.818634</td>\n",
       "      <td>2015</td>\n",
       "      <td>None</td>\n",
       "      <td>Not</td>\n",
       "    </tr>\n",
       "    <tr>\n",
       "      <th>149997</th>\n",
       "      <td>1629232491</td>\n",
       "      <td>M</td>\n",
       "      <td>I</td>\n",
       "      <td>SAINT LOUIS</td>\n",
       "      <td>631366163.0</td>\n",
       "      <td>MO</td>\n",
       "      <td>US</td>\n",
       "      <td>Pathology</td>\n",
       "      <td>Y</td>\n",
       "      <td>O</td>\n",
       "      <td>...</td>\n",
       "      <td>N</td>\n",
       "      <td>1993.0</td>\n",
       "      <td>1126.0</td>\n",
       "      <td>1383.0</td>\n",
       "      <td>44.437968</td>\n",
       "      <td>306.000000</td>\n",
       "      <td>32.658981</td>\n",
       "      <td>2015</td>\n",
       "      <td>None</td>\n",
       "      <td>Not</td>\n",
       "    </tr>\n",
       "    <tr>\n",
       "      <th>149998</th>\n",
       "      <td>1699782722</td>\n",
       "      <td>NaN</td>\n",
       "      <td>O</td>\n",
       "      <td>NASHVILLE</td>\n",
       "      <td>372281310.0</td>\n",
       "      <td>TN</td>\n",
       "      <td>US</td>\n",
       "      <td>Clinical Laboratory</td>\n",
       "      <td>Y</td>\n",
       "      <td>O</td>\n",
       "      <td>...</td>\n",
       "      <td>N</td>\n",
       "      <td>3369.0</td>\n",
       "      <td>2502.0</td>\n",
       "      <td>3368.0</td>\n",
       "      <td>23.420000</td>\n",
       "      <td>85.000000</td>\n",
       "      <td>22.875741</td>\n",
       "      <td>2015</td>\n",
       "      <td>None</td>\n",
       "      <td>Not</td>\n",
       "    </tr>\n",
       "    <tr>\n",
       "      <th>149999</th>\n",
       "      <td>1710979554</td>\n",
       "      <td>M</td>\n",
       "      <td>I</td>\n",
       "      <td>LAKE MARY</td>\n",
       "      <td>327463315.0</td>\n",
       "      <td>FL</td>\n",
       "      <td>US</td>\n",
       "      <td>Podiatry</td>\n",
       "      <td>Y</td>\n",
       "      <td>O</td>\n",
       "      <td>...</td>\n",
       "      <td>N</td>\n",
       "      <td>3089.0</td>\n",
       "      <td>1111.0</td>\n",
       "      <td>3089.0</td>\n",
       "      <td>64.098281</td>\n",
       "      <td>68.732600</td>\n",
       "      <td>47.656708</td>\n",
       "      <td>2015</td>\n",
       "      <td>None</td>\n",
       "      <td>Not</td>\n",
       "    </tr>\n",
       "  </tbody>\n",
       "</table>\n",
       "<p>150000 rows × 22 columns</p>\n",
       "</div>"
      ],
      "text/plain": [
       "               npi nppes_provider_gender nppes_entity_code  \\\n",
       "0       1720342884                   NaN                 O   \n",
       "1       1720342884                   NaN                 O   \n",
       "2       1285651638                   NaN                 O   \n",
       "3       1720342884                   NaN                 O   \n",
       "4       1285651638                   NaN                 O   \n",
       "...            ...                   ...               ...   \n",
       "149995  1396830204                   NaN                 O   \n",
       "149996  1437297298                     M                 I   \n",
       "149997  1629232491                     M                 I   \n",
       "149998  1699782722                   NaN                 O   \n",
       "149999  1710979554                     M                 I   \n",
       "\n",
       "       nppes_provider_city  nppes_provider_zip nppes_provider_state  \\\n",
       "0              NEW ORLEANS         701122714.0                   LA   \n",
       "1              NEW ORLEANS         701122714.0                   LA   \n",
       "2                  WEBSTER         775984924.0                   TX   \n",
       "3              NEW ORLEANS         701122714.0                   LA   \n",
       "4                  WEBSTER         775984924.0                   TX   \n",
       "...                    ...                 ...                  ...   \n",
       "149995    SANTA FE SPRINGS         906706000.0                   CA   \n",
       "149996         JOSHUA TREE             92252.0                   CA   \n",
       "149997         SAINT LOUIS         631366163.0                   MO   \n",
       "149998           NASHVILLE         372281310.0                   TN   \n",
       "149999           LAKE MARY         327463315.0                   FL   \n",
       "\n",
       "       nppes_provider_country        provider_type  \\\n",
       "0                          US  Clinical Laboratory   \n",
       "1                          US  Clinical Laboratory   \n",
       "2                          US  Clinical Laboratory   \n",
       "3                          US  Clinical Laboratory   \n",
       "4                          US  Clinical Laboratory   \n",
       "...                       ...                  ...   \n",
       "149995                     US  Clinical Laboratory   \n",
       "149996                     US           Cardiology   \n",
       "149997                     US            Pathology   \n",
       "149998                     US  Clinical Laboratory   \n",
       "149999                     US             Podiatry   \n",
       "\n",
       "       medicare_participation_indicator place_of_service  ...  \\\n",
       "0                                     Y                O  ...   \n",
       "1                                     Y                O  ...   \n",
       "2                                     Y                O  ...   \n",
       "3                                     Y                O  ...   \n",
       "4                                     Y                O  ...   \n",
       "...                                 ...              ...  ...   \n",
       "149995                                Y                O  ...   \n",
       "149996                                Y                F  ...   \n",
       "149997                                Y                O  ...   \n",
       "149998                                Y                O  ...   \n",
       "149999                                Y                O  ...   \n",
       "\n",
       "       hcpcs_drug_indicator line_srvc_cnt bene_unique_cnt  bene_day_srvc_cnt  \\\n",
       "0                         N      332603.0        167054.0           167798.0   \n",
       "1                         N       37517.0         18911.0            25628.0   \n",
       "2                         N       97872.0         14035.0            96892.0   \n",
       "3                         N      108896.0         19431.0            27266.0   \n",
       "4                         N      586053.0         14367.0            99032.0   \n",
       "...                     ...           ...             ...                ...   \n",
       "149995                    N        4373.0          3506.0             4373.0   \n",
       "149996                    N        3288.0          2421.0             2828.0   \n",
       "149997                    N        1993.0          1126.0             1383.0   \n",
       "149998                    N        3369.0          2502.0             3368.0   \n",
       "149999                    N        3089.0          1111.0             3089.0   \n",
       "\n",
       "        average_Medicare_allowed_amt  average_submitted_chrg_amt  \\\n",
       "0                         105.972315                  118.707137   \n",
       "1                          24.629483                   95.659038   \n",
       "2                           4.999969                    7.000000   \n",
       "3                          26.539299                  108.557999   \n",
       "4                           0.999702                    2.824145   \n",
       "...                              ...                         ...   \n",
       "149995                     17.620000                   31.405760   \n",
       "149996                      8.693464                   34.800365   \n",
       "149997                     44.437968                  306.000000   \n",
       "149998                     23.420000                   85.000000   \n",
       "149999                     64.098281                   68.732600   \n",
       "\n",
       "        average_Medicare_payment_amt  year  leie_code     leie  \n",
       "0                         103.835534  2014     1128b7  On_List  \n",
       "1                          24.111942  2014     1128b7  On_List  \n",
       "2                           4.897617  2016     1128b7  On_List  \n",
       "3                          25.983498  2014     1128b7  On_List  \n",
       "4                           0.979123  2016     1128b7  On_List  \n",
       "...                              ...   ...        ...      ...  \n",
       "149995                     17.262902  2015       None      Not  \n",
       "149996                      6.818634  2015       None      Not  \n",
       "149997                     32.658981  2015       None      Not  \n",
       "149998                     22.875741  2015       None      Not  \n",
       "149999                     47.656708  2015       None      Not  \n",
       "\n",
       "[150000 rows x 22 columns]"
      ]
     },
     "execution_count": 2,
     "metadata": {},
     "output_type": "execute_result"
    }
   ],
   "source": [
    "input_data_file = \"sort_data_v2.txt\"\n",
    "#df = pd.read_csv(os.path.join(\"..\", \"Data\", input_data_file),sep='\\t')\n",
    "df = pd.read_csv(os.path.join(\"..\", \"Data\", input_data_file),sep='\\t', nrows=150000)\n",
    "\n",
    "# Drop the null columns where all values are null\n",
    "df = df.dropna(axis='columns', how='all')\n",
    "# Drop the null rows\n",
    "#df = df.dropna()\n",
    "df"
   ]
  },
  {
   "cell_type": "code",
   "execution_count": 3,
   "metadata": {},
   "outputs": [],
   "source": [
    "df['nppes_provider_gender'] = df['nppes_provider_gender'].fillna('O')"
   ]
  },
  {
   "cell_type": "code",
   "execution_count": 4,
   "metadata": {},
   "outputs": [
    {
     "data": {
      "text/plain": [
       "Index(['npi', 'nppes_provider_gender', 'nppes_entity_code',\n",
       "       'nppes_provider_city', 'nppes_provider_zip', 'nppes_provider_state',\n",
       "       'nppes_provider_country', 'provider_type',\n",
       "       'medicare_participation_indicator', 'place_of_service', 'hcpcs_code',\n",
       "       'hcpcs_description', 'hcpcs_drug_indicator', 'line_srvc_cnt',\n",
       "       'bene_unique_cnt', 'bene_day_srvc_cnt', 'average_Medicare_allowed_amt',\n",
       "       'average_submitted_chrg_amt', 'average_Medicare_payment_amt', 'year',\n",
       "       'leie_code', 'leie'],\n",
       "      dtype='object')"
      ]
     },
     "execution_count": 4,
     "metadata": {},
     "output_type": "execute_result"
    }
   ],
   "source": [
    "df.columns"
   ]
  },
  {
   "cell_type": "code",
   "execution_count": 5,
   "metadata": {},
   "outputs": [
    {
     "name": "stdout",
     "output_type": "stream",
     "text": [
      "<class 'pandas.core.frame.DataFrame'>\n",
      "RangeIndex: 150000 entries, 0 to 149999\n",
      "Data columns (total 22 columns):\n",
      " #   Column                            Non-Null Count   Dtype  \n",
      "---  ------                            --------------   -----  \n",
      " 0   npi                               150000 non-null  int64  \n",
      " 1   nppes_provider_gender             150000 non-null  object \n",
      " 2   nppes_entity_code                 150000 non-null  object \n",
      " 3   nppes_provider_city               150000 non-null  object \n",
      " 4   nppes_provider_zip                150000 non-null  float64\n",
      " 5   nppes_provider_state              150000 non-null  object \n",
      " 6   nppes_provider_country            150000 non-null  object \n",
      " 7   provider_type                     150000 non-null  object \n",
      " 8   medicare_participation_indicator  150000 non-null  object \n",
      " 9   place_of_service                  150000 non-null  object \n",
      " 10  hcpcs_code                        150000 non-null  object \n",
      " 11  hcpcs_description                 150000 non-null  object \n",
      " 12  hcpcs_drug_indicator              150000 non-null  object \n",
      " 13  line_srvc_cnt                     150000 non-null  float64\n",
      " 14  bene_unique_cnt                   150000 non-null  float64\n",
      " 15  bene_day_srvc_cnt                 150000 non-null  float64\n",
      " 16  average_Medicare_allowed_amt      150000 non-null  float64\n",
      " 17  average_submitted_chrg_amt        150000 non-null  float64\n",
      " 18  average_Medicare_payment_amt      150000 non-null  float64\n",
      " 19  year                              150000 non-null  int64  \n",
      " 20  leie_code                         150000 non-null  object \n",
      " 21  leie                              150000 non-null  object \n",
      "dtypes: float64(7), int64(2), object(13)\n",
      "memory usage: 25.2+ MB\n"
     ]
    }
   ],
   "source": [
    "df.info()"
   ]
  },
  {
   "cell_type": "markdown",
   "metadata": {},
   "source": [
    "# Select your features (columns)"
   ]
  },
  {
   "cell_type": "code",
   "execution_count": 6,
   "metadata": {},
   "outputs": [
    {
     "data": {
      "text/html": [
       "<div>\n",
       "<style scoped>\n",
       "    .dataframe tbody tr th:only-of-type {\n",
       "        vertical-align: middle;\n",
       "    }\n",
       "\n",
       "    .dataframe tbody tr th {\n",
       "        vertical-align: top;\n",
       "    }\n",
       "\n",
       "    .dataframe thead th {\n",
       "        text-align: right;\n",
       "    }\n",
       "</style>\n",
       "<table border=\"1\" class=\"dataframe\">\n",
       "  <thead>\n",
       "    <tr style=\"text-align: right;\">\n",
       "      <th></th>\n",
       "      <th>line_srvc_cnt</th>\n",
       "      <th>place_of_service</th>\n",
       "      <th>hcpcs_drug_indicator</th>\n",
       "      <th>nppes_entity_code</th>\n",
       "      <th>nppes_provider_gender</th>\n",
       "      <th>medicare_participation_indicator</th>\n",
       "      <th>leie</th>\n",
       "    </tr>\n",
       "  </thead>\n",
       "  <tbody>\n",
       "    <tr>\n",
       "      <th>0</th>\n",
       "      <td>332603.0</td>\n",
       "      <td>O</td>\n",
       "      <td>N</td>\n",
       "      <td>O</td>\n",
       "      <td>O</td>\n",
       "      <td>Y</td>\n",
       "      <td>On_List</td>\n",
       "    </tr>\n",
       "    <tr>\n",
       "      <th>1</th>\n",
       "      <td>37517.0</td>\n",
       "      <td>O</td>\n",
       "      <td>N</td>\n",
       "      <td>O</td>\n",
       "      <td>O</td>\n",
       "      <td>Y</td>\n",
       "      <td>On_List</td>\n",
       "    </tr>\n",
       "    <tr>\n",
       "      <th>2</th>\n",
       "      <td>97872.0</td>\n",
       "      <td>O</td>\n",
       "      <td>N</td>\n",
       "      <td>O</td>\n",
       "      <td>O</td>\n",
       "      <td>Y</td>\n",
       "      <td>On_List</td>\n",
       "    </tr>\n",
       "    <tr>\n",
       "      <th>3</th>\n",
       "      <td>108896.0</td>\n",
       "      <td>O</td>\n",
       "      <td>N</td>\n",
       "      <td>O</td>\n",
       "      <td>O</td>\n",
       "      <td>Y</td>\n",
       "      <td>On_List</td>\n",
       "    </tr>\n",
       "    <tr>\n",
       "      <th>4</th>\n",
       "      <td>586053.0</td>\n",
       "      <td>O</td>\n",
       "      <td>N</td>\n",
       "      <td>O</td>\n",
       "      <td>O</td>\n",
       "      <td>Y</td>\n",
       "      <td>On_List</td>\n",
       "    </tr>\n",
       "    <tr>\n",
       "      <th>...</th>\n",
       "      <td>...</td>\n",
       "      <td>...</td>\n",
       "      <td>...</td>\n",
       "      <td>...</td>\n",
       "      <td>...</td>\n",
       "      <td>...</td>\n",
       "      <td>...</td>\n",
       "    </tr>\n",
       "    <tr>\n",
       "      <th>149995</th>\n",
       "      <td>4373.0</td>\n",
       "      <td>O</td>\n",
       "      <td>N</td>\n",
       "      <td>O</td>\n",
       "      <td>O</td>\n",
       "      <td>Y</td>\n",
       "      <td>Not</td>\n",
       "    </tr>\n",
       "    <tr>\n",
       "      <th>149996</th>\n",
       "      <td>3288.0</td>\n",
       "      <td>F</td>\n",
       "      <td>N</td>\n",
       "      <td>I</td>\n",
       "      <td>M</td>\n",
       "      <td>Y</td>\n",
       "      <td>Not</td>\n",
       "    </tr>\n",
       "    <tr>\n",
       "      <th>149997</th>\n",
       "      <td>1993.0</td>\n",
       "      <td>O</td>\n",
       "      <td>N</td>\n",
       "      <td>I</td>\n",
       "      <td>M</td>\n",
       "      <td>Y</td>\n",
       "      <td>Not</td>\n",
       "    </tr>\n",
       "    <tr>\n",
       "      <th>149998</th>\n",
       "      <td>3369.0</td>\n",
       "      <td>O</td>\n",
       "      <td>N</td>\n",
       "      <td>O</td>\n",
       "      <td>O</td>\n",
       "      <td>Y</td>\n",
       "      <td>Not</td>\n",
       "    </tr>\n",
       "    <tr>\n",
       "      <th>149999</th>\n",
       "      <td>3089.0</td>\n",
       "      <td>O</td>\n",
       "      <td>N</td>\n",
       "      <td>I</td>\n",
       "      <td>M</td>\n",
       "      <td>Y</td>\n",
       "      <td>Not</td>\n",
       "    </tr>\n",
       "  </tbody>\n",
       "</table>\n",
       "<p>150000 rows × 7 columns</p>\n",
       "</div>"
      ],
      "text/plain": [
       "        line_srvc_cnt place_of_service hcpcs_drug_indicator nppes_entity_code  \\\n",
       "0            332603.0                O                    N                 O   \n",
       "1             37517.0                O                    N                 O   \n",
       "2             97872.0                O                    N                 O   \n",
       "3            108896.0                O                    N                 O   \n",
       "4            586053.0                O                    N                 O   \n",
       "...               ...              ...                  ...               ...   \n",
       "149995         4373.0                O                    N                 O   \n",
       "149996         3288.0                F                    N                 I   \n",
       "149997         1993.0                O                    N                 I   \n",
       "149998         3369.0                O                    N                 O   \n",
       "149999         3089.0                O                    N                 I   \n",
       "\n",
       "       nppes_provider_gender medicare_participation_indicator     leie  \n",
       "0                          O                                Y  On_List  \n",
       "1                          O                                Y  On_List  \n",
       "2                          O                                Y  On_List  \n",
       "3                          O                                Y  On_List  \n",
       "4                          O                                Y  On_List  \n",
       "...                      ...                              ...      ...  \n",
       "149995                     O                                Y      Not  \n",
       "149996                     M                                Y      Not  \n",
       "149997                     M                                Y      Not  \n",
       "149998                     O                                Y      Not  \n",
       "149999                     M                                Y      Not  \n",
       "\n",
       "[150000 rows x 7 columns]"
      ]
     },
     "execution_count": 6,
     "metadata": {},
     "output_type": "execute_result"
    }
   ],
   "source": [
    "# Set features. This will also be used as your x values.\n",
    "selected_features = df[['line_srvc_cnt', 'place_of_service', 'hcpcs_drug_indicator', 'nppes_entity_code', 'nppes_provider_gender',\n",
    "                       'medicare_participation_indicator', 'leie']]\n",
    "selected_features = selected_features.dropna()\n",
    "selected_features"
   ]
  },
  {
   "cell_type": "markdown",
   "metadata": {},
   "source": [
    "# Create a Train Test Split\n",
    "\n",
    "Use `koi_disposition` for the y values"
   ]
  },
  {
   "cell_type": "code",
   "execution_count": 7,
   "metadata": {},
   "outputs": [
    {
     "name": "stdout",
     "output_type": "stream",
     "text": [
      "<class 'pandas.core.frame.DataFrame'>\n",
      "Int64Index: 150000 entries, 0 to 149999\n",
      "Data columns (total 7 columns):\n",
      " #   Column                            Non-Null Count   Dtype  \n",
      "---  ------                            --------------   -----  \n",
      " 0   line_srvc_cnt                     150000 non-null  float64\n",
      " 1   place_of_service                  150000 non-null  object \n",
      " 2   hcpcs_drug_indicator              150000 non-null  object \n",
      " 3   nppes_entity_code                 150000 non-null  object \n",
      " 4   nppes_provider_gender             150000 non-null  object \n",
      " 5   medicare_participation_indicator  150000 non-null  object \n",
      " 6   leie                              150000 non-null  object \n",
      "dtypes: float64(1), object(6)\n",
      "memory usage: 9.2+ MB\n"
     ]
    }
   ],
   "source": [
    "selected_features.info()\n",
    "\n",
    "#output_data_file = \"mike_look_test.txt\"\n",
    "#selected_features.to_csv(os.path.join(\"..\", \"Data\", output_data_file), index= False, sep='\\t')\n"
   ]
  },
  {
   "cell_type": "code",
   "execution_count": 8,
   "metadata": {},
   "outputs": [
    {
     "name": "stdout",
     "output_type": "stream",
     "text": [
      "<class 'pandas.core.frame.DataFrame'>\n",
      "Int64Index: 150000 entries, 0 to 149999\n",
      "Data columns (total 6 columns):\n",
      " #   Column                            Non-Null Count   Dtype  \n",
      "---  ------                            --------------   -----  \n",
      " 0   line_srvc_cnt                     150000 non-null  float64\n",
      " 1   place_of_service                  150000 non-null  object \n",
      " 2   hcpcs_drug_indicator              150000 non-null  object \n",
      " 3   nppes_entity_code                 150000 non-null  object \n",
      " 4   nppes_provider_gender             150000 non-null  object \n",
      " 5   medicare_participation_indicator  150000 non-null  object \n",
      "dtypes: float64(1), object(5)\n",
      "memory usage: 8.0+ MB\n"
     ]
    }
   ],
   "source": [
    "disposition = selected_features[\"leie\"]\n",
    "disposition_names = [\"Not\", \"On_List\"]\n",
    "selected_features = selected_features.drop(\"leie\", axis=1)\n",
    "feature_names = selected_features.columns\n",
    "selected_features.info()"
   ]
  },
  {
   "cell_type": "code",
   "execution_count": 9,
   "metadata": {},
   "outputs": [
    {
     "name": "stdout",
     "output_type": "stream",
     "text": [
      "<class 'pandas.core.frame.DataFrame'>\n",
      "Int64Index: 150000 entries, 0 to 149999\n",
      "Data columns (total 1 columns):\n",
      " #   Column  Non-Null Count   Dtype \n",
      "---  ------  --------------   ----- \n",
      " 0   leie    150000 non-null  object\n",
      "dtypes: object(1)\n",
      "memory usage: 2.3+ MB\n"
     ]
    }
   ],
   "source": [
    "mike_df2 = disposition\n",
    "mike3 = mike_df2.to_frame()\n",
    "mike3.info()"
   ]
  },
  {
   "cell_type": "code",
   "execution_count": 10,
   "metadata": {},
   "outputs": [
    {
     "data": {
      "text/plain": [
       "Not        89678\n",
       "On_List    60322\n",
       "Name: leie, dtype: int64"
      ]
     },
     "execution_count": 10,
     "metadata": {},
     "output_type": "execute_result"
    }
   ],
   "source": [
    "mike3.leie.value_counts()"
   ]
  },
  {
   "cell_type": "code",
   "execution_count": 11,
   "metadata": {},
   "outputs": [
    {
     "data": {
      "text/html": [
       "<div>\n",
       "<style scoped>\n",
       "    .dataframe tbody tr th:only-of-type {\n",
       "        vertical-align: middle;\n",
       "    }\n",
       "\n",
       "    .dataframe tbody tr th {\n",
       "        vertical-align: top;\n",
       "    }\n",
       "\n",
       "    .dataframe thead th {\n",
       "        text-align: right;\n",
       "    }\n",
       "</style>\n",
       "<table border=\"1\" class=\"dataframe\">\n",
       "  <thead>\n",
       "    <tr style=\"text-align: right;\">\n",
       "      <th></th>\n",
       "      <th>line_srvc_cnt</th>\n",
       "      <th>place_of_service_F</th>\n",
       "      <th>place_of_service_O</th>\n",
       "      <th>hcpcs_drug_indicator_N</th>\n",
       "      <th>hcpcs_drug_indicator_Y</th>\n",
       "      <th>nppes_entity_code_I</th>\n",
       "      <th>nppes_entity_code_O</th>\n",
       "      <th>nppes_provider_gender_F</th>\n",
       "      <th>nppes_provider_gender_M</th>\n",
       "      <th>nppes_provider_gender_O</th>\n",
       "      <th>medicare_participation_indicator_Y</th>\n",
       "    </tr>\n",
       "  </thead>\n",
       "  <tbody>\n",
       "    <tr>\n",
       "      <th>0</th>\n",
       "      <td>332603.0</td>\n",
       "      <td>0</td>\n",
       "      <td>1</td>\n",
       "      <td>1</td>\n",
       "      <td>0</td>\n",
       "      <td>0</td>\n",
       "      <td>1</td>\n",
       "      <td>0</td>\n",
       "      <td>0</td>\n",
       "      <td>1</td>\n",
       "      <td>1</td>\n",
       "    </tr>\n",
       "    <tr>\n",
       "      <th>1</th>\n",
       "      <td>37517.0</td>\n",
       "      <td>0</td>\n",
       "      <td>1</td>\n",
       "      <td>1</td>\n",
       "      <td>0</td>\n",
       "      <td>0</td>\n",
       "      <td>1</td>\n",
       "      <td>0</td>\n",
       "      <td>0</td>\n",
       "      <td>1</td>\n",
       "      <td>1</td>\n",
       "    </tr>\n",
       "    <tr>\n",
       "      <th>2</th>\n",
       "      <td>97872.0</td>\n",
       "      <td>0</td>\n",
       "      <td>1</td>\n",
       "      <td>1</td>\n",
       "      <td>0</td>\n",
       "      <td>0</td>\n",
       "      <td>1</td>\n",
       "      <td>0</td>\n",
       "      <td>0</td>\n",
       "      <td>1</td>\n",
       "      <td>1</td>\n",
       "    </tr>\n",
       "    <tr>\n",
       "      <th>3</th>\n",
       "      <td>108896.0</td>\n",
       "      <td>0</td>\n",
       "      <td>1</td>\n",
       "      <td>1</td>\n",
       "      <td>0</td>\n",
       "      <td>0</td>\n",
       "      <td>1</td>\n",
       "      <td>0</td>\n",
       "      <td>0</td>\n",
       "      <td>1</td>\n",
       "      <td>1</td>\n",
       "    </tr>\n",
       "    <tr>\n",
       "      <th>4</th>\n",
       "      <td>586053.0</td>\n",
       "      <td>0</td>\n",
       "      <td>1</td>\n",
       "      <td>1</td>\n",
       "      <td>0</td>\n",
       "      <td>0</td>\n",
       "      <td>1</td>\n",
       "      <td>0</td>\n",
       "      <td>0</td>\n",
       "      <td>1</td>\n",
       "      <td>1</td>\n",
       "    </tr>\n",
       "    <tr>\n",
       "      <th>...</th>\n",
       "      <td>...</td>\n",
       "      <td>...</td>\n",
       "      <td>...</td>\n",
       "      <td>...</td>\n",
       "      <td>...</td>\n",
       "      <td>...</td>\n",
       "      <td>...</td>\n",
       "      <td>...</td>\n",
       "      <td>...</td>\n",
       "      <td>...</td>\n",
       "      <td>...</td>\n",
       "    </tr>\n",
       "    <tr>\n",
       "      <th>149995</th>\n",
       "      <td>4373.0</td>\n",
       "      <td>0</td>\n",
       "      <td>1</td>\n",
       "      <td>1</td>\n",
       "      <td>0</td>\n",
       "      <td>0</td>\n",
       "      <td>1</td>\n",
       "      <td>0</td>\n",
       "      <td>0</td>\n",
       "      <td>1</td>\n",
       "      <td>1</td>\n",
       "    </tr>\n",
       "    <tr>\n",
       "      <th>149996</th>\n",
       "      <td>3288.0</td>\n",
       "      <td>1</td>\n",
       "      <td>0</td>\n",
       "      <td>1</td>\n",
       "      <td>0</td>\n",
       "      <td>1</td>\n",
       "      <td>0</td>\n",
       "      <td>0</td>\n",
       "      <td>1</td>\n",
       "      <td>0</td>\n",
       "      <td>1</td>\n",
       "    </tr>\n",
       "    <tr>\n",
       "      <th>149997</th>\n",
       "      <td>1993.0</td>\n",
       "      <td>0</td>\n",
       "      <td>1</td>\n",
       "      <td>1</td>\n",
       "      <td>0</td>\n",
       "      <td>1</td>\n",
       "      <td>0</td>\n",
       "      <td>0</td>\n",
       "      <td>1</td>\n",
       "      <td>0</td>\n",
       "      <td>1</td>\n",
       "    </tr>\n",
       "    <tr>\n",
       "      <th>149998</th>\n",
       "      <td>3369.0</td>\n",
       "      <td>0</td>\n",
       "      <td>1</td>\n",
       "      <td>1</td>\n",
       "      <td>0</td>\n",
       "      <td>0</td>\n",
       "      <td>1</td>\n",
       "      <td>0</td>\n",
       "      <td>0</td>\n",
       "      <td>1</td>\n",
       "      <td>1</td>\n",
       "    </tr>\n",
       "    <tr>\n",
       "      <th>149999</th>\n",
       "      <td>3089.0</td>\n",
       "      <td>0</td>\n",
       "      <td>1</td>\n",
       "      <td>1</td>\n",
       "      <td>0</td>\n",
       "      <td>1</td>\n",
       "      <td>0</td>\n",
       "      <td>0</td>\n",
       "      <td>1</td>\n",
       "      <td>0</td>\n",
       "      <td>1</td>\n",
       "    </tr>\n",
       "  </tbody>\n",
       "</table>\n",
       "<p>150000 rows × 11 columns</p>\n",
       "</div>"
      ],
      "text/plain": [
       "        line_srvc_cnt  place_of_service_F  place_of_service_O  \\\n",
       "0            332603.0                   0                   1   \n",
       "1             37517.0                   0                   1   \n",
       "2             97872.0                   0                   1   \n",
       "3            108896.0                   0                   1   \n",
       "4            586053.0                   0                   1   \n",
       "...               ...                 ...                 ...   \n",
       "149995         4373.0                   0                   1   \n",
       "149996         3288.0                   1                   0   \n",
       "149997         1993.0                   0                   1   \n",
       "149998         3369.0                   0                   1   \n",
       "149999         3089.0                   0                   1   \n",
       "\n",
       "        hcpcs_drug_indicator_N  hcpcs_drug_indicator_Y  nppes_entity_code_I  \\\n",
       "0                            1                       0                    0   \n",
       "1                            1                       0                    0   \n",
       "2                            1                       0                    0   \n",
       "3                            1                       0                    0   \n",
       "4                            1                       0                    0   \n",
       "...                        ...                     ...                  ...   \n",
       "149995                       1                       0                    0   \n",
       "149996                       1                       0                    1   \n",
       "149997                       1                       0                    1   \n",
       "149998                       1                       0                    0   \n",
       "149999                       1                       0                    1   \n",
       "\n",
       "        nppes_entity_code_O  nppes_provider_gender_F  nppes_provider_gender_M  \\\n",
       "0                         1                        0                        0   \n",
       "1                         1                        0                        0   \n",
       "2                         1                        0                        0   \n",
       "3                         1                        0                        0   \n",
       "4                         1                        0                        0   \n",
       "...                     ...                      ...                      ...   \n",
       "149995                    1                        0                        0   \n",
       "149996                    0                        0                        1   \n",
       "149997                    0                        0                        1   \n",
       "149998                    1                        0                        0   \n",
       "149999                    0                        0                        1   \n",
       "\n",
       "        nppes_provider_gender_O  medicare_participation_indicator_Y  \n",
       "0                             1                                   1  \n",
       "1                             1                                   1  \n",
       "2                             1                                   1  \n",
       "3                             1                                   1  \n",
       "4                             1                                   1  \n",
       "...                         ...                                 ...  \n",
       "149995                        1                                   1  \n",
       "149996                        0                                   1  \n",
       "149997                        0                                   1  \n",
       "149998                        1                                   1  \n",
       "149999                        0                                   1  \n",
       "\n",
       "[150000 rows x 11 columns]"
      ]
     },
     "execution_count": 11,
     "metadata": {},
     "output_type": "execute_result"
    }
   ],
   "source": [
    "data = pd.get_dummies(selected_features)\n",
    "data"
   ]
  },
  {
   "cell_type": "code",
   "execution_count": 12,
   "metadata": {},
   "outputs": [
    {
     "name": "stdout",
     "output_type": "stream",
     "text": [
      "<class 'pandas.core.frame.DataFrame'>\n",
      "Int64Index: 150000 entries, 0 to 149999\n",
      "Data columns (total 7 columns):\n",
      " #   Column                   Non-Null Count   Dtype  \n",
      "---  ------                   --------------   -----  \n",
      " 0   line_srvc_cnt            150000 non-null  float64\n",
      " 1   place_of_service_F       150000 non-null  uint8  \n",
      " 2   hcpcs_drug_indicator_N   150000 non-null  uint8  \n",
      " 3   nppes_entity_code_I      150000 non-null  uint8  \n",
      " 4   nppes_provider_gender_F  150000 non-null  uint8  \n",
      " 5   nppes_provider_gender_M  150000 non-null  uint8  \n",
      " 6   nppes_provider_gender_O  150000 non-null  uint8  \n",
      "dtypes: float64(1), uint8(6)\n",
      "memory usage: 3.1 MB\n"
     ]
    }
   ],
   "source": [
    "data = data.drop(['nppes_entity_code_O', 'medicare_participation_indicator_Y', 'place_of_service_O', 'hcpcs_drug_indicator_Y'], axis=1)\n",
    "data.info()"
   ]
  },
  {
   "cell_type": "code",
   "execution_count": 13,
   "metadata": {},
   "outputs": [],
   "source": [
    "from sklearn.model_selection import train_test_split\n",
    "X_train, X_test, y_train, y_test = train_test_split(data, disposition, random_state=42)"
   ]
  },
  {
   "cell_type": "code",
   "execution_count": 14,
   "metadata": {},
   "outputs": [
    {
     "name": "stdout",
     "output_type": "stream",
     "text": [
      "<class 'pandas.core.frame.DataFrame'>\n",
      "Int64Index: 112500 entries, 92988 to 121958\n",
      "Data columns (total 7 columns):\n",
      " #   Column                   Non-Null Count   Dtype  \n",
      "---  ------                   --------------   -----  \n",
      " 0   line_srvc_cnt            112500 non-null  float64\n",
      " 1   place_of_service_F       112500 non-null  uint8  \n",
      " 2   hcpcs_drug_indicator_N   112500 non-null  uint8  \n",
      " 3   nppes_entity_code_I      112500 non-null  uint8  \n",
      " 4   nppes_provider_gender_F  112500 non-null  uint8  \n",
      " 5   nppes_provider_gender_M  112500 non-null  uint8  \n",
      " 6   nppes_provider_gender_O  112500 non-null  uint8  \n",
      "dtypes: float64(1), uint8(6)\n",
      "memory usage: 2.4 MB\n"
     ]
    }
   ],
   "source": [
    "X_train.info()"
   ]
  },
  {
   "cell_type": "code",
   "execution_count": 15,
   "metadata": {},
   "outputs": [
    {
     "data": {
      "text/plain": [
       "92988         Not\n",
       "43658     On_List\n",
       "110698        Not\n",
       "77130         Not\n",
       "109216        Not\n",
       "           ...   \n",
       "119879        Not\n",
       "103694        Not\n",
       "131932        Not\n",
       "146867        Not\n",
       "121958        Not\n",
       "Name: leie, Length: 112500, dtype: object"
      ]
     },
     "execution_count": 15,
     "metadata": {},
     "output_type": "execute_result"
    }
   ],
   "source": [
    "y_train"
   ]
  },
  {
   "cell_type": "code",
   "execution_count": 16,
   "metadata": {},
   "outputs": [],
   "source": [
    "# Support vector machine linear classifier\n",
    "from sklearn.svm import SVC \n",
    "model = SVC(kernel='linear')"
   ]
  },
  {
   "cell_type": "markdown",
   "metadata": {},
   "source": [
    "# Pre-processing\n",
    "Scale the data using the MinMaxScaler and perform some feature selection"
   ]
  },
  {
   "cell_type": "code",
   "execution_count": 17,
   "metadata": {},
   "outputs": [],
   "source": [
    "from sklearn.preprocessing import MinMaxScaler\n",
    "X_minmax = MinMaxScaler().fit(X_train)\n",
    "\n",
    "X_train_scale = X_minmax.transform(X_train)\n",
    "X_test_scale = X_minmax.transform(X_test)\n"
   ]
  },
  {
   "cell_type": "code",
   "execution_count": 18,
   "metadata": {},
   "outputs": [
    {
     "data": {
      "text/plain": [
       "array([[1.07586680e-03, 0.00000000e+00, 1.00000000e+00, ...,\n",
       "        0.00000000e+00, 0.00000000e+00, 1.00000000e+00],\n",
       "       [2.38710184e-07, 0.00000000e+00, 1.00000000e+00, ...,\n",
       "        0.00000000e+00, 1.00000000e+00, 0.00000000e+00],\n",
       "       [1.17922831e-03, 0.00000000e+00, 1.00000000e+00, ...,\n",
       "        0.00000000e+00, 0.00000000e+00, 1.00000000e+00],\n",
       "       ...,\n",
       "       [1.11477656e-03, 0.00000000e+00, 1.00000000e+00, ...,\n",
       "        0.00000000e+00, 1.00000000e+00, 0.00000000e+00],\n",
       "       [8.57208271e-04, 0.00000000e+00, 1.00000000e+00, ...,\n",
       "        1.00000000e+00, 0.00000000e+00, 0.00000000e+00],\n",
       "       [9.27389065e-04, 0.00000000e+00, 1.00000000e+00, ...,\n",
       "        0.00000000e+00, 0.00000000e+00, 1.00000000e+00]])"
      ]
     },
     "execution_count": 18,
     "metadata": {},
     "output_type": "execute_result"
    }
   ],
   "source": [
    "X_train_scale"
   ]
  },
  {
   "cell_type": "markdown",
   "metadata": {},
   "source": [
    "# Hyperparameter Tuning\n",
    "Use GridSearchCV to tune the model's parameters"
   ]
  },
  {
   "cell_type": "code",
   "execution_count": 19,
   "metadata": {},
   "outputs": [],
   "source": [
    "# Create the GridSearch estimator along with a parameter object containing the values to adjust\n",
    "from sklearn.model_selection import GridSearchCV\n",
    "param_grid = {'C': [1, 2],\n",
    "              'gamma': [0.001, 0.01]}\n",
    "grid = GridSearchCV(model, param_grid, verbose=3)"
   ]
  },
  {
   "cell_type": "code",
   "execution_count": 20,
   "metadata": {
    "scrolled": true
   },
   "outputs": [
    {
     "name": "stdout",
     "output_type": "stream",
     "text": [
      "Fitting 5 folds for each of 4 candidates, totalling 20 fits\n",
      "[CV] C=1, gamma=0.001 ................................................\n"
     ]
    },
    {
     "name": "stderr",
     "output_type": "stream",
     "text": [
      "[Parallel(n_jobs=1)]: Using backend SequentialBackend with 1 concurrent workers.\n"
     ]
    },
    {
     "name": "stdout",
     "output_type": "stream",
     "text": [
      "[CV] .................... C=1, gamma=0.001, score=0.820, total= 1.7min\n",
      "[CV] C=1, gamma=0.001 ................................................\n"
     ]
    },
    {
     "name": "stderr",
     "output_type": "stream",
     "text": [
      "[Parallel(n_jobs=1)]: Done   1 out of   1 | elapsed:  1.7min remaining:    0.0s\n"
     ]
    },
    {
     "name": "stdout",
     "output_type": "stream",
     "text": [
      "[CV] .................... C=1, gamma=0.001, score=0.813, total= 2.2min\n",
      "[CV] C=1, gamma=0.001 ................................................\n"
     ]
    },
    {
     "name": "stderr",
     "output_type": "stream",
     "text": [
      "[Parallel(n_jobs=1)]: Done   2 out of   2 | elapsed:  3.9min remaining:    0.0s\n"
     ]
    },
    {
     "name": "stdout",
     "output_type": "stream",
     "text": [
      "[CV] .................... C=1, gamma=0.001, score=0.821, total= 1.9min\n",
      "[CV] C=1, gamma=0.001 ................................................\n",
      "[CV] .................... C=1, gamma=0.001, score=0.819, total= 2.9min\n",
      "[CV] C=1, gamma=0.001 ................................................\n",
      "[CV] .................... C=1, gamma=0.001, score=0.813, total= 1.8min\n",
      "[CV] C=1, gamma=0.01 .................................................\n",
      "[CV] ..................... C=1, gamma=0.01, score=0.820, total= 1.9min\n",
      "[CV] C=1, gamma=0.01 .................................................\n",
      "[CV] ..................... C=1, gamma=0.01, score=0.813, total= 2.2min\n",
      "[CV] C=1, gamma=0.01 .................................................\n",
      "[CV] ..................... C=1, gamma=0.01, score=0.821, total= 2.6min\n",
      "[CV] C=1, gamma=0.01 .................................................\n",
      "[CV] ..................... C=1, gamma=0.01, score=0.819, total= 2.4min\n",
      "[CV] C=1, gamma=0.01 .................................................\n",
      "[CV] ..................... C=1, gamma=0.01, score=0.813, total= 1.7min\n",
      "[CV] C=2, gamma=0.001 ................................................\n",
      "[CV] .................... C=2, gamma=0.001, score=0.820, total= 1.5min\n",
      "[CV] C=2, gamma=0.001 ................................................\n",
      "[CV] .................... C=2, gamma=0.001, score=0.813, total= 1.6min\n",
      "[CV] C=2, gamma=0.001 ................................................\n",
      "[CV] .................... C=2, gamma=0.001, score=0.821, total= 1.9min\n",
      "[CV] C=2, gamma=0.001 ................................................\n",
      "[CV] .................... C=2, gamma=0.001, score=0.819, total= 1.5min\n",
      "[CV] C=2, gamma=0.001 ................................................\n",
      "[CV] .................... C=2, gamma=0.001, score=0.813, total= 1.8min\n",
      "[CV] C=2, gamma=0.01 .................................................\n",
      "[CV] ..................... C=2, gamma=0.01, score=0.820, total= 1.5min\n",
      "[CV] C=2, gamma=0.01 .................................................\n",
      "[CV] ..................... C=2, gamma=0.01, score=0.813, total= 1.4min\n",
      "[CV] C=2, gamma=0.01 .................................................\n",
      "[CV] ..................... C=2, gamma=0.01, score=0.821, total= 1.9min\n",
      "[CV] C=2, gamma=0.01 .................................................\n",
      "[CV] ..................... C=2, gamma=0.01, score=0.819, total= 1.6min\n",
      "[CV] C=2, gamma=0.01 .................................................\n",
      "[CV] ..................... C=2, gamma=0.01, score=0.813, total= 1.8min\n"
     ]
    },
    {
     "name": "stderr",
     "output_type": "stream",
     "text": [
      "[Parallel(n_jobs=1)]: Done  20 out of  20 | elapsed: 37.8min finished\n"
     ]
    },
    {
     "data": {
      "text/plain": [
       "GridSearchCV(cv=None, error_score=nan,\n",
       "             estimator=SVC(C=1.0, break_ties=False, cache_size=200,\n",
       "                           class_weight=None, coef0=0.0,\n",
       "                           decision_function_shape='ovr', degree=3,\n",
       "                           gamma='scale', kernel='linear', max_iter=-1,\n",
       "                           probability=False, random_state=None, shrinking=True,\n",
       "                           tol=0.001, verbose=False),\n",
       "             iid='deprecated', n_jobs=None,\n",
       "             param_grid={'C': [1, 2], 'gamma': [0.001, 0.01]},\n",
       "             pre_dispatch='2*n_jobs', refit=True, return_train_score=False,\n",
       "             scoring=None, verbose=3)"
      ]
     },
     "execution_count": 20,
     "metadata": {},
     "output_type": "execute_result"
    }
   ],
   "source": [
    "# Fit the model using the grid search estimator. \n",
    "# This will take the SVC model and try each combination of parameters\n",
    "grid.fit(X_train_scale, y_train)"
   ]
  },
  {
   "cell_type": "code",
   "execution_count": 21,
   "metadata": {},
   "outputs": [
    {
     "name": "stdout",
     "output_type": "stream",
     "text": [
      "Training Data Score: 0.8171288888888889\n",
      "Testing Data Score: 0.8158933333333334\n"
     ]
    }
   ],
   "source": [
    "print(f\"Training Data Score: {grid.score(X_train_scale, y_train)}\")\n",
    "print(f\"Testing Data Score: {grid.score(X_test_scale, y_test)}\")"
   ]
  },
  {
   "cell_type": "code",
   "execution_count": 22,
   "metadata": {},
   "outputs": [
    {
     "name": "stdout",
     "output_type": "stream",
     "text": [
      "{'C': 2, 'gamma': 0.001}\n"
     ]
    }
   ],
   "source": [
    "# List the best parameters for this dataset\n",
    "print(grid.best_params_)"
   ]
  },
  {
   "cell_type": "code",
   "execution_count": 23,
   "metadata": {},
   "outputs": [
    {
     "name": "stdout",
     "output_type": "stream",
     "text": [
      "0.8171022222222222\n"
     ]
    }
   ],
   "source": [
    "# List the best score\n",
    "print(grid.best_score_)"
   ]
  },
  {
   "cell_type": "code",
   "execution_count": 24,
   "metadata": {},
   "outputs": [
    {
     "data": {
      "text/plain": [
       "dict"
      ]
     },
     "execution_count": 24,
     "metadata": {},
     "output_type": "execute_result"
    }
   ],
   "source": [
    "type(grid.cv_results_)"
   ]
  },
  {
   "cell_type": "code",
   "execution_count": 25,
   "metadata": {},
   "outputs": [
    {
     "name": "stdout",
     "output_type": "stream",
     "text": [
      "dict_keys(['mean_fit_time', 'std_fit_time', 'mean_score_time', 'std_score_time', 'param_C', 'param_gamma', 'params', 'split0_test_score', 'split1_test_score', 'split2_test_score', 'split3_test_score', 'split4_test_score', 'mean_test_score', 'std_test_score', 'rank_test_score'])\n"
     ]
    }
   ],
   "source": [
    "print(grid.cv_results_.keys())"
   ]
  },
  {
   "cell_type": "code",
   "execution_count": 26,
   "metadata": {},
   "outputs": [
    {
     "data": {
      "text/html": [
       "<div>\n",
       "<style scoped>\n",
       "    .dataframe tbody tr th:only-of-type {\n",
       "        vertical-align: middle;\n",
       "    }\n",
       "\n",
       "    .dataframe tbody tr th {\n",
       "        vertical-align: top;\n",
       "    }\n",
       "\n",
       "    .dataframe thead th {\n",
       "        text-align: right;\n",
       "    }\n",
       "</style>\n",
       "<table border=\"1\" class=\"dataframe\">\n",
       "  <thead>\n",
       "    <tr style=\"text-align: right;\">\n",
       "      <th></th>\n",
       "      <th>mean_fit_time</th>\n",
       "      <th>std_fit_time</th>\n",
       "      <th>mean_score_time</th>\n",
       "      <th>std_score_time</th>\n",
       "      <th>param_C</th>\n",
       "      <th>param_gamma</th>\n",
       "      <th>params</th>\n",
       "      <th>split0_test_score</th>\n",
       "      <th>split1_test_score</th>\n",
       "      <th>split2_test_score</th>\n",
       "      <th>split3_test_score</th>\n",
       "      <th>split4_test_score</th>\n",
       "      <th>mean_test_score</th>\n",
       "      <th>std_test_score</th>\n",
       "      <th>rank_test_score</th>\n",
       "    </tr>\n",
       "  </thead>\n",
       "  <tbody>\n",
       "    <tr>\n",
       "      <th>0</th>\n",
       "      <td>118.810928</td>\n",
       "      <td>26.957751</td>\n",
       "      <td>7.027053</td>\n",
       "      <td>1.876008</td>\n",
       "      <td>1</td>\n",
       "      <td>0.001</td>\n",
       "      <td>{'C': 1, 'gamma': 0.001}</td>\n",
       "      <td>0.82</td>\n",
       "      <td>0.812933</td>\n",
       "      <td>0.821022</td>\n",
       "      <td>0.818711</td>\n",
       "      <td>0.812800</td>\n",
       "      <td>0.817093</td>\n",
       "      <td>0.003528</td>\n",
       "      <td>3</td>\n",
       "    </tr>\n",
       "    <tr>\n",
       "      <th>1</th>\n",
       "      <td>122.646501</td>\n",
       "      <td>17.210783</td>\n",
       "      <td>7.224562</td>\n",
       "      <td>1.807430</td>\n",
       "      <td>1</td>\n",
       "      <td>0.01</td>\n",
       "      <td>{'C': 1, 'gamma': 0.01}</td>\n",
       "      <td>0.82</td>\n",
       "      <td>0.812933</td>\n",
       "      <td>0.821022</td>\n",
       "      <td>0.818711</td>\n",
       "      <td>0.812800</td>\n",
       "      <td>0.817093</td>\n",
       "      <td>0.003528</td>\n",
       "      <td>3</td>\n",
       "    </tr>\n",
       "    <tr>\n",
       "      <th>2</th>\n",
       "      <td>93.990203</td>\n",
       "      <td>10.878898</td>\n",
       "      <td>5.921969</td>\n",
       "      <td>0.201021</td>\n",
       "      <td>2</td>\n",
       "      <td>0.001</td>\n",
       "      <td>{'C': 2, 'gamma': 0.001}</td>\n",
       "      <td>0.82</td>\n",
       "      <td>0.812889</td>\n",
       "      <td>0.821022</td>\n",
       "      <td>0.818711</td>\n",
       "      <td>0.812889</td>\n",
       "      <td>0.817102</td>\n",
       "      <td>0.003517</td>\n",
       "      <td>1</td>\n",
       "    </tr>\n",
       "    <tr>\n",
       "      <th>3</th>\n",
       "      <td>91.667618</td>\n",
       "      <td>11.304337</td>\n",
       "      <td>5.833402</td>\n",
       "      <td>0.183513</td>\n",
       "      <td>2</td>\n",
       "      <td>0.01</td>\n",
       "      <td>{'C': 2, 'gamma': 0.01}</td>\n",
       "      <td>0.82</td>\n",
       "      <td>0.812889</td>\n",
       "      <td>0.821022</td>\n",
       "      <td>0.818711</td>\n",
       "      <td>0.812889</td>\n",
       "      <td>0.817102</td>\n",
       "      <td>0.003517</td>\n",
       "      <td>1</td>\n",
       "    </tr>\n",
       "  </tbody>\n",
       "</table>\n",
       "</div>"
      ],
      "text/plain": [
       "   mean_fit_time  std_fit_time  mean_score_time  std_score_time param_C  \\\n",
       "0     118.810928     26.957751         7.027053        1.876008       1   \n",
       "1     122.646501     17.210783         7.224562        1.807430       1   \n",
       "2      93.990203     10.878898         5.921969        0.201021       2   \n",
       "3      91.667618     11.304337         5.833402        0.183513       2   \n",
       "\n",
       "  param_gamma                    params  split0_test_score  split1_test_score  \\\n",
       "0       0.001  {'C': 1, 'gamma': 0.001}               0.82           0.812933   \n",
       "1        0.01   {'C': 1, 'gamma': 0.01}               0.82           0.812933   \n",
       "2       0.001  {'C': 2, 'gamma': 0.001}               0.82           0.812889   \n",
       "3        0.01   {'C': 2, 'gamma': 0.01}               0.82           0.812889   \n",
       "\n",
       "   split2_test_score  split3_test_score  split4_test_score  mean_test_score  \\\n",
       "0           0.821022           0.818711           0.812800         0.817093   \n",
       "1           0.821022           0.818711           0.812800         0.817093   \n",
       "2           0.821022           0.818711           0.812889         0.817102   \n",
       "3           0.821022           0.818711           0.812889         0.817102   \n",
       "\n",
       "   std_test_score  rank_test_score  \n",
       "0        0.003528                3  \n",
       "1        0.003528                3  \n",
       "2        0.003517                1  \n",
       "3        0.003517                1  "
      ]
     },
     "execution_count": 26,
     "metadata": {},
     "output_type": "execute_result"
    }
   ],
   "source": [
    "import pandas as pd\n",
    "\n",
    "cv_results = pd.DataFrame(grid.cv_results_)\n",
    "cv_results"
   ]
  },
  {
   "cell_type": "code",
   "execution_count": 27,
   "metadata": {},
   "outputs": [
    {
     "data": {
      "text/html": [
       "<div>\n",
       "<style scoped>\n",
       "    .dataframe tbody tr th:only-of-type {\n",
       "        vertical-align: middle;\n",
       "    }\n",
       "\n",
       "    .dataframe tbody tr th {\n",
       "        vertical-align: top;\n",
       "    }\n",
       "\n",
       "    .dataframe thead th {\n",
       "        text-align: right;\n",
       "    }\n",
       "</style>\n",
       "<table border=\"1\" class=\"dataframe\">\n",
       "  <thead>\n",
       "    <tr style=\"text-align: right;\">\n",
       "      <th></th>\n",
       "      <th>param_C</th>\n",
       "      <th>param_gamma</th>\n",
       "      <th>mean_test_score</th>\n",
       "    </tr>\n",
       "  </thead>\n",
       "  <tbody>\n",
       "    <tr>\n",
       "      <th>2</th>\n",
       "      <td>2</td>\n",
       "      <td>0.001</td>\n",
       "      <td>0.817102</td>\n",
       "    </tr>\n",
       "    <tr>\n",
       "      <th>3</th>\n",
       "      <td>2</td>\n",
       "      <td>0.01</td>\n",
       "      <td>0.817102</td>\n",
       "    </tr>\n",
       "    <tr>\n",
       "      <th>0</th>\n",
       "      <td>1</td>\n",
       "      <td>0.001</td>\n",
       "      <td>0.817093</td>\n",
       "    </tr>\n",
       "    <tr>\n",
       "      <th>1</th>\n",
       "      <td>1</td>\n",
       "      <td>0.01</td>\n",
       "      <td>0.817093</td>\n",
       "    </tr>\n",
       "  </tbody>\n",
       "</table>\n",
       "</div>"
      ],
      "text/plain": [
       "  param_C param_gamma  mean_test_score\n",
       "2       2       0.001         0.817102\n",
       "3       2        0.01         0.817102\n",
       "0       1       0.001         0.817093\n",
       "1       1        0.01         0.817093"
      ]
     },
     "execution_count": 27,
     "metadata": {},
     "output_type": "execute_result"
    }
   ],
   "source": [
    "cv_results_tiny = cv_results[['param_C', 'param_gamma', 'mean_test_score']]\n",
    "cv_results_tiny.sort_values(by='mean_test_score', ascending=False).head(50)"
   ]
  },
  {
   "cell_type": "code",
   "execution_count": 28,
   "metadata": {},
   "outputs": [
    {
     "name": "stdout",
     "output_type": "stream",
     "text": [
      "2\n"
     ]
    }
   ],
   "source": [
    "# Best index for the model to impact the model.\n",
    "print(grid.best_index_)"
   ]
  },
  {
   "cell_type": "code",
   "execution_count": 29,
   "metadata": {},
   "outputs": [],
   "source": [
    "# Make predictions with the hypertuned model\n",
    "predictions = grid.predict(X_test_scale)"
   ]
  },
  {
   "cell_type": "code",
   "execution_count": 30,
   "metadata": {},
   "outputs": [
    {
     "name": "stdout",
     "output_type": "stream",
     "text": [
      "              precision    recall  f1-score   support\n",
      "\n",
      "         Not       0.96      0.72      0.82     22467\n",
      "     On_list       0.70      0.96      0.81     15033\n",
      "\n",
      "    accuracy                           0.82     37500\n",
      "   macro avg       0.83      0.84      0.82     37500\n",
      "weighted avg       0.86      0.82      0.82     37500\n",
      "\n"
     ]
    }
   ],
   "source": [
    "# Calculate classification report\n",
    "from sklearn.metrics import classification_report\n",
    "print(classification_report(y_test, predictions,\n",
    "                            target_names=[\"Not\", \"On_list\"]))"
   ]
  },
  {
   "cell_type": "code",
   "execution_count": 31,
   "metadata": {},
   "outputs": [
    {
     "data": {
      "text/plain": [
       "['Medicare_SVC_Grid_10-21-20_V2.sav']"
      ]
     },
     "execution_count": 31,
     "metadata": {},
     "output_type": "execute_result"
    }
   ],
   "source": [
    "# save your model by updating \"your_name\" with your name\n",
    "# and \"your_model\" with your model variable\n",
    "# be sure to turn this in to BCS\n",
    "# if joblib fails to import, try running the command to install in terminal/git-bash\n",
    "import joblib\n",
    "filename = 'Medicare_SVC_Grid_10-21-20_V2.sav'\n",
    "joblib.dump(grid, filename)"
   ]
  },
  {
   "cell_type": "code",
   "execution_count": 32,
   "metadata": {},
   "outputs": [],
   "source": [
    "#from sklearn.metrics import f1_score\n",
    "\n",
    "#f1_score(y_test, y_train, average='weighted', labels=np.unique(y_train))\n",
    "#f1_score(y_test, y_train, average='weighted')"
   ]
  },
  {
   "cell_type": "code",
   "execution_count": 33,
   "metadata": {},
   "outputs": [],
   "source": [
    "#from sklearn.metrics import f1_score"
   ]
  },
  {
   "cell_type": "code",
   "execution_count": 34,
   "metadata": {},
   "outputs": [],
   "source": [
    "#predictions"
   ]
  },
  {
   "cell_type": "code",
   "execution_count": null,
   "metadata": {},
   "outputs": [],
   "source": []
  }
 ],
 "metadata": {
  "kernel_info": {
   "name": "dev"
  },
  "kernelspec": {
   "display_name": "Python 3",
   "language": "python",
   "name": "python3"
  },
  "language_info": {
   "codemirror_mode": {
    "name": "ipython",
    "version": 3
   },
   "file_extension": ".py",
   "mimetype": "text/x-python",
   "name": "python",
   "nbconvert_exporter": "python",
   "pygments_lexer": "ipython3",
   "version": "3.7.6"
  },
  "nteract": {
   "version": "0.12.3"
  }
 },
 "nbformat": 4,
 "nbformat_minor": 2
}
