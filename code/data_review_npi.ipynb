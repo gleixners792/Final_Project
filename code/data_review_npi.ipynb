{
 "cells": [
  {
   "cell_type": "code",
   "execution_count": 1,
   "metadata": {},
   "outputs": [],
   "source": [
    "import pandas as pd\n",
    "import numpy as np\n",
    "import os"
   ]
  },
  {
   "cell_type": "code",
   "execution_count": 2,
   "metadata": {},
   "outputs": [],
   "source": [
    "data_file2012 = \"Medicare_Provider_Util_Payment_PUF_CY2012.txt\"\n",
    "data_file2013 = \"Medicare_Provider_Util_Payment_PUF_CY2013.txt\"\n",
    "data_file2014 = \"Medicare_Provider_Util_Payment_PUF_CY2014.txt\"\n",
    "data_file2015 = \"Medicare_Provider_Util_Payment_PUF_CY2015.txt\"\n",
    "data_file2016 = \"Medicare_Provider_Util_Payment_PUF_CY2016.txt\"\n",
    "data_file2017 = \"Medicare_Provider_Util_Payment_PUF_CY2017.txt\"\n",
    "\n",
    "provider_1 = 0\n",
    "provider_2 = 1568476968"
   ]
  },
  {
   "cell_type": "code",
   "execution_count": 3,
   "metadata": {},
   "outputs": [
    {
     "name": "stderr",
     "output_type": "stream",
     "text": [
      "C:\\Users\\gleix\\anaconda3\\lib\\site-packages\\IPython\\core\\interactiveshell.py:3063: DtypeWarning: Columns (10) have mixed types.Specify dtype option on import or set low_memory=False.\n",
      "  interactivity=interactivity, compiler=compiler, result=result)\n"
     ]
    }
   ],
   "source": [
    "#data_df = pd.read_csv(os.path.join(\"..\", \"Data\", data_file2012),sep='\\t', nrows=200000)\n",
    "data_df = pd.read_csv(os.path.join(\"..\", \"Data\", data_file2012),sep='\\t')\n",
    "# Drop the null rows\n",
    "data_df = data_df.dropna()\n",
    "#data_df.head()"
   ]
  },
  {
   "cell_type": "code",
   "execution_count": 4,
   "metadata": {},
   "outputs": [
    {
     "name": "stdout",
     "output_type": "stream",
     "text": [
      "<class 'pandas.core.frame.DataFrame'>\n",
      "Int64Index: 3085632 entries, 8 to 9153266\n",
      "Data columns (total 28 columns):\n",
      " #   Column                            Dtype  \n",
      "---  ------                            -----  \n",
      " 0   NPI                               int64  \n",
      " 1   NPPES_PROVIDER_LAST_ORG_NAME      object \n",
      " 2   NPPES_PROVIDER_FIRST_NAME         object \n",
      " 3   NPPES_PROVIDER_MI                 object \n",
      " 4   NPPES_CREDENTIALS                 object \n",
      " 5   NPPES_PROVIDER_GENDER             object \n",
      " 6   NPPES_ENTITY_CODE                 object \n",
      " 7   NPPES_PROVIDER_STREET1            object \n",
      " 8   NPPES_PROVIDER_STREET2            object \n",
      " 9   NPPES_PROVIDER_CITY               object \n",
      " 10  NPPES_PROVIDER_ZIP                object \n",
      " 11  NPPES_PROVIDER_STATE              object \n",
      " 12  NPPES_PROVIDER_COUNTRY            object \n",
      " 13  PROVIDER_TYPE                     object \n",
      " 14  MEDICARE_PARTICIPATION_INDICATOR  object \n",
      " 15  PLACE_OF_SERVICE                  object \n",
      " 16  HCPCS_CODE                        object \n",
      " 17  HCPCS_DESCRIPTION                 object \n",
      " 18  HCPCS_DRUG_INDICATOR              object \n",
      " 19  LINE_SRVC_CNT                     float64\n",
      " 20  BENE_UNIQUE_CNT                   float64\n",
      " 21  BENE_DAY_SRVC_CNT                 float64\n",
      " 22  AVERAGE_MEDICARE_ALLOWED_AMT      float64\n",
      " 23  STDEV_MEDICARE_ALLOWED_AMT        float64\n",
      " 24  AVERAGE_SUBMITTED_CHRG_AMT        float64\n",
      " 25  STDEV_SUBMITTED_CHRG_AMT          float64\n",
      " 26  AVERAGE_MEDICARE_PAYMENT_AMT      float64\n",
      " 27  STDEV_MEDICARE_PAYMENT_AMT        float64\n",
      "dtypes: float64(9), int64(1), object(18)\n",
      "memory usage: 682.7+ MB\n"
     ]
    }
   ],
   "source": [
    "data_df.info()"
   ]
  },
  {
   "cell_type": "code",
   "execution_count": 5,
   "metadata": {},
   "outputs": [],
   "source": [
    "#data_df"
   ]
  },
  {
   "cell_type": "code",
   "execution_count": 6,
   "metadata": {},
   "outputs": [],
   "source": [
    "data_df2012 = data_df.loc[(data_df[\"NPI\"] == provider_1) | (data_df[\"NPI\"] == provider_2), :]\n",
    "data_df2012['year'] = 2012"
   ]
  },
  {
   "cell_type": "code",
   "execution_count": 7,
   "metadata": {},
   "outputs": [
    {
     "data": {
      "text/html": [
       "<div>\n",
       "<style scoped>\n",
       "    .dataframe tbody tr th:only-of-type {\n",
       "        vertical-align: middle;\n",
       "    }\n",
       "\n",
       "    .dataframe tbody tr th {\n",
       "        vertical-align: top;\n",
       "    }\n",
       "\n",
       "    .dataframe thead th {\n",
       "        text-align: right;\n",
       "    }\n",
       "</style>\n",
       "<table border=\"1\" class=\"dataframe\">\n",
       "  <thead>\n",
       "    <tr style=\"text-align: right;\">\n",
       "      <th></th>\n",
       "      <th>NPI</th>\n",
       "      <th>NPPES_PROVIDER_LAST_ORG_NAME</th>\n",
       "      <th>NPPES_PROVIDER_FIRST_NAME</th>\n",
       "      <th>NPPES_PROVIDER_MI</th>\n",
       "      <th>NPPES_CREDENTIALS</th>\n",
       "      <th>NPPES_PROVIDER_GENDER</th>\n",
       "      <th>NPPES_ENTITY_CODE</th>\n",
       "      <th>NPPES_PROVIDER_STREET1</th>\n",
       "      <th>NPPES_PROVIDER_STREET2</th>\n",
       "      <th>NPPES_PROVIDER_CITY</th>\n",
       "      <th>...</th>\n",
       "      <th>LINE_SRVC_CNT</th>\n",
       "      <th>BENE_UNIQUE_CNT</th>\n",
       "      <th>BENE_DAY_SRVC_CNT</th>\n",
       "      <th>AVERAGE_MEDICARE_ALLOWED_AMT</th>\n",
       "      <th>STDEV_MEDICARE_ALLOWED_AMT</th>\n",
       "      <th>AVERAGE_SUBMITTED_CHRG_AMT</th>\n",
       "      <th>STDEV_SUBMITTED_CHRG_AMT</th>\n",
       "      <th>AVERAGE_MEDICARE_PAYMENT_AMT</th>\n",
       "      <th>STDEV_MEDICARE_PAYMENT_AMT</th>\n",
       "      <th>year</th>\n",
       "    </tr>\n",
       "  </thead>\n",
       "  <tbody>\n",
       "  </tbody>\n",
       "</table>\n",
       "<p>0 rows × 29 columns</p>\n",
       "</div>"
      ],
      "text/plain": [
       "Empty DataFrame\n",
       "Columns: [NPI, NPPES_PROVIDER_LAST_ORG_NAME, NPPES_PROVIDER_FIRST_NAME, NPPES_PROVIDER_MI, NPPES_CREDENTIALS, NPPES_PROVIDER_GENDER, NPPES_ENTITY_CODE, NPPES_PROVIDER_STREET1, NPPES_PROVIDER_STREET2, NPPES_PROVIDER_CITY, NPPES_PROVIDER_ZIP, NPPES_PROVIDER_STATE, NPPES_PROVIDER_COUNTRY, PROVIDER_TYPE, MEDICARE_PARTICIPATION_INDICATOR, PLACE_OF_SERVICE, HCPCS_CODE, HCPCS_DESCRIPTION, HCPCS_DRUG_INDICATOR, LINE_SRVC_CNT, BENE_UNIQUE_CNT, BENE_DAY_SRVC_CNT, AVERAGE_MEDICARE_ALLOWED_AMT, STDEV_MEDICARE_ALLOWED_AMT, AVERAGE_SUBMITTED_CHRG_AMT, STDEV_SUBMITTED_CHRG_AMT, AVERAGE_MEDICARE_PAYMENT_AMT, STDEV_MEDICARE_PAYMENT_AMT, year]\n",
       "Index: []\n",
       "\n",
       "[0 rows x 29 columns]"
      ]
     },
     "execution_count": 7,
     "metadata": {},
     "output_type": "execute_result"
    }
   ],
   "source": [
    "data_df2012"
   ]
  },
  {
   "cell_type": "code",
   "execution_count": 8,
   "metadata": {},
   "outputs": [
    {
     "name": "stderr",
     "output_type": "stream",
     "text": [
      "C:\\Users\\gleix\\anaconda3\\lib\\site-packages\\IPython\\core\\interactiveshell.py:3063: DtypeWarning: Columns (10) have mixed types.Specify dtype option on import or set low_memory=False.\n",
      "  interactivity=interactivity, compiler=compiler, result=result)\n"
     ]
    }
   ],
   "source": [
    "data_df = pd.read_csv(os.path.join(\"..\", \"Data\", data_file2013),sep='\\t')\n",
    "# Drop the null rows\n",
    "data_df = data_df.dropna()\n"
   ]
  },
  {
   "cell_type": "code",
   "execution_count": 9,
   "metadata": {},
   "outputs": [
    {
     "data": {
      "text/html": [
       "<div>\n",
       "<style scoped>\n",
       "    .dataframe tbody tr th:only-of-type {\n",
       "        vertical-align: middle;\n",
       "    }\n",
       "\n",
       "    .dataframe tbody tr th {\n",
       "        vertical-align: top;\n",
       "    }\n",
       "\n",
       "    .dataframe thead th {\n",
       "        text-align: right;\n",
       "    }\n",
       "</style>\n",
       "<table border=\"1\" class=\"dataframe\">\n",
       "  <thead>\n",
       "    <tr style=\"text-align: right;\">\n",
       "      <th></th>\n",
       "      <th>NPI</th>\n",
       "      <th>NPPES_PROVIDER_LAST_ORG_NAME</th>\n",
       "      <th>NPPES_PROVIDER_FIRST_NAME</th>\n",
       "      <th>NPPES_PROVIDER_MI</th>\n",
       "      <th>NPPES_CREDENTIALS</th>\n",
       "      <th>NPPES_PROVIDER_GENDER</th>\n",
       "      <th>NPPES_ENTITY_CODE</th>\n",
       "      <th>NPPES_PROVIDER_STREET1</th>\n",
       "      <th>NPPES_PROVIDER_STREET2</th>\n",
       "      <th>NPPES_PROVIDER_CITY</th>\n",
       "      <th>...</th>\n",
       "      <th>LINE_SRVC_CNT</th>\n",
       "      <th>BENE_UNIQUE_CNT</th>\n",
       "      <th>BENE_DAY_SRVC_CNT</th>\n",
       "      <th>AVERAGE_MEDICARE_ALLOWED_AMT</th>\n",
       "      <th>STDEV_MEDICARE_ALLOWED_AMT</th>\n",
       "      <th>AVERAGE_SUBMITTED_CHRG_AMT</th>\n",
       "      <th>STDEV_SUBMITTED_CHRG_AMT</th>\n",
       "      <th>AVERAGE_MEDICARE_PAYMENT_AMT</th>\n",
       "      <th>STDEV_MEDICARE_PAYMENT_AMT</th>\n",
       "      <th>year</th>\n",
       "    </tr>\n",
       "  </thead>\n",
       "  <tbody>\n",
       "  </tbody>\n",
       "</table>\n",
       "<p>0 rows × 29 columns</p>\n",
       "</div>"
      ],
      "text/plain": [
       "Empty DataFrame\n",
       "Columns: [NPI, NPPES_PROVIDER_LAST_ORG_NAME, NPPES_PROVIDER_FIRST_NAME, NPPES_PROVIDER_MI, NPPES_CREDENTIALS, NPPES_PROVIDER_GENDER, NPPES_ENTITY_CODE, NPPES_PROVIDER_STREET1, NPPES_PROVIDER_STREET2, NPPES_PROVIDER_CITY, NPPES_PROVIDER_ZIP, NPPES_PROVIDER_STATE, NPPES_PROVIDER_COUNTRY, PROVIDER_TYPE, MEDICARE_PARTICIPATION_INDICATOR, PLACE_OF_SERVICE, HCPCS_CODE, HCPCS_DESCRIPTION, HCPCS_DRUG_INDICATOR, LINE_SRVC_CNT, BENE_UNIQUE_CNT, BENE_DAY_SRVC_CNT, AVERAGE_MEDICARE_ALLOWED_AMT, STDEV_MEDICARE_ALLOWED_AMT, AVERAGE_SUBMITTED_CHRG_AMT, STDEV_SUBMITTED_CHRG_AMT, AVERAGE_MEDICARE_PAYMENT_AMT, STDEV_MEDICARE_PAYMENT_AMT, year]\n",
       "Index: []\n",
       "\n",
       "[0 rows x 29 columns]"
      ]
     },
     "execution_count": 9,
     "metadata": {},
     "output_type": "execute_result"
    }
   ],
   "source": [
    "data_df2013 = data_df.loc[(data_df[\"NPI\"] == provider_1) | (data_df[\"NPI\"] == provider_2), :]\n",
    "data_df2013['year'] = 2013\n",
    "data_df2013"
   ]
  },
  {
   "cell_type": "code",
   "execution_count": 10,
   "metadata": {},
   "outputs": [
    {
     "name": "stdout",
     "output_type": "stream",
     "text": [
      "<class 'pandas.core.frame.DataFrame'>\n",
      "Int64Index: 0 entries\n",
      "Data columns (total 29 columns):\n",
      " #   Column                            Non-Null Count  Dtype  \n",
      "---  ------                            --------------  -----  \n",
      " 0   NPI                               0 non-null      int64  \n",
      " 1   NPPES_PROVIDER_LAST_ORG_NAME      0 non-null      object \n",
      " 2   NPPES_PROVIDER_FIRST_NAME         0 non-null      object \n",
      " 3   NPPES_PROVIDER_MI                 0 non-null      object \n",
      " 4   NPPES_CREDENTIALS                 0 non-null      object \n",
      " 5   NPPES_PROVIDER_GENDER             0 non-null      object \n",
      " 6   NPPES_ENTITY_CODE                 0 non-null      object \n",
      " 7   NPPES_PROVIDER_STREET1            0 non-null      object \n",
      " 8   NPPES_PROVIDER_STREET2            0 non-null      object \n",
      " 9   NPPES_PROVIDER_CITY               0 non-null      object \n",
      " 10  NPPES_PROVIDER_ZIP                0 non-null      object \n",
      " 11  NPPES_PROVIDER_STATE              0 non-null      object \n",
      " 12  NPPES_PROVIDER_COUNTRY            0 non-null      object \n",
      " 13  PROVIDER_TYPE                     0 non-null      object \n",
      " 14  MEDICARE_PARTICIPATION_INDICATOR  0 non-null      object \n",
      " 15  PLACE_OF_SERVICE                  0 non-null      object \n",
      " 16  HCPCS_CODE                        0 non-null      object \n",
      " 17  HCPCS_DESCRIPTION                 0 non-null      object \n",
      " 18  HCPCS_DRUG_INDICATOR              0 non-null      object \n",
      " 19  LINE_SRVC_CNT                     0 non-null      float64\n",
      " 20  BENE_UNIQUE_CNT                   0 non-null      float64\n",
      " 21  BENE_DAY_SRVC_CNT                 0 non-null      float64\n",
      " 22  AVERAGE_MEDICARE_ALLOWED_AMT      0 non-null      float64\n",
      " 23  STDEV_MEDICARE_ALLOWED_AMT        0 non-null      float64\n",
      " 24  AVERAGE_SUBMITTED_CHRG_AMT        0 non-null      float64\n",
      " 25  STDEV_SUBMITTED_CHRG_AMT          0 non-null      float64\n",
      " 26  AVERAGE_MEDICARE_PAYMENT_AMT      0 non-null      float64\n",
      " 27  STDEV_MEDICARE_PAYMENT_AMT        0 non-null      float64\n",
      " 28  year                              0 non-null      int64  \n",
      "dtypes: float64(9), int64(2), object(18)\n",
      "memory usage: 0.0+ bytes\n"
     ]
    }
   ],
   "source": [
    "data_df2013.info()"
   ]
  },
  {
   "cell_type": "code",
   "execution_count": 11,
   "metadata": {},
   "outputs": [
    {
     "name": "stdout",
     "output_type": "stream",
     "text": [
      "<class 'pandas.core.frame.DataFrame'>\n",
      "Int64Index: 0 entries\n",
      "Data columns (total 29 columns):\n",
      " #   Column                            Non-Null Count  Dtype  \n",
      "---  ------                            --------------  -----  \n",
      " 0   NPI                               0 non-null      int64  \n",
      " 1   NPPES_PROVIDER_LAST_ORG_NAME      0 non-null      object \n",
      " 2   NPPES_PROVIDER_FIRST_NAME         0 non-null      object \n",
      " 3   NPPES_PROVIDER_MI                 0 non-null      object \n",
      " 4   NPPES_CREDENTIALS                 0 non-null      object \n",
      " 5   NPPES_PROVIDER_GENDER             0 non-null      object \n",
      " 6   NPPES_ENTITY_CODE                 0 non-null      object \n",
      " 7   NPPES_PROVIDER_STREET1            0 non-null      object \n",
      " 8   NPPES_PROVIDER_STREET2            0 non-null      object \n",
      " 9   NPPES_PROVIDER_CITY               0 non-null      object \n",
      " 10  NPPES_PROVIDER_ZIP                0 non-null      object \n",
      " 11  NPPES_PROVIDER_STATE              0 non-null      object \n",
      " 12  NPPES_PROVIDER_COUNTRY            0 non-null      object \n",
      " 13  PROVIDER_TYPE                     0 non-null      object \n",
      " 14  MEDICARE_PARTICIPATION_INDICATOR  0 non-null      object \n",
      " 15  PLACE_OF_SERVICE                  0 non-null      object \n",
      " 16  HCPCS_CODE                        0 non-null      object \n",
      " 17  HCPCS_DESCRIPTION                 0 non-null      object \n",
      " 18  HCPCS_DRUG_INDICATOR              0 non-null      object \n",
      " 19  LINE_SRVC_CNT                     0 non-null      float64\n",
      " 20  BENE_UNIQUE_CNT                   0 non-null      float64\n",
      " 21  BENE_DAY_SRVC_CNT                 0 non-null      float64\n",
      " 22  AVERAGE_MEDICARE_ALLOWED_AMT      0 non-null      float64\n",
      " 23  STDEV_MEDICARE_ALLOWED_AMT        0 non-null      float64\n",
      " 24  AVERAGE_SUBMITTED_CHRG_AMT        0 non-null      float64\n",
      " 25  STDEV_SUBMITTED_CHRG_AMT          0 non-null      float64\n",
      " 26  AVERAGE_MEDICARE_PAYMENT_AMT      0 non-null      float64\n",
      " 27  STDEV_MEDICARE_PAYMENT_AMT        0 non-null      float64\n",
      " 28  year                              0 non-null      int64  \n",
      "dtypes: float64(9), int64(2), object(18)\n",
      "memory usage: 0.0+ bytes\n"
     ]
    }
   ],
   "source": [
    "data_df_total = pd.concat([data_df2012, data_df2013])\n",
    "data_df_total.info()"
   ]
  },
  {
   "cell_type": "code",
   "execution_count": 12,
   "metadata": {},
   "outputs": [
    {
     "name": "stderr",
     "output_type": "stream",
     "text": [
      "C:\\Users\\gleix\\anaconda3\\lib\\site-packages\\IPython\\core\\interactiveshell.py:3063: DtypeWarning: Columns (10) have mixed types.Specify dtype option on import or set low_memory=False.\n",
      "  interactivity=interactivity, compiler=compiler, result=result)\n"
     ]
    }
   ],
   "source": [
    "data_df = pd.read_csv(os.path.join(\"..\", \"Data\", data_file2014),sep='\\t')\n",
    "# Drop the null rows\n",
    "data_df = data_df.dropna()"
   ]
  },
  {
   "cell_type": "code",
   "execution_count": 13,
   "metadata": {},
   "outputs": [
    {
     "name": "stdout",
     "output_type": "stream",
     "text": [
      "<class 'pandas.core.frame.DataFrame'>\n",
      "Int64Index: 3085446 entries, 9 to 9316301\n",
      "Data columns (total 26 columns):\n",
      " #   Column                            Dtype  \n",
      "---  ------                            -----  \n",
      " 0   npi                               int64  \n",
      " 1   nppes_provider_last_org_name      object \n",
      " 2   nppes_provider_first_name         object \n",
      " 3   nppes_provider_mi                 object \n",
      " 4   nppes_credentials                 object \n",
      " 5   nppes_provider_gender             object \n",
      " 6   nppes_entity_code                 object \n",
      " 7   nppes_provider_street1            object \n",
      " 8   nppes_provider_street2            object \n",
      " 9   nppes_provider_city               object \n",
      " 10  nppes_provider_zip                object \n",
      " 11  nppes_provider_state              object \n",
      " 12  nppes_provider_country            object \n",
      " 13  provider_type                     object \n",
      " 14  medicare_participation_indicator  object \n",
      " 15  place_of_service                  object \n",
      " 16  hcpcs_code                        object \n",
      " 17  hcpcs_description                 object \n",
      " 18  hcpcs_drug_indicator              object \n",
      " 19  line_srvc_cnt                     float64\n",
      " 20  bene_unique_cnt                   float64\n",
      " 21  bene_day_srvc_cnt                 float64\n",
      " 22  average_Medicare_allowed_amt      float64\n",
      " 23  average_submitted_chrg_amt        float64\n",
      " 24  average_Medicare_payment_amt      float64\n",
      " 25  average_Medicare_standard_amt     float64\n",
      "dtypes: float64(7), int64(1), object(18)\n",
      "memory usage: 635.6+ MB\n"
     ]
    }
   ],
   "source": [
    "data_df.info()"
   ]
  },
  {
   "cell_type": "code",
   "execution_count": 14,
   "metadata": {},
   "outputs": [
    {
     "data": {
      "text/plain": [
       "Index(['npi', 'nppes_provider_last_org_name', 'nppes_provider_first_name',\n",
       "       'nppes_provider_mi', 'nppes_credentials', 'nppes_provider_gender',\n",
       "       'nppes_entity_code', 'nppes_provider_street1', 'nppes_provider_street2',\n",
       "       'nppes_provider_city', 'nppes_provider_zip', 'nppes_provider_state',\n",
       "       'nppes_provider_country', 'provider_type',\n",
       "       'medicare_participation_indicator', 'place_of_service', 'hcpcs_code',\n",
       "       'hcpcs_description', 'hcpcs_drug_indicator', 'line_srvc_cnt',\n",
       "       'bene_unique_cnt', 'bene_day_srvc_cnt', 'average_Medicare_allowed_amt',\n",
       "       'average_submitted_chrg_amt', 'average_Medicare_payment_amt',\n",
       "       'average_Medicare_standard_amt'],\n",
       "      dtype='object')"
      ]
     },
     "execution_count": 14,
     "metadata": {},
     "output_type": "execute_result"
    }
   ],
   "source": [
    "data_df.columns"
   ]
  },
  {
   "cell_type": "code",
   "execution_count": 15,
   "metadata": {},
   "outputs": [],
   "source": [
    "data_df_total.columns\n",
    "\n",
    "data_df_total.drop(['STDEV_MEDICARE_ALLOWED_AMT', 'STDEV_SUBMITTED_CHRG_AMT','STDEV_MEDICARE_PAYMENT_AMT'], axis=1, inplace=True)\n"
   ]
  },
  {
   "cell_type": "code",
   "execution_count": 16,
   "metadata": {},
   "outputs": [
    {
     "data": {
      "text/plain": [
       "Index(['NPI', 'NPPES_PROVIDER_LAST_ORG_NAME', 'NPPES_PROVIDER_FIRST_NAME',\n",
       "       'NPPES_PROVIDER_MI', 'NPPES_CREDENTIALS', 'NPPES_PROVIDER_GENDER',\n",
       "       'NPPES_ENTITY_CODE', 'NPPES_PROVIDER_STREET1', 'NPPES_PROVIDER_STREET2',\n",
       "       'NPPES_PROVIDER_CITY', 'NPPES_PROVIDER_ZIP', 'NPPES_PROVIDER_STATE',\n",
       "       'NPPES_PROVIDER_COUNTRY', 'PROVIDER_TYPE',\n",
       "       'MEDICARE_PARTICIPATION_INDICATOR', 'PLACE_OF_SERVICE', 'HCPCS_CODE',\n",
       "       'HCPCS_DESCRIPTION', 'HCPCS_DRUG_INDICATOR', 'LINE_SRVC_CNT',\n",
       "       'BENE_UNIQUE_CNT', 'BENE_DAY_SRVC_CNT', 'AVERAGE_MEDICARE_ALLOWED_AMT',\n",
       "       'AVERAGE_SUBMITTED_CHRG_AMT', 'AVERAGE_MEDICARE_PAYMENT_AMT', 'year'],\n",
       "      dtype='object')"
      ]
     },
     "execution_count": 16,
     "metadata": {},
     "output_type": "execute_result"
    }
   ],
   "source": [
    "data_df_total.columns"
   ]
  },
  {
   "cell_type": "code",
   "execution_count": 17,
   "metadata": {},
   "outputs": [
    {
     "data": {
      "text/plain": [
       "Index(['npi', 'nppes_provider_last_org_name', 'nppes_provider_first_name',\n",
       "       'nppes_provider_mi', 'nppes_credentials', 'nppes_provider_gender',\n",
       "       'nppes_entity_code', 'nppes_provider_street1', 'nppes_provider_street2',\n",
       "       'nppes_provider_city', 'nppes_provider_zip', 'nppes_provider_state',\n",
       "       'nppes_provider_country', 'provider_type',\n",
       "       'medicare_participation_indicator', 'place_of_service', 'hcpcs_code',\n",
       "       'hcpcs_description', 'hcpcs_drug_indicator', 'line_srvc_cnt',\n",
       "       'bene_unique_cnt', 'bene_day_srvc_cnt', 'average_Medicare_allowed_amt',\n",
       "       'average_submitted_chrg_amt', 'average_Medicare_payment_amt', 'year'],\n",
       "      dtype='object')"
      ]
     },
     "execution_count": 17,
     "metadata": {},
     "output_type": "execute_result"
    }
   ],
   "source": [
    "data_df_total.columns = ['npi', 'nppes_provider_last_org_name', 'nppes_provider_first_name',\n",
    "       'nppes_provider_mi', 'nppes_credentials', 'nppes_provider_gender',\n",
    "       'nppes_entity_code', 'nppes_provider_street1', 'nppes_provider_street2',\n",
    "       'nppes_provider_city', 'nppes_provider_zip', 'nppes_provider_state',\n",
    "       'nppes_provider_country', 'provider_type',\n",
    "       'medicare_participation_indicator', 'place_of_service', 'hcpcs_code',\n",
    "       'hcpcs_description', 'hcpcs_drug_indicator', 'line_srvc_cnt',\n",
    "       'bene_unique_cnt', 'bene_day_srvc_cnt', 'average_Medicare_allowed_amt',\n",
    "       'average_submitted_chrg_amt', 'average_Medicare_payment_amt',\n",
    "       'year']\n",
    "\n",
    "data_df_total.columns"
   ]
  },
  {
   "cell_type": "code",
   "execution_count": 18,
   "metadata": {},
   "outputs": [
    {
     "name": "stdout",
     "output_type": "stream",
     "text": [
      "<class 'pandas.core.frame.DataFrame'>\n",
      "Int64Index: 0 entries\n",
      "Data columns (total 26 columns):\n",
      " #   Column                            Non-Null Count  Dtype  \n",
      "---  ------                            --------------  -----  \n",
      " 0   npi                               0 non-null      int64  \n",
      " 1   nppes_provider_last_org_name      0 non-null      object \n",
      " 2   nppes_provider_first_name         0 non-null      object \n",
      " 3   nppes_provider_mi                 0 non-null      object \n",
      " 4   nppes_credentials                 0 non-null      object \n",
      " 5   nppes_provider_gender             0 non-null      object \n",
      " 6   nppes_entity_code                 0 non-null      object \n",
      " 7   nppes_provider_street1            0 non-null      object \n",
      " 8   nppes_provider_street2            0 non-null      object \n",
      " 9   nppes_provider_city               0 non-null      object \n",
      " 10  nppes_provider_zip                0 non-null      object \n",
      " 11  nppes_provider_state              0 non-null      object \n",
      " 12  nppes_provider_country            0 non-null      object \n",
      " 13  provider_type                     0 non-null      object \n",
      " 14  medicare_participation_indicator  0 non-null      object \n",
      " 15  place_of_service                  0 non-null      object \n",
      " 16  hcpcs_code                        0 non-null      object \n",
      " 17  hcpcs_description                 0 non-null      object \n",
      " 18  hcpcs_drug_indicator              0 non-null      object \n",
      " 19  line_srvc_cnt                     0 non-null      float64\n",
      " 20  bene_unique_cnt                   0 non-null      float64\n",
      " 21  bene_day_srvc_cnt                 0 non-null      float64\n",
      " 22  average_Medicare_allowed_amt      0 non-null      float64\n",
      " 23  average_submitted_chrg_amt        0 non-null      float64\n",
      " 24  average_Medicare_payment_amt      0 non-null      float64\n",
      " 25  year                              0 non-null      int64  \n",
      "dtypes: float64(6), int64(2), object(18)\n",
      "memory usage: 0.0+ bytes\n"
     ]
    },
    {
     "name": "stderr",
     "output_type": "stream",
     "text": [
      "C:\\Users\\gleix\\anaconda3\\lib\\site-packages\\pandas\\core\\frame.py:3997: SettingWithCopyWarning: \n",
      "A value is trying to be set on a copy of a slice from a DataFrame\n",
      "\n",
      "See the caveats in the documentation: https://pandas.pydata.org/pandas-docs/stable/user_guide/indexing.html#returning-a-view-versus-a-copy\n",
      "  errors=errors,\n"
     ]
    }
   ],
   "source": [
    "data_df2014 = data_df.loc[(data_df[\"npi\"] == provider_1) | (data_df[\"npi\"] == provider_2), :]\n",
    "data_df2014['year'] = 2014\n",
    "\n",
    "data_df2014.drop('average_Medicare_standard_amt', axis=1, inplace=True)\n",
    "\n",
    "\n",
    "data_df2014.info()"
   ]
  },
  {
   "cell_type": "code",
   "execution_count": 19,
   "metadata": {},
   "outputs": [
    {
     "name": "stdout",
     "output_type": "stream",
     "text": [
      "<class 'pandas.core.frame.DataFrame'>\n",
      "Int64Index: 0 entries\n",
      "Data columns (total 26 columns):\n",
      " #   Column                            Non-Null Count  Dtype  \n",
      "---  ------                            --------------  -----  \n",
      " 0   npi                               0 non-null      int64  \n",
      " 1   nppes_provider_last_org_name      0 non-null      object \n",
      " 2   nppes_provider_first_name         0 non-null      object \n",
      " 3   nppes_provider_mi                 0 non-null      object \n",
      " 4   nppes_credentials                 0 non-null      object \n",
      " 5   nppes_provider_gender             0 non-null      object \n",
      " 6   nppes_entity_code                 0 non-null      object \n",
      " 7   nppes_provider_street1            0 non-null      object \n",
      " 8   nppes_provider_street2            0 non-null      object \n",
      " 9   nppes_provider_city               0 non-null      object \n",
      " 10  nppes_provider_zip                0 non-null      object \n",
      " 11  nppes_provider_state              0 non-null      object \n",
      " 12  nppes_provider_country            0 non-null      object \n",
      " 13  provider_type                     0 non-null      object \n",
      " 14  medicare_participation_indicator  0 non-null      object \n",
      " 15  place_of_service                  0 non-null      object \n",
      " 16  hcpcs_code                        0 non-null      object \n",
      " 17  hcpcs_description                 0 non-null      object \n",
      " 18  hcpcs_drug_indicator              0 non-null      object \n",
      " 19  line_srvc_cnt                     0 non-null      float64\n",
      " 20  bene_unique_cnt                   0 non-null      float64\n",
      " 21  bene_day_srvc_cnt                 0 non-null      float64\n",
      " 22  average_Medicare_allowed_amt      0 non-null      float64\n",
      " 23  average_submitted_chrg_amt        0 non-null      float64\n",
      " 24  average_Medicare_payment_amt      0 non-null      float64\n",
      " 25  year                              0 non-null      int64  \n",
      "dtypes: float64(6), int64(2), object(18)\n",
      "memory usage: 0.0+ bytes\n"
     ]
    }
   ],
   "source": [
    "data_df_total = pd.concat([data_df_total, data_df2014])\n",
    "data_df_total.info()"
   ]
  },
  {
   "cell_type": "code",
   "execution_count": 20,
   "metadata": {},
   "outputs": [],
   "source": [
    "data_df = pd.read_csv(os.path.join(\"..\", \"Data\", data_file2015),sep='\\t')\n",
    "# Drop the null rows\n",
    "data_df = data_df.dropna()"
   ]
  },
  {
   "cell_type": "code",
   "execution_count": 21,
   "metadata": {},
   "outputs": [
    {
     "name": "stdout",
     "output_type": "stream",
     "text": [
      "<class 'pandas.core.frame.DataFrame'>\n",
      "Int64Index: 0 entries\n",
      "Data columns (total 26 columns):\n",
      " #   Column                            Non-Null Count  Dtype  \n",
      "---  ------                            --------------  -----  \n",
      " 0   npi                               0 non-null      int64  \n",
      " 1   nppes_provider_last_org_name      0 non-null      object \n",
      " 2   nppes_provider_first_name         0 non-null      object \n",
      " 3   nppes_provider_mi                 0 non-null      object \n",
      " 4   nppes_credentials                 0 non-null      object \n",
      " 5   nppes_provider_gender             0 non-null      object \n",
      " 6   nppes_entity_code                 0 non-null      object \n",
      " 7   nppes_provider_street1            0 non-null      object \n",
      " 8   nppes_provider_street2            0 non-null      object \n",
      " 9   nppes_provider_city               0 non-null      object \n",
      " 10  nppes_provider_zip                0 non-null      object \n",
      " 11  nppes_provider_state              0 non-null      object \n",
      " 12  nppes_provider_country            0 non-null      object \n",
      " 13  provider_type                     0 non-null      object \n",
      " 14  medicare_participation_indicator  0 non-null      object \n",
      " 15  place_of_service                  0 non-null      object \n",
      " 16  hcpcs_code                        0 non-null      object \n",
      " 17  hcpcs_description                 0 non-null      object \n",
      " 18  hcpcs_drug_indicator              0 non-null      object \n",
      " 19  line_srvc_cnt                     0 non-null      float64\n",
      " 20  bene_unique_cnt                   0 non-null      float64\n",
      " 21  bene_day_srvc_cnt                 0 non-null      float64\n",
      " 22  average_Medicare_allowed_amt      0 non-null      float64\n",
      " 23  average_submitted_chrg_amt        0 non-null      float64\n",
      " 24  average_Medicare_payment_amt      0 non-null      float64\n",
      " 25  year                              0 non-null      int64  \n",
      "dtypes: float64(6), int64(2), object(18)\n",
      "memory usage: 0.0+ bytes\n"
     ]
    }
   ],
   "source": [
    "data_df2015 = data_df.loc[(data_df[\"npi\"] == provider_1) | (data_df[\"npi\"] == provider_2), :]\n",
    "data_df2015['year'] = 2015\n",
    "\n",
    "data_df2015.drop('average_Medicare_standard_amt', axis=1, inplace=True)\n",
    "\n",
    "\n",
    "data_df2015.info()"
   ]
  },
  {
   "cell_type": "code",
   "execution_count": 22,
   "metadata": {},
   "outputs": [
    {
     "name": "stdout",
     "output_type": "stream",
     "text": [
      "<class 'pandas.core.frame.DataFrame'>\n",
      "Int64Index: 0 entries\n",
      "Data columns (total 26 columns):\n",
      " #   Column                            Non-Null Count  Dtype  \n",
      "---  ------                            --------------  -----  \n",
      " 0   npi                               0 non-null      int64  \n",
      " 1   nppes_provider_last_org_name      0 non-null      object \n",
      " 2   nppes_provider_first_name         0 non-null      object \n",
      " 3   nppes_provider_mi                 0 non-null      object \n",
      " 4   nppes_credentials                 0 non-null      object \n",
      " 5   nppes_provider_gender             0 non-null      object \n",
      " 6   nppes_entity_code                 0 non-null      object \n",
      " 7   nppes_provider_street1            0 non-null      object \n",
      " 8   nppes_provider_street2            0 non-null      object \n",
      " 9   nppes_provider_city               0 non-null      object \n",
      " 10  nppes_provider_zip                0 non-null      object \n",
      " 11  nppes_provider_state              0 non-null      object \n",
      " 12  nppes_provider_country            0 non-null      object \n",
      " 13  provider_type                     0 non-null      object \n",
      " 14  medicare_participation_indicator  0 non-null      object \n",
      " 15  place_of_service                  0 non-null      object \n",
      " 16  hcpcs_code                        0 non-null      object \n",
      " 17  hcpcs_description                 0 non-null      object \n",
      " 18  hcpcs_drug_indicator              0 non-null      object \n",
      " 19  line_srvc_cnt                     0 non-null      float64\n",
      " 20  bene_unique_cnt                   0 non-null      float64\n",
      " 21  bene_day_srvc_cnt                 0 non-null      float64\n",
      " 22  average_Medicare_allowed_amt      0 non-null      float64\n",
      " 23  average_submitted_chrg_amt        0 non-null      float64\n",
      " 24  average_Medicare_payment_amt      0 non-null      float64\n",
      " 25  year                              0 non-null      int64  \n",
      "dtypes: float64(6), int64(2), object(18)\n",
      "memory usage: 0.0+ bytes\n"
     ]
    }
   ],
   "source": [
    "data_df_total = pd.concat([data_df_total, data_df2015])\n",
    "data_df_total.info()"
   ]
  },
  {
   "cell_type": "code",
   "execution_count": 23,
   "metadata": {},
   "outputs": [],
   "source": [
    "data_df = pd.read_csv(os.path.join(\"..\", \"Data\", data_file2016),sep='\\t')\n",
    "# Drop the null rows\n",
    "data_df = data_df.dropna()"
   ]
  },
  {
   "cell_type": "code",
   "execution_count": 24,
   "metadata": {},
   "outputs": [
    {
     "name": "stdout",
     "output_type": "stream",
     "text": [
      "<class 'pandas.core.frame.DataFrame'>\n",
      "Int64Index: 3057776 entries, 13 to 9714889\n",
      "Data columns (total 26 columns):\n",
      " #   Column                            Dtype  \n",
      "---  ------                            -----  \n",
      " 0   NPI                               int64  \n",
      " 1   NPPES_PROVIDER_LAST_ORG_NAME      object \n",
      " 2   NPPES_PROVIDER_FIRST_NAME         object \n",
      " 3   NPPES_PROVIDER_MI                 object \n",
      " 4   NPPES_CREDENTIALS                 object \n",
      " 5   NPPES_PROVIDER_GENDER             object \n",
      " 6   NPPES_ENTITY_CODE                 object \n",
      " 7   NPPES_PROVIDER_STREET1            object \n",
      " 8   NPPES_PROVIDER_STREET2            object \n",
      " 9   NPPES_PROVIDER_CITY               object \n",
      " 10  NPPES_PROVIDER_ZIP                object \n",
      " 11  NPPES_PROVIDER_STATE              object \n",
      " 12  NPPES_PROVIDER_COUNTRY            object \n",
      " 13  PROVIDER_TYPE                     object \n",
      " 14  MEDICARE_PARTICIPATION_INDICATOR  object \n",
      " 15  PLACE_OF_SERVICE                  object \n",
      " 16  HCPCS_CODE                        object \n",
      " 17  HCPCS_DESCRIPTION                 object \n",
      " 18  HCPCS_DRUG_INDICATOR              object \n",
      " 19  LINE_SRVC_CNT                     float64\n",
      " 20  BENE_UNIQUE_CNT                   float64\n",
      " 21  BENE_DAY_SRVC_CNT                 float64\n",
      " 22  AVERAGE_MEDICARE_ALLOWED_AMT      float64\n",
      " 23  AVERAGE_SUBMITTED_CHRG_AMT        float64\n",
      " 24  AVERAGE_MEDICARE_PAYMENT_AMT      float64\n",
      " 25  AVERAGE_MEDICARE_STANDARD_AMT     float64\n",
      "dtypes: float64(7), int64(1), object(18)\n",
      "memory usage: 629.9+ MB\n"
     ]
    }
   ],
   "source": [
    "\n",
    "data_df.info()"
   ]
  },
  {
   "cell_type": "code",
   "execution_count": 25,
   "metadata": {},
   "outputs": [
    {
     "name": "stdout",
     "output_type": "stream",
     "text": [
      "<class 'pandas.core.frame.DataFrame'>\n",
      "Int64Index: 0 entries\n",
      "Data columns (total 26 columns):\n",
      " #   Column                            Non-Null Count  Dtype  \n",
      "---  ------                            --------------  -----  \n",
      " 0   npi                               0 non-null      int64  \n",
      " 1   nppes_provider_last_org_name      0 non-null      object \n",
      " 2   nppes_provider_first_name         0 non-null      object \n",
      " 3   nppes_provider_mi                 0 non-null      object \n",
      " 4   nppes_credentials                 0 non-null      object \n",
      " 5   nppes_provider_gender             0 non-null      object \n",
      " 6   nppes_entity_code                 0 non-null      object \n",
      " 7   nppes_provider_street1            0 non-null      object \n",
      " 8   nppes_provider_street2            0 non-null      object \n",
      " 9   nppes_provider_city               0 non-null      object \n",
      " 10  nppes_provider_zip                0 non-null      object \n",
      " 11  nppes_provider_state              0 non-null      object \n",
      " 12  nppes_provider_country            0 non-null      object \n",
      " 13  provider_type                     0 non-null      object \n",
      " 14  medicare_participation_indicator  0 non-null      object \n",
      " 15  place_of_service                  0 non-null      object \n",
      " 16  hcpcs_code                        0 non-null      object \n",
      " 17  hcpcs_description                 0 non-null      object \n",
      " 18  hcpcs_drug_indicator              0 non-null      object \n",
      " 19  line_srvc_cnt                     0 non-null      float64\n",
      " 20  bene_unique_cnt                   0 non-null      float64\n",
      " 21  bene_day_srvc_cnt                 0 non-null      float64\n",
      " 22  average_Medicare_allowed_amt      0 non-null      float64\n",
      " 23  average_submitted_chrg_amt        0 non-null      float64\n",
      " 24  average_Medicare_payment_amt      0 non-null      float64\n",
      " 25  year                              0 non-null      int64  \n",
      "dtypes: float64(6), int64(2), object(18)\n",
      "memory usage: 0.0+ bytes\n"
     ]
    }
   ],
   "source": [
    "data_df2016 = data_df.loc[(data_df[\"NPI\"] == provider_1) | (data_df[\"NPI\"] == provider_2), :]\n",
    "data_df2016['year'] = 2016\n",
    "\n",
    "data_df2016.drop('AVERAGE_MEDICARE_STANDARD_AMT', axis=1, inplace=True)\n",
    "\n",
    "data_df2016.columns = ['npi', 'nppes_provider_last_org_name', 'nppes_provider_first_name',\n",
    "       'nppes_provider_mi', 'nppes_credentials', 'nppes_provider_gender',\n",
    "       'nppes_entity_code', 'nppes_provider_street1', 'nppes_provider_street2',\n",
    "       'nppes_provider_city', 'nppes_provider_zip', 'nppes_provider_state',\n",
    "       'nppes_provider_country', 'provider_type',\n",
    "       'medicare_participation_indicator', 'place_of_service', 'hcpcs_code',\n",
    "       'hcpcs_description', 'hcpcs_drug_indicator', 'line_srvc_cnt',\n",
    "       'bene_unique_cnt', 'bene_day_srvc_cnt', 'average_Medicare_allowed_amt',\n",
    "       'average_submitted_chrg_amt', 'average_Medicare_payment_amt',\n",
    "       'year']\n",
    "\n",
    "data_df2016.info()"
   ]
  },
  {
   "cell_type": "code",
   "execution_count": 26,
   "metadata": {},
   "outputs": [
    {
     "name": "stdout",
     "output_type": "stream",
     "text": [
      "<class 'pandas.core.frame.DataFrame'>\n",
      "Int64Index: 0 entries\n",
      "Data columns (total 26 columns):\n",
      " #   Column                            Non-Null Count  Dtype  \n",
      "---  ------                            --------------  -----  \n",
      " 0   npi                               0 non-null      int64  \n",
      " 1   nppes_provider_last_org_name      0 non-null      object \n",
      " 2   nppes_provider_first_name         0 non-null      object \n",
      " 3   nppes_provider_mi                 0 non-null      object \n",
      " 4   nppes_credentials                 0 non-null      object \n",
      " 5   nppes_provider_gender             0 non-null      object \n",
      " 6   nppes_entity_code                 0 non-null      object \n",
      " 7   nppes_provider_street1            0 non-null      object \n",
      " 8   nppes_provider_street2            0 non-null      object \n",
      " 9   nppes_provider_city               0 non-null      object \n",
      " 10  nppes_provider_zip                0 non-null      object \n",
      " 11  nppes_provider_state              0 non-null      object \n",
      " 12  nppes_provider_country            0 non-null      object \n",
      " 13  provider_type                     0 non-null      object \n",
      " 14  medicare_participation_indicator  0 non-null      object \n",
      " 15  place_of_service                  0 non-null      object \n",
      " 16  hcpcs_code                        0 non-null      object \n",
      " 17  hcpcs_description                 0 non-null      object \n",
      " 18  hcpcs_drug_indicator              0 non-null      object \n",
      " 19  line_srvc_cnt                     0 non-null      float64\n",
      " 20  bene_unique_cnt                   0 non-null      float64\n",
      " 21  bene_day_srvc_cnt                 0 non-null      float64\n",
      " 22  average_Medicare_allowed_amt      0 non-null      float64\n",
      " 23  average_submitted_chrg_amt        0 non-null      float64\n",
      " 24  average_Medicare_payment_amt      0 non-null      float64\n",
      " 25  year                              0 non-null      int64  \n",
      "dtypes: float64(6), int64(2), object(18)\n",
      "memory usage: 0.0+ bytes\n"
     ]
    }
   ],
   "source": [
    "data_df_total = pd.concat([data_df_total, data_df2016])\n",
    "data_df_total.info()"
   ]
  },
  {
   "cell_type": "code",
   "execution_count": 27,
   "metadata": {},
   "outputs": [],
   "source": [
    "data_df = pd.read_csv(os.path.join(\"..\", \"Data\", data_file2017),sep='\\t')\n",
    "# Drop the null rows\n",
    "data_df = data_df.dropna()"
   ]
  },
  {
   "cell_type": "code",
   "execution_count": 28,
   "metadata": {},
   "outputs": [
    {
     "name": "stdout",
     "output_type": "stream",
     "text": [
      "<class 'pandas.core.frame.DataFrame'>\n",
      "Int64Index: 2877789 entries, 12 to 9847439\n",
      "Data columns (total 26 columns):\n",
      " #   Column                            Dtype  \n",
      "---  ------                            -----  \n",
      " 0   npi                               int64  \n",
      " 1   nppes_provider_last_org_name      object \n",
      " 2   nppes_provider_first_name         object \n",
      " 3   nppes_provider_mi                 object \n",
      " 4   nppes_credentials                 object \n",
      " 5   nppes_provider_gender             object \n",
      " 6   nppes_entity_code                 object \n",
      " 7   nppes_provider_street1            object \n",
      " 8   nppes_provider_street2            object \n",
      " 9   nppes_provider_city               object \n",
      " 10  nppes_provider_zip                object \n",
      " 11  nppes_provider_state              object \n",
      " 12  nppes_provider_country            object \n",
      " 13  provider_type                     object \n",
      " 14  medicare_participation_indicator  object \n",
      " 15  place_of_service                  object \n",
      " 16  hcpcs_code                        object \n",
      " 17  hcpcs_description                 object \n",
      " 18  hcpcs_drug_indicator              object \n",
      " 19  line_srvc_cnt                     float64\n",
      " 20  bene_unique_cnt                   float64\n",
      " 21  bene_day_srvc_cnt                 float64\n",
      " 22  average_Medicare_allowed_amt      float64\n",
      " 23  average_submitted_chrg_amt        float64\n",
      " 24  average_Medicare_payment_amt      float64\n",
      " 25  average_Medicare_standard_amt     float64\n",
      "dtypes: float64(7), int64(1), object(18)\n",
      "memory usage: 592.8+ MB\n"
     ]
    }
   ],
   "source": [
    "data_df.info()"
   ]
  },
  {
   "cell_type": "code",
   "execution_count": 29,
   "metadata": {},
   "outputs": [],
   "source": [
    "data_df2017 = data_df.loc[(data_df[\"npi\"] == provider_1) | (data_df[\"npi\"] == provider_2), :]\n",
    "data_df2017['year'] = 2017\n",
    "\n",
    "data_df2017.drop('average_Medicare_standard_amt', axis=1, inplace=True)"
   ]
  },
  {
   "cell_type": "code",
   "execution_count": 30,
   "metadata": {},
   "outputs": [
    {
     "name": "stdout",
     "output_type": "stream",
     "text": [
      "<class 'pandas.core.frame.DataFrame'>\n",
      "Int64Index: 0 entries\n",
      "Data columns (total 26 columns):\n",
      " #   Column                            Non-Null Count  Dtype  \n",
      "---  ------                            --------------  -----  \n",
      " 0   npi                               0 non-null      int64  \n",
      " 1   nppes_provider_last_org_name      0 non-null      object \n",
      " 2   nppes_provider_first_name         0 non-null      object \n",
      " 3   nppes_provider_mi                 0 non-null      object \n",
      " 4   nppes_credentials                 0 non-null      object \n",
      " 5   nppes_provider_gender             0 non-null      object \n",
      " 6   nppes_entity_code                 0 non-null      object \n",
      " 7   nppes_provider_street1            0 non-null      object \n",
      " 8   nppes_provider_street2            0 non-null      object \n",
      " 9   nppes_provider_city               0 non-null      object \n",
      " 10  nppes_provider_zip                0 non-null      object \n",
      " 11  nppes_provider_state              0 non-null      object \n",
      " 12  nppes_provider_country            0 non-null      object \n",
      " 13  provider_type                     0 non-null      object \n",
      " 14  medicare_participation_indicator  0 non-null      object \n",
      " 15  place_of_service                  0 non-null      object \n",
      " 16  hcpcs_code                        0 non-null      object \n",
      " 17  hcpcs_description                 0 non-null      object \n",
      " 18  hcpcs_drug_indicator              0 non-null      object \n",
      " 19  line_srvc_cnt                     0 non-null      float64\n",
      " 20  bene_unique_cnt                   0 non-null      float64\n",
      " 21  bene_day_srvc_cnt                 0 non-null      float64\n",
      " 22  average_Medicare_allowed_amt      0 non-null      float64\n",
      " 23  average_submitted_chrg_amt        0 non-null      float64\n",
      " 24  average_Medicare_payment_amt      0 non-null      float64\n",
      " 25  year                              0 non-null      int64  \n",
      "dtypes: float64(6), int64(2), object(18)\n",
      "memory usage: 0.0+ bytes\n"
     ]
    }
   ],
   "source": [
    "data_df_total = pd.concat([data_df_total, data_df2017])\n",
    "data_df_total.info()"
   ]
  },
  {
   "cell_type": "code",
   "execution_count": 31,
   "metadata": {},
   "outputs": [],
   "source": [
    "output_data_file = \"output_data_npi.txt\"\n",
    "data_df_total.to_csv(output_data_file, index= False, sep='\\t')\n"
   ]
  },
  {
   "cell_type": "code",
   "execution_count": null,
   "metadata": {},
   "outputs": [],
   "source": []
  }
 ],
 "metadata": {
  "kernelspec": {
   "display_name": "Python 3",
   "language": "python",
   "name": "python3"
  },
  "language_info": {
   "codemirror_mode": {
    "name": "ipython",
    "version": 3
   },
   "file_extension": ".py",
   "mimetype": "text/x-python",
   "name": "python",
   "nbconvert_exporter": "python",
   "pygments_lexer": "ipython3",
   "version": "3.7.6"
  },
  "varInspector": {
   "cols": {
    "lenName": 16,
    "lenType": 16,
    "lenVar": 40
   },
   "kernels_config": {
    "python": {
     "delete_cmd_postfix": "",
     "delete_cmd_prefix": "del ",
     "library": "var_list.py",
     "varRefreshCmd": "print(var_dic_list())"
    },
    "r": {
     "delete_cmd_postfix": ") ",
     "delete_cmd_prefix": "rm(",
     "library": "var_list.r",
     "varRefreshCmd": "cat(var_dic_list()) "
    }
   },
   "types_to_exclude": [
    "module",
    "function",
    "builtin_function_or_method",
    "instance",
    "_Feature"
   ],
   "window_display": false
  }
 },
 "nbformat": 4,
 "nbformat_minor": 2
}
