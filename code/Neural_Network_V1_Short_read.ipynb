{
 "cells": [
  {
   "cell_type": "code",
   "execution_count": 1,
   "metadata": {},
   "outputs": [],
   "source": [
    "# Set the seed value for the notebook so the results are reproducible\n",
    "from numpy.random import seed\n",
    "seed(1)"
   ]
  },
  {
   "cell_type": "code",
   "execution_count": 2,
   "metadata": {
    "slideshow": {
     "slide_type": "subslide"
    }
   },
   "outputs": [],
   "source": [
    "# Dependencies\n",
    "import numpy as np\n",
    "import os\n",
    "import matplotlib.pyplot as plt\n",
    "import pandas as pd"
   ]
  },
  {
   "cell_type": "code",
   "execution_count": 3,
   "metadata": {},
   "outputs": [
    {
     "data": {
      "text/plain": [
       "'2.4.0'"
      ]
     },
     "execution_count": 3,
     "metadata": {},
     "output_type": "execute_result"
    }
   ],
   "source": [
    "import tensorflow\n",
    "tensorflow.keras.__version__"
   ]
  },
  {
   "cell_type": "markdown",
   "metadata": {},
   "source": [
    "## Read the CSV and Perform Basic Data Cleaning¶"
   ]
  },
  {
   "cell_type": "code",
   "execution_count": 4,
   "metadata": {
    "slideshow": {
     "slide_type": "fragment"
    }
   },
   "outputs": [
    {
     "name": "stderr",
     "output_type": "stream",
     "text": [
      "C:\\Users\\gleix\\anaconda3\\lib\\site-packages\\IPython\\core\\interactiveshell.py:3063: DtypeWarning: Columns (4) have mixed types.Specify dtype option on import or set low_memory=False.\n",
      "  interactivity=interactivity, compiler=compiler, result=result)\n"
     ]
    },
    {
     "data": {
      "text/html": [
       "<div>\n",
       "<style scoped>\n",
       "    .dataframe tbody tr th:only-of-type {\n",
       "        vertical-align: middle;\n",
       "    }\n",
       "\n",
       "    .dataframe tbody tr th {\n",
       "        vertical-align: top;\n",
       "    }\n",
       "\n",
       "    .dataframe thead th {\n",
       "        text-align: right;\n",
       "    }\n",
       "</style>\n",
       "<table border=\"1\" class=\"dataframe\">\n",
       "  <thead>\n",
       "    <tr style=\"text-align: right;\">\n",
       "      <th></th>\n",
       "      <th>npi</th>\n",
       "      <th>nppes_provider_gender</th>\n",
       "      <th>nppes_entity_code</th>\n",
       "      <th>nppes_provider_city</th>\n",
       "      <th>nppes_provider_zip</th>\n",
       "      <th>nppes_provider_state</th>\n",
       "      <th>nppes_provider_country</th>\n",
       "      <th>provider_type</th>\n",
       "      <th>medicare_participation_indicator</th>\n",
       "      <th>place_of_service</th>\n",
       "      <th>...</th>\n",
       "      <th>hcpcs_drug_indicator</th>\n",
       "      <th>line_srvc_cnt</th>\n",
       "      <th>bene_unique_cnt</th>\n",
       "      <th>bene_day_srvc_cnt</th>\n",
       "      <th>average_Medicare_allowed_amt</th>\n",
       "      <th>average_submitted_chrg_amt</th>\n",
       "      <th>average_Medicare_payment_amt</th>\n",
       "      <th>year</th>\n",
       "      <th>leie_code</th>\n",
       "      <th>leie</th>\n",
       "    </tr>\n",
       "  </thead>\n",
       "  <tbody>\n",
       "    <tr>\n",
       "      <th>0</th>\n",
       "      <td>1205963402</td>\n",
       "      <td>M</td>\n",
       "      <td>I</td>\n",
       "      <td>ROCKVILLE</td>\n",
       "      <td>2.08521e+08</td>\n",
       "      <td>MD</td>\n",
       "      <td>US</td>\n",
       "      <td>Allergy/Immunology</td>\n",
       "      <td>Y</td>\n",
       "      <td>O</td>\n",
       "      <td>...</td>\n",
       "      <td>N</td>\n",
       "      <td>153.0</td>\n",
       "      <td>13.0</td>\n",
       "      <td>153.0</td>\n",
       "      <td>11.800000</td>\n",
       "      <td>25.000000</td>\n",
       "      <td>7.897516</td>\n",
       "      <td>2012</td>\n",
       "      <td>1128b4</td>\n",
       "      <td>On_List</td>\n",
       "    </tr>\n",
       "    <tr>\n",
       "      <th>1</th>\n",
       "      <td>1467447557</td>\n",
       "      <td>M</td>\n",
       "      <td>I</td>\n",
       "      <td>FLINT</td>\n",
       "      <td>4.85325e+08</td>\n",
       "      <td>MI</td>\n",
       "      <td>US</td>\n",
       "      <td>Family Practice</td>\n",
       "      <td>Y</td>\n",
       "      <td>O</td>\n",
       "      <td>...</td>\n",
       "      <td>N</td>\n",
       "      <td>93.0</td>\n",
       "      <td>65.0</td>\n",
       "      <td>93.0</td>\n",
       "      <td>129.454731</td>\n",
       "      <td>209.408602</td>\n",
       "      <td>97.705054</td>\n",
       "      <td>2017</td>\n",
       "      <td>1128a1</td>\n",
       "      <td>On_List</td>\n",
       "    </tr>\n",
       "    <tr>\n",
       "      <th>2</th>\n",
       "      <td>1952417610</td>\n",
       "      <td>M</td>\n",
       "      <td>I</td>\n",
       "      <td>HOUSTON</td>\n",
       "      <td>7.70813e+08</td>\n",
       "      <td>TX</td>\n",
       "      <td>US</td>\n",
       "      <td>Neurology</td>\n",
       "      <td>Y</td>\n",
       "      <td>O</td>\n",
       "      <td>...</td>\n",
       "      <td>N</td>\n",
       "      <td>36.0</td>\n",
       "      <td>35.0</td>\n",
       "      <td>36.0</td>\n",
       "      <td>40.992778</td>\n",
       "      <td>50.123611</td>\n",
       "      <td>25.856944</td>\n",
       "      <td>2014</td>\n",
       "      <td>1128a1</td>\n",
       "      <td>On_List</td>\n",
       "    </tr>\n",
       "    <tr>\n",
       "      <th>3</th>\n",
       "      <td>1467447557</td>\n",
       "      <td>M</td>\n",
       "      <td>I</td>\n",
       "      <td>FLINT</td>\n",
       "      <td>4.85325e+08</td>\n",
       "      <td>MI</td>\n",
       "      <td>US</td>\n",
       "      <td>Family Practice</td>\n",
       "      <td>Y</td>\n",
       "      <td>O</td>\n",
       "      <td>...</td>\n",
       "      <td>N</td>\n",
       "      <td>724.0</td>\n",
       "      <td>210.0</td>\n",
       "      <td>724.0</td>\n",
       "      <td>48.580000</td>\n",
       "      <td>150.000000</td>\n",
       "      <td>47.610000</td>\n",
       "      <td>2017</td>\n",
       "      <td>1128a1</td>\n",
       "      <td>On_List</td>\n",
       "    </tr>\n",
       "    <tr>\n",
       "      <th>4</th>\n",
       "      <td>1467447557</td>\n",
       "      <td>M</td>\n",
       "      <td>I</td>\n",
       "      <td>FLINT</td>\n",
       "      <td>4.85325e+08</td>\n",
       "      <td>MI</td>\n",
       "      <td>US</td>\n",
       "      <td>Family Practice</td>\n",
       "      <td>Y</td>\n",
       "      <td>O</td>\n",
       "      <td>...</td>\n",
       "      <td>N</td>\n",
       "      <td>11.0</td>\n",
       "      <td>11.0</td>\n",
       "      <td>11.0</td>\n",
       "      <td>25.000000</td>\n",
       "      <td>25.000000</td>\n",
       "      <td>6.985455</td>\n",
       "      <td>2017</td>\n",
       "      <td>1128a1</td>\n",
       "      <td>On_List</td>\n",
       "    </tr>\n",
       "    <tr>\n",
       "      <th>...</th>\n",
       "      <td>...</td>\n",
       "      <td>...</td>\n",
       "      <td>...</td>\n",
       "      <td>...</td>\n",
       "      <td>...</td>\n",
       "      <td>...</td>\n",
       "      <td>...</td>\n",
       "      <td>...</td>\n",
       "      <td>...</td>\n",
       "      <td>...</td>\n",
       "      <td>...</td>\n",
       "      <td>...</td>\n",
       "      <td>...</td>\n",
       "      <td>...</td>\n",
       "      <td>...</td>\n",
       "      <td>...</td>\n",
       "      <td>...</td>\n",
       "      <td>...</td>\n",
       "      <td>...</td>\n",
       "      <td>...</td>\n",
       "      <td>...</td>\n",
       "    </tr>\n",
       "    <tr>\n",
       "      <th>149995</th>\n",
       "      <td>1053420026</td>\n",
       "      <td>M</td>\n",
       "      <td>I</td>\n",
       "      <td>AUSTIN</td>\n",
       "      <td>787276431</td>\n",
       "      <td>TX</td>\n",
       "      <td>US</td>\n",
       "      <td>Diagnostic Radiology</td>\n",
       "      <td>Y</td>\n",
       "      <td>O</td>\n",
       "      <td>...</td>\n",
       "      <td>N</td>\n",
       "      <td>12.0</td>\n",
       "      <td>12.0</td>\n",
       "      <td>12.0</td>\n",
       "      <td>116.450000</td>\n",
       "      <td>288.000000</td>\n",
       "      <td>83.691667</td>\n",
       "      <td>2016</td>\n",
       "      <td>None</td>\n",
       "      <td>Not</td>\n",
       "    </tr>\n",
       "    <tr>\n",
       "      <th>149996</th>\n",
       "      <td>1053420026</td>\n",
       "      <td>M</td>\n",
       "      <td>I</td>\n",
       "      <td>AUSTIN</td>\n",
       "      <td>787276431</td>\n",
       "      <td>TX</td>\n",
       "      <td>US</td>\n",
       "      <td>Diagnostic Radiology</td>\n",
       "      <td>Y</td>\n",
       "      <td>F</td>\n",
       "      <td>...</td>\n",
       "      <td>N</td>\n",
       "      <td>13.0</td>\n",
       "      <td>13.0</td>\n",
       "      <td>13.0</td>\n",
       "      <td>25.876154</td>\n",
       "      <td>110.307692</td>\n",
       "      <td>20.285385</td>\n",
       "      <td>2016</td>\n",
       "      <td>None</td>\n",
       "      <td>Not</td>\n",
       "    </tr>\n",
       "    <tr>\n",
       "      <th>149997</th>\n",
       "      <td>1053420026</td>\n",
       "      <td>M</td>\n",
       "      <td>I</td>\n",
       "      <td>AUSTIN</td>\n",
       "      <td>787276431</td>\n",
       "      <td>TX</td>\n",
       "      <td>US</td>\n",
       "      <td>Diagnostic Radiology</td>\n",
       "      <td>Y</td>\n",
       "      <td>O</td>\n",
       "      <td>...</td>\n",
       "      <td>N</td>\n",
       "      <td>11.0</td>\n",
       "      <td>11.0</td>\n",
       "      <td>11.0</td>\n",
       "      <td>86.860000</td>\n",
       "      <td>230.000000</td>\n",
       "      <td>63.639091</td>\n",
       "      <td>2016</td>\n",
       "      <td>None</td>\n",
       "      <td>Not</td>\n",
       "    </tr>\n",
       "    <tr>\n",
       "      <th>149998</th>\n",
       "      <td>1053420026</td>\n",
       "      <td>M</td>\n",
       "      <td>I</td>\n",
       "      <td>AUSTIN</td>\n",
       "      <td>787276431</td>\n",
       "      <td>TX</td>\n",
       "      <td>US</td>\n",
       "      <td>Diagnostic Radiology</td>\n",
       "      <td>Y</td>\n",
       "      <td>F</td>\n",
       "      <td>...</td>\n",
       "      <td>N</td>\n",
       "      <td>14.0</td>\n",
       "      <td>14.0</td>\n",
       "      <td>14.0</td>\n",
       "      <td>34.611429</td>\n",
       "      <td>138.071429</td>\n",
       "      <td>25.085714</td>\n",
       "      <td>2016</td>\n",
       "      <td>None</td>\n",
       "      <td>Not</td>\n",
       "    </tr>\n",
       "    <tr>\n",
       "      <th>149999</th>\n",
       "      <td>1053420026</td>\n",
       "      <td>M</td>\n",
       "      <td>I</td>\n",
       "      <td>AUSTIN</td>\n",
       "      <td>787276431</td>\n",
       "      <td>TX</td>\n",
       "      <td>US</td>\n",
       "      <td>Diagnostic Radiology</td>\n",
       "      <td>Y</td>\n",
       "      <td>O</td>\n",
       "      <td>...</td>\n",
       "      <td>N</td>\n",
       "      <td>16.0</td>\n",
       "      <td>16.0</td>\n",
       "      <td>16.0</td>\n",
       "      <td>104.315000</td>\n",
       "      <td>252.000000</td>\n",
       "      <td>80.241875</td>\n",
       "      <td>2016</td>\n",
       "      <td>None</td>\n",
       "      <td>Not</td>\n",
       "    </tr>\n",
       "  </tbody>\n",
       "</table>\n",
       "<p>150000 rows × 22 columns</p>\n",
       "</div>"
      ],
      "text/plain": [
       "               npi nppes_provider_gender nppes_entity_code  \\\n",
       "0       1205963402                     M                 I   \n",
       "1       1467447557                     M                 I   \n",
       "2       1952417610                     M                 I   \n",
       "3       1467447557                     M                 I   \n",
       "4       1467447557                     M                 I   \n",
       "...            ...                   ...               ...   \n",
       "149995  1053420026                     M                 I   \n",
       "149996  1053420026                     M                 I   \n",
       "149997  1053420026                     M                 I   \n",
       "149998  1053420026                     M                 I   \n",
       "149999  1053420026                     M                 I   \n",
       "\n",
       "       nppes_provider_city nppes_provider_zip nppes_provider_state  \\\n",
       "0                ROCKVILLE        2.08521e+08                   MD   \n",
       "1                    FLINT        4.85325e+08                   MI   \n",
       "2                  HOUSTON        7.70813e+08                   TX   \n",
       "3                    FLINT        4.85325e+08                   MI   \n",
       "4                    FLINT        4.85325e+08                   MI   \n",
       "...                    ...                ...                  ...   \n",
       "149995              AUSTIN          787276431                   TX   \n",
       "149996              AUSTIN          787276431                   TX   \n",
       "149997              AUSTIN          787276431                   TX   \n",
       "149998              AUSTIN          787276431                   TX   \n",
       "149999              AUSTIN          787276431                   TX   \n",
       "\n",
       "       nppes_provider_country         provider_type  \\\n",
       "0                          US    Allergy/Immunology   \n",
       "1                          US       Family Practice   \n",
       "2                          US             Neurology   \n",
       "3                          US       Family Practice   \n",
       "4                          US       Family Practice   \n",
       "...                       ...                   ...   \n",
       "149995                     US  Diagnostic Radiology   \n",
       "149996                     US  Diagnostic Radiology   \n",
       "149997                     US  Diagnostic Radiology   \n",
       "149998                     US  Diagnostic Radiology   \n",
       "149999                     US  Diagnostic Radiology   \n",
       "\n",
       "       medicare_participation_indicator place_of_service  ...  \\\n",
       "0                                     Y                O  ...   \n",
       "1                                     Y                O  ...   \n",
       "2                                     Y                O  ...   \n",
       "3                                     Y                O  ...   \n",
       "4                                     Y                O  ...   \n",
       "...                                 ...              ...  ...   \n",
       "149995                                Y                O  ...   \n",
       "149996                                Y                F  ...   \n",
       "149997                                Y                O  ...   \n",
       "149998                                Y                F  ...   \n",
       "149999                                Y                O  ...   \n",
       "\n",
       "       hcpcs_drug_indicator line_srvc_cnt bene_unique_cnt  bene_day_srvc_cnt  \\\n",
       "0                         N         153.0            13.0              153.0   \n",
       "1                         N          93.0            65.0               93.0   \n",
       "2                         N          36.0            35.0               36.0   \n",
       "3                         N         724.0           210.0              724.0   \n",
       "4                         N          11.0            11.0               11.0   \n",
       "...                     ...           ...             ...                ...   \n",
       "149995                    N          12.0            12.0               12.0   \n",
       "149996                    N          13.0            13.0               13.0   \n",
       "149997                    N          11.0            11.0               11.0   \n",
       "149998                    N          14.0            14.0               14.0   \n",
       "149999                    N          16.0            16.0               16.0   \n",
       "\n",
       "        average_Medicare_allowed_amt  average_submitted_chrg_amt  \\\n",
       "0                          11.800000                   25.000000   \n",
       "1                         129.454731                  209.408602   \n",
       "2                          40.992778                   50.123611   \n",
       "3                          48.580000                  150.000000   \n",
       "4                          25.000000                   25.000000   \n",
       "...                              ...                         ...   \n",
       "149995                    116.450000                  288.000000   \n",
       "149996                     25.876154                  110.307692   \n",
       "149997                     86.860000                  230.000000   \n",
       "149998                     34.611429                  138.071429   \n",
       "149999                    104.315000                  252.000000   \n",
       "\n",
       "        average_Medicare_payment_amt  year  leie_code     leie  \n",
       "0                           7.897516  2012     1128b4  On_List  \n",
       "1                          97.705054  2017     1128a1  On_List  \n",
       "2                          25.856944  2014     1128a1  On_List  \n",
       "3                          47.610000  2017     1128a1  On_List  \n",
       "4                           6.985455  2017     1128a1  On_List  \n",
       "...                              ...   ...        ...      ...  \n",
       "149995                     83.691667  2016       None      Not  \n",
       "149996                     20.285385  2016       None      Not  \n",
       "149997                     63.639091  2016       None      Not  \n",
       "149998                     25.085714  2016       None      Not  \n",
       "149999                     80.241875  2016       None      Not  \n",
       "\n",
       "[150000 rows x 22 columns]"
      ]
     },
     "execution_count": 4,
     "metadata": {},
     "output_type": "execute_result"
    }
   ],
   "source": [
    "input_data_file = \"sort_data.txt\"\n",
    "#df = pd.read_csv(os.path.join(\"..\", \"Data\", input_data_file),sep='\\t')\n",
    "df = pd.read_csv(os.path.join(\"..\", \"Data\", input_data_file),sep='\\t', nrows=150000)\n",
    "\n",
    "# Drop the null columns where all values are null\n",
    "df = df.dropna(axis='columns', how='all')\n",
    "# Drop the null rows\n",
    "#df = df.dropna()\n",
    "df"
   ]
  },
  {
   "cell_type": "code",
   "execution_count": 5,
   "metadata": {},
   "outputs": [],
   "source": [
    "df['nppes_provider_gender'] = df['nppes_provider_gender'].fillna('O')"
   ]
  },
  {
   "cell_type": "code",
   "execution_count": 6,
   "metadata": {},
   "outputs": [
    {
     "data": {
      "text/plain": [
       "Index(['npi', 'nppes_provider_gender', 'nppes_entity_code',\n",
       "       'nppes_provider_city', 'nppes_provider_zip', 'nppes_provider_state',\n",
       "       'nppes_provider_country', 'provider_type',\n",
       "       'medicare_participation_indicator', 'place_of_service', 'hcpcs_code',\n",
       "       'hcpcs_description', 'hcpcs_drug_indicator', 'line_srvc_cnt',\n",
       "       'bene_unique_cnt', 'bene_day_srvc_cnt', 'average_Medicare_allowed_amt',\n",
       "       'average_submitted_chrg_amt', 'average_Medicare_payment_amt', 'year',\n",
       "       'leie_code', 'leie'],\n",
       "      dtype='object')"
      ]
     },
     "execution_count": 6,
     "metadata": {},
     "output_type": "execute_result"
    }
   ],
   "source": [
    "df.columns"
   ]
  },
  {
   "cell_type": "code",
   "execution_count": 7,
   "metadata": {},
   "outputs": [
    {
     "name": "stdout",
     "output_type": "stream",
     "text": [
      "<class 'pandas.core.frame.DataFrame'>\n",
      "RangeIndex: 150000 entries, 0 to 149999\n",
      "Data columns (total 22 columns):\n",
      " #   Column                            Non-Null Count   Dtype  \n",
      "---  ------                            --------------   -----  \n",
      " 0   npi                               150000 non-null  int64  \n",
      " 1   nppes_provider_gender             150000 non-null  object \n",
      " 2   nppes_entity_code                 149999 non-null  object \n",
      " 3   nppes_provider_city               149999 non-null  object \n",
      " 4   nppes_provider_zip                149999 non-null  object \n",
      " 5   nppes_provider_state              149999 non-null  object \n",
      " 6   nppes_provider_country            149999 non-null  object \n",
      " 7   provider_type                     149999 non-null  object \n",
      " 8   medicare_participation_indicator  149999 non-null  object \n",
      " 9   place_of_service                  149999 non-null  object \n",
      " 10  hcpcs_code                        149999 non-null  object \n",
      " 11  hcpcs_description                 149999 non-null  object \n",
      " 12  hcpcs_drug_indicator              149999 non-null  object \n",
      " 13  line_srvc_cnt                     149999 non-null  float64\n",
      " 14  bene_unique_cnt                   149999 non-null  float64\n",
      " 15  bene_day_srvc_cnt                 149999 non-null  float64\n",
      " 16  average_Medicare_allowed_amt      149999 non-null  float64\n",
      " 17  average_submitted_chrg_amt        149999 non-null  float64\n",
      " 18  average_Medicare_payment_amt      149999 non-null  float64\n",
      " 19  year                              150000 non-null  int64  \n",
      " 20  leie_code                         150000 non-null  object \n",
      " 21  leie                              150000 non-null  object \n",
      "dtypes: float64(6), int64(2), object(14)\n",
      "memory usage: 25.2+ MB\n"
     ]
    }
   ],
   "source": [
    "df.info()"
   ]
  },
  {
   "cell_type": "markdown",
   "metadata": {},
   "source": [
    "## Select your features (columns)"
   ]
  },
  {
   "cell_type": "code",
   "execution_count": 8,
   "metadata": {},
   "outputs": [
    {
     "data": {
      "text/html": [
       "<div>\n",
       "<style scoped>\n",
       "    .dataframe tbody tr th:only-of-type {\n",
       "        vertical-align: middle;\n",
       "    }\n",
       "\n",
       "    .dataframe tbody tr th {\n",
       "        vertical-align: top;\n",
       "    }\n",
       "\n",
       "    .dataframe thead th {\n",
       "        text-align: right;\n",
       "    }\n",
       "</style>\n",
       "<table border=\"1\" class=\"dataframe\">\n",
       "  <thead>\n",
       "    <tr style=\"text-align: right;\">\n",
       "      <th></th>\n",
       "      <th>line_srvc_cnt</th>\n",
       "      <th>place_of_service</th>\n",
       "      <th>hcpcs_drug_indicator</th>\n",
       "      <th>nppes_entity_code</th>\n",
       "      <th>nppes_provider_gender</th>\n",
       "      <th>medicare_participation_indicator</th>\n",
       "      <th>leie</th>\n",
       "    </tr>\n",
       "  </thead>\n",
       "  <tbody>\n",
       "    <tr>\n",
       "      <th>0</th>\n",
       "      <td>153.0</td>\n",
       "      <td>O</td>\n",
       "      <td>N</td>\n",
       "      <td>I</td>\n",
       "      <td>M</td>\n",
       "      <td>Y</td>\n",
       "      <td>On_List</td>\n",
       "    </tr>\n",
       "    <tr>\n",
       "      <th>1</th>\n",
       "      <td>93.0</td>\n",
       "      <td>O</td>\n",
       "      <td>N</td>\n",
       "      <td>I</td>\n",
       "      <td>M</td>\n",
       "      <td>Y</td>\n",
       "      <td>On_List</td>\n",
       "    </tr>\n",
       "    <tr>\n",
       "      <th>2</th>\n",
       "      <td>36.0</td>\n",
       "      <td>O</td>\n",
       "      <td>N</td>\n",
       "      <td>I</td>\n",
       "      <td>M</td>\n",
       "      <td>Y</td>\n",
       "      <td>On_List</td>\n",
       "    </tr>\n",
       "    <tr>\n",
       "      <th>3</th>\n",
       "      <td>724.0</td>\n",
       "      <td>O</td>\n",
       "      <td>N</td>\n",
       "      <td>I</td>\n",
       "      <td>M</td>\n",
       "      <td>Y</td>\n",
       "      <td>On_List</td>\n",
       "    </tr>\n",
       "    <tr>\n",
       "      <th>4</th>\n",
       "      <td>11.0</td>\n",
       "      <td>O</td>\n",
       "      <td>N</td>\n",
       "      <td>I</td>\n",
       "      <td>M</td>\n",
       "      <td>Y</td>\n",
       "      <td>On_List</td>\n",
       "    </tr>\n",
       "    <tr>\n",
       "      <th>...</th>\n",
       "      <td>...</td>\n",
       "      <td>...</td>\n",
       "      <td>...</td>\n",
       "      <td>...</td>\n",
       "      <td>...</td>\n",
       "      <td>...</td>\n",
       "      <td>...</td>\n",
       "    </tr>\n",
       "    <tr>\n",
       "      <th>149995</th>\n",
       "      <td>12.0</td>\n",
       "      <td>O</td>\n",
       "      <td>N</td>\n",
       "      <td>I</td>\n",
       "      <td>M</td>\n",
       "      <td>Y</td>\n",
       "      <td>Not</td>\n",
       "    </tr>\n",
       "    <tr>\n",
       "      <th>149996</th>\n",
       "      <td>13.0</td>\n",
       "      <td>F</td>\n",
       "      <td>N</td>\n",
       "      <td>I</td>\n",
       "      <td>M</td>\n",
       "      <td>Y</td>\n",
       "      <td>Not</td>\n",
       "    </tr>\n",
       "    <tr>\n",
       "      <th>149997</th>\n",
       "      <td>11.0</td>\n",
       "      <td>O</td>\n",
       "      <td>N</td>\n",
       "      <td>I</td>\n",
       "      <td>M</td>\n",
       "      <td>Y</td>\n",
       "      <td>Not</td>\n",
       "    </tr>\n",
       "    <tr>\n",
       "      <th>149998</th>\n",
       "      <td>14.0</td>\n",
       "      <td>F</td>\n",
       "      <td>N</td>\n",
       "      <td>I</td>\n",
       "      <td>M</td>\n",
       "      <td>Y</td>\n",
       "      <td>Not</td>\n",
       "    </tr>\n",
       "    <tr>\n",
       "      <th>149999</th>\n",
       "      <td>16.0</td>\n",
       "      <td>O</td>\n",
       "      <td>N</td>\n",
       "      <td>I</td>\n",
       "      <td>M</td>\n",
       "      <td>Y</td>\n",
       "      <td>Not</td>\n",
       "    </tr>\n",
       "  </tbody>\n",
       "</table>\n",
       "<p>149999 rows × 7 columns</p>\n",
       "</div>"
      ],
      "text/plain": [
       "        line_srvc_cnt place_of_service hcpcs_drug_indicator nppes_entity_code  \\\n",
       "0               153.0                O                    N                 I   \n",
       "1                93.0                O                    N                 I   \n",
       "2                36.0                O                    N                 I   \n",
       "3               724.0                O                    N                 I   \n",
       "4                11.0                O                    N                 I   \n",
       "...               ...              ...                  ...               ...   \n",
       "149995           12.0                O                    N                 I   \n",
       "149996           13.0                F                    N                 I   \n",
       "149997           11.0                O                    N                 I   \n",
       "149998           14.0                F                    N                 I   \n",
       "149999           16.0                O                    N                 I   \n",
       "\n",
       "       nppes_provider_gender medicare_participation_indicator     leie  \n",
       "0                          M                                Y  On_List  \n",
       "1                          M                                Y  On_List  \n",
       "2                          M                                Y  On_List  \n",
       "3                          M                                Y  On_List  \n",
       "4                          M                                Y  On_List  \n",
       "...                      ...                              ...      ...  \n",
       "149995                     M                                Y      Not  \n",
       "149996                     M                                Y      Not  \n",
       "149997                     M                                Y      Not  \n",
       "149998                     M                                Y      Not  \n",
       "149999                     M                                Y      Not  \n",
       "\n",
       "[149999 rows x 7 columns]"
      ]
     },
     "execution_count": 8,
     "metadata": {},
     "output_type": "execute_result"
    }
   ],
   "source": [
    "# Set features. This will also be used as your x values.\n",
    "selected_features = df[['line_srvc_cnt', 'place_of_service', 'hcpcs_drug_indicator', 'nppes_entity_code', 'nppes_provider_gender',\n",
    "                       'medicare_participation_indicator', 'leie']]\n",
    "selected_features = selected_features.dropna()\n",
    "selected_features"
   ]
  },
  {
   "cell_type": "markdown",
   "metadata": {
    "slideshow": {
     "slide_type": "subslide"
    }
   },
   "source": [
    "## Data Pre-Processing"
   ]
  },
  {
   "cell_type": "code",
   "execution_count": 9,
   "metadata": {},
   "outputs": [
    {
     "name": "stdout",
     "output_type": "stream",
     "text": [
      "<class 'pandas.core.frame.DataFrame'>\n",
      "Int64Index: 149999 entries, 0 to 149999\n",
      "Data columns (total 6 columns):\n",
      " #   Column                            Non-Null Count   Dtype  \n",
      "---  ------                            --------------   -----  \n",
      " 0   line_srvc_cnt                     149999 non-null  float64\n",
      " 1   place_of_service                  149999 non-null  object \n",
      " 2   hcpcs_drug_indicator              149999 non-null  object \n",
      " 3   nppes_entity_code                 149999 non-null  object \n",
      " 4   nppes_provider_gender             149999 non-null  object \n",
      " 5   medicare_participation_indicator  149999 non-null  object \n",
      "dtypes: float64(1), object(5)\n",
      "memory usage: 8.0+ MB\n"
     ]
    }
   ],
   "source": [
    "disposition = selected_features[\"leie\"]\n",
    "disposition_names = [\"Not\", \"On_List\"]\n",
    "selected_features = selected_features.drop(\"leie\", axis=1)\n",
    "feature_names = selected_features.columns\n",
    "selected_features.info()"
   ]
  },
  {
   "cell_type": "code",
   "execution_count": 10,
   "metadata": {},
   "outputs": [
    {
     "name": "stdout",
     "output_type": "stream",
     "text": [
      "<class 'pandas.core.frame.DataFrame'>\n",
      "Int64Index: 149999 entries, 0 to 149999\n",
      "Data columns (total 1 columns):\n",
      " #   Column  Non-Null Count   Dtype \n",
      "---  ------  --------------   ----- \n",
      " 0   leie    149999 non-null  object\n",
      "dtypes: object(1)\n",
      "memory usage: 2.3+ MB\n"
     ]
    }
   ],
   "source": [
    "mike_df2 = disposition\n",
    "mike3 = mike_df2.to_frame()\n",
    "mike3.info()"
   ]
  },
  {
   "cell_type": "code",
   "execution_count": 11,
   "metadata": {},
   "outputs": [
    {
     "data": {
      "text/plain": [
       "Not        89677\n",
       "On_List    60322\n",
       "Name: leie, dtype: int64"
      ]
     },
     "execution_count": 11,
     "metadata": {},
     "output_type": "execute_result"
    }
   ],
   "source": [
    "mike3.leie.value_counts()"
   ]
  },
  {
   "cell_type": "code",
   "execution_count": 12,
   "metadata": {},
   "outputs": [
    {
     "data": {
      "text/html": [
       "<div>\n",
       "<style scoped>\n",
       "    .dataframe tbody tr th:only-of-type {\n",
       "        vertical-align: middle;\n",
       "    }\n",
       "\n",
       "    .dataframe tbody tr th {\n",
       "        vertical-align: top;\n",
       "    }\n",
       "\n",
       "    .dataframe thead th {\n",
       "        text-align: right;\n",
       "    }\n",
       "</style>\n",
       "<table border=\"1\" class=\"dataframe\">\n",
       "  <thead>\n",
       "    <tr style=\"text-align: right;\">\n",
       "      <th></th>\n",
       "      <th>line_srvc_cnt</th>\n",
       "      <th>place_of_service_F</th>\n",
       "      <th>place_of_service_O</th>\n",
       "      <th>hcpcs_drug_indicator_N</th>\n",
       "      <th>hcpcs_drug_indicator_Y</th>\n",
       "      <th>nppes_entity_code_I</th>\n",
       "      <th>nppes_entity_code_O</th>\n",
       "      <th>nppes_provider_gender_F</th>\n",
       "      <th>nppes_provider_gender_M</th>\n",
       "      <th>nppes_provider_gender_O</th>\n",
       "      <th>medicare_participation_indicator_N</th>\n",
       "      <th>medicare_participation_indicator_Y</th>\n",
       "    </tr>\n",
       "  </thead>\n",
       "  <tbody>\n",
       "    <tr>\n",
       "      <th>0</th>\n",
       "      <td>153.0</td>\n",
       "      <td>0</td>\n",
       "      <td>1</td>\n",
       "      <td>1</td>\n",
       "      <td>0</td>\n",
       "      <td>1</td>\n",
       "      <td>0</td>\n",
       "      <td>0</td>\n",
       "      <td>1</td>\n",
       "      <td>0</td>\n",
       "      <td>0</td>\n",
       "      <td>1</td>\n",
       "    </tr>\n",
       "    <tr>\n",
       "      <th>1</th>\n",
       "      <td>93.0</td>\n",
       "      <td>0</td>\n",
       "      <td>1</td>\n",
       "      <td>1</td>\n",
       "      <td>0</td>\n",
       "      <td>1</td>\n",
       "      <td>0</td>\n",
       "      <td>0</td>\n",
       "      <td>1</td>\n",
       "      <td>0</td>\n",
       "      <td>0</td>\n",
       "      <td>1</td>\n",
       "    </tr>\n",
       "    <tr>\n",
       "      <th>2</th>\n",
       "      <td>36.0</td>\n",
       "      <td>0</td>\n",
       "      <td>1</td>\n",
       "      <td>1</td>\n",
       "      <td>0</td>\n",
       "      <td>1</td>\n",
       "      <td>0</td>\n",
       "      <td>0</td>\n",
       "      <td>1</td>\n",
       "      <td>0</td>\n",
       "      <td>0</td>\n",
       "      <td>1</td>\n",
       "    </tr>\n",
       "    <tr>\n",
       "      <th>3</th>\n",
       "      <td>724.0</td>\n",
       "      <td>0</td>\n",
       "      <td>1</td>\n",
       "      <td>1</td>\n",
       "      <td>0</td>\n",
       "      <td>1</td>\n",
       "      <td>0</td>\n",
       "      <td>0</td>\n",
       "      <td>1</td>\n",
       "      <td>0</td>\n",
       "      <td>0</td>\n",
       "      <td>1</td>\n",
       "    </tr>\n",
       "    <tr>\n",
       "      <th>4</th>\n",
       "      <td>11.0</td>\n",
       "      <td>0</td>\n",
       "      <td>1</td>\n",
       "      <td>1</td>\n",
       "      <td>0</td>\n",
       "      <td>1</td>\n",
       "      <td>0</td>\n",
       "      <td>0</td>\n",
       "      <td>1</td>\n",
       "      <td>0</td>\n",
       "      <td>0</td>\n",
       "      <td>1</td>\n",
       "    </tr>\n",
       "    <tr>\n",
       "      <th>...</th>\n",
       "      <td>...</td>\n",
       "      <td>...</td>\n",
       "      <td>...</td>\n",
       "      <td>...</td>\n",
       "      <td>...</td>\n",
       "      <td>...</td>\n",
       "      <td>...</td>\n",
       "      <td>...</td>\n",
       "      <td>...</td>\n",
       "      <td>...</td>\n",
       "      <td>...</td>\n",
       "      <td>...</td>\n",
       "    </tr>\n",
       "    <tr>\n",
       "      <th>149995</th>\n",
       "      <td>12.0</td>\n",
       "      <td>0</td>\n",
       "      <td>1</td>\n",
       "      <td>1</td>\n",
       "      <td>0</td>\n",
       "      <td>1</td>\n",
       "      <td>0</td>\n",
       "      <td>0</td>\n",
       "      <td>1</td>\n",
       "      <td>0</td>\n",
       "      <td>0</td>\n",
       "      <td>1</td>\n",
       "    </tr>\n",
       "    <tr>\n",
       "      <th>149996</th>\n",
       "      <td>13.0</td>\n",
       "      <td>1</td>\n",
       "      <td>0</td>\n",
       "      <td>1</td>\n",
       "      <td>0</td>\n",
       "      <td>1</td>\n",
       "      <td>0</td>\n",
       "      <td>0</td>\n",
       "      <td>1</td>\n",
       "      <td>0</td>\n",
       "      <td>0</td>\n",
       "      <td>1</td>\n",
       "    </tr>\n",
       "    <tr>\n",
       "      <th>149997</th>\n",
       "      <td>11.0</td>\n",
       "      <td>0</td>\n",
       "      <td>1</td>\n",
       "      <td>1</td>\n",
       "      <td>0</td>\n",
       "      <td>1</td>\n",
       "      <td>0</td>\n",
       "      <td>0</td>\n",
       "      <td>1</td>\n",
       "      <td>0</td>\n",
       "      <td>0</td>\n",
       "      <td>1</td>\n",
       "    </tr>\n",
       "    <tr>\n",
       "      <th>149998</th>\n",
       "      <td>14.0</td>\n",
       "      <td>1</td>\n",
       "      <td>0</td>\n",
       "      <td>1</td>\n",
       "      <td>0</td>\n",
       "      <td>1</td>\n",
       "      <td>0</td>\n",
       "      <td>0</td>\n",
       "      <td>1</td>\n",
       "      <td>0</td>\n",
       "      <td>0</td>\n",
       "      <td>1</td>\n",
       "    </tr>\n",
       "    <tr>\n",
       "      <th>149999</th>\n",
       "      <td>16.0</td>\n",
       "      <td>0</td>\n",
       "      <td>1</td>\n",
       "      <td>1</td>\n",
       "      <td>0</td>\n",
       "      <td>1</td>\n",
       "      <td>0</td>\n",
       "      <td>0</td>\n",
       "      <td>1</td>\n",
       "      <td>0</td>\n",
       "      <td>0</td>\n",
       "      <td>1</td>\n",
       "    </tr>\n",
       "  </tbody>\n",
       "</table>\n",
       "<p>149999 rows × 12 columns</p>\n",
       "</div>"
      ],
      "text/plain": [
       "        line_srvc_cnt  place_of_service_F  place_of_service_O  \\\n",
       "0               153.0                   0                   1   \n",
       "1                93.0                   0                   1   \n",
       "2                36.0                   0                   1   \n",
       "3               724.0                   0                   1   \n",
       "4                11.0                   0                   1   \n",
       "...               ...                 ...                 ...   \n",
       "149995           12.0                   0                   1   \n",
       "149996           13.0                   1                   0   \n",
       "149997           11.0                   0                   1   \n",
       "149998           14.0                   1                   0   \n",
       "149999           16.0                   0                   1   \n",
       "\n",
       "        hcpcs_drug_indicator_N  hcpcs_drug_indicator_Y  nppes_entity_code_I  \\\n",
       "0                            1                       0                    1   \n",
       "1                            1                       0                    1   \n",
       "2                            1                       0                    1   \n",
       "3                            1                       0                    1   \n",
       "4                            1                       0                    1   \n",
       "...                        ...                     ...                  ...   \n",
       "149995                       1                       0                    1   \n",
       "149996                       1                       0                    1   \n",
       "149997                       1                       0                    1   \n",
       "149998                       1                       0                    1   \n",
       "149999                       1                       0                    1   \n",
       "\n",
       "        nppes_entity_code_O  nppes_provider_gender_F  nppes_provider_gender_M  \\\n",
       "0                         0                        0                        1   \n",
       "1                         0                        0                        1   \n",
       "2                         0                        0                        1   \n",
       "3                         0                        0                        1   \n",
       "4                         0                        0                        1   \n",
       "...                     ...                      ...                      ...   \n",
       "149995                    0                        0                        1   \n",
       "149996                    0                        0                        1   \n",
       "149997                    0                        0                        1   \n",
       "149998                    0                        0                        1   \n",
       "149999                    0                        0                        1   \n",
       "\n",
       "        nppes_provider_gender_O  medicare_participation_indicator_N  \\\n",
       "0                             0                                   0   \n",
       "1                             0                                   0   \n",
       "2                             0                                   0   \n",
       "3                             0                                   0   \n",
       "4                             0                                   0   \n",
       "...                         ...                                 ...   \n",
       "149995                        0                                   0   \n",
       "149996                        0                                   0   \n",
       "149997                        0                                   0   \n",
       "149998                        0                                   0   \n",
       "149999                        0                                   0   \n",
       "\n",
       "        medicare_participation_indicator_Y  \n",
       "0                                        1  \n",
       "1                                        1  \n",
       "2                                        1  \n",
       "3                                        1  \n",
       "4                                        1  \n",
       "...                                    ...  \n",
       "149995                                   1  \n",
       "149996                                   1  \n",
       "149997                                   1  \n",
       "149998                                   1  \n",
       "149999                                   1  \n",
       "\n",
       "[149999 rows x 12 columns]"
      ]
     },
     "execution_count": 12,
     "metadata": {},
     "output_type": "execute_result"
    }
   ],
   "source": [
    "data = pd.get_dummies(selected_features)\n",
    "data"
   ]
  },
  {
   "cell_type": "code",
   "execution_count": 13,
   "metadata": {},
   "outputs": [
    {
     "name": "stdout",
     "output_type": "stream",
     "text": [
      "<class 'pandas.core.frame.DataFrame'>\n",
      "Int64Index: 149999 entries, 0 to 149999\n",
      "Data columns (total 8 columns):\n",
      " #   Column                              Non-Null Count   Dtype  \n",
      "---  ------                              --------------   -----  \n",
      " 0   line_srvc_cnt                       149999 non-null  float64\n",
      " 1   place_of_service_F                  149999 non-null  uint8  \n",
      " 2   hcpcs_drug_indicator_N              149999 non-null  uint8  \n",
      " 3   nppes_entity_code_I                 149999 non-null  uint8  \n",
      " 4   nppes_provider_gender_F             149999 non-null  uint8  \n",
      " 5   nppes_provider_gender_M             149999 non-null  uint8  \n",
      " 6   nppes_provider_gender_O             149999 non-null  uint8  \n",
      " 7   medicare_participation_indicator_N  149999 non-null  uint8  \n",
      "dtypes: float64(1), uint8(7)\n",
      "memory usage: 3.3 MB\n"
     ]
    }
   ],
   "source": [
    "data = data.drop(['nppes_entity_code_O', 'medicare_participation_indicator_Y', 'place_of_service_O', 'hcpcs_drug_indicator_Y'], axis=1)\n",
    "data.info()"
   ]
  },
  {
   "cell_type": "code",
   "execution_count": 14,
   "metadata": {
    "nbgrader": {
     "grade": false,
     "grade_id": "cell-86a9e3212f200d21",
     "locked": false,
     "schema_version": 1,
     "solution": true
    },
    "slideshow": {
     "slide_type": "subslide"
    }
   },
   "outputs": [
    {
     "name": "stdout",
     "output_type": "stream",
     "text": [
      "(149999, 8) (149999,)\n"
     ]
    }
   ],
   "source": [
    "X = data\n",
    "y = disposition\n",
    "print(X.shape, y.shape)"
   ]
  },
  {
   "cell_type": "code",
   "execution_count": 15,
   "metadata": {
    "nbgrader": {
     "grade": false,
     "grade_id": "cell-711a82d9b32c83ff",
     "locked": false,
     "schema_version": 1,
     "solution": true
    },
    "slideshow": {
     "slide_type": "fragment"
    }
   },
   "outputs": [],
   "source": [
    "from sklearn.model_selection import train_test_split\n",
    "from sklearn.preprocessing import LabelEncoder, MinMaxScaler\n",
    "from tensorflow.keras.utils import to_categorical"
   ]
  },
  {
   "cell_type": "code",
   "execution_count": 16,
   "metadata": {
    "nbgrader": {
     "grade": false,
     "grade_id": "cell-711a82d9b32c83ff",
     "locked": false,
     "schema_version": 1,
     "solution": true
    },
    "slideshow": {
     "slide_type": "fragment"
    }
   },
   "outputs": [],
   "source": [
    "X_train, X_test, y_train, y_test = train_test_split(\n",
    "    X, y, random_state=1)"
   ]
  },
  {
   "cell_type": "code",
   "execution_count": 17,
   "metadata": {
    "nbgrader": {
     "grade": false,
     "grade_id": "cell-711a82d9b32c83ff",
     "locked": false,
     "schema_version": 1,
     "solution": true
    },
    "slideshow": {
     "slide_type": "fragment"
    }
   },
   "outputs": [],
   "source": [
    "X_scaler = MinMaxScaler().fit(X_train)\n",
    "X_train_scaled = X_scaler.transform(X_train)\n",
    "X_test_scaled = X_scaler.transform(X_test)"
   ]
  },
  {
   "cell_type": "code",
   "execution_count": 18,
   "metadata": {
    "nbgrader": {
     "grade": false,
     "grade_id": "cell-711a82d9b32c83ff",
     "locked": false,
     "schema_version": 1,
     "solution": true
    },
    "slideshow": {
     "slide_type": "fragment"
    }
   },
   "outputs": [],
   "source": [
    "# Step 1: Label-encode data set\n",
    "label_encoder = LabelEncoder()\n",
    "label_encoder.fit(y_train)\n",
    "encoded_y_train = label_encoder.transform(y_train)\n",
    "encoded_y_test = label_encoder.transform(y_test)"
   ]
  },
  {
   "cell_type": "code",
   "execution_count": 19,
   "metadata": {
    "nbgrader": {
     "grade": false,
     "grade_id": "cell-711a82d9b32c83ff",
     "locked": false,
     "schema_version": 1,
     "solution": true
    },
    "slideshow": {
     "slide_type": "fragment"
    }
   },
   "outputs": [],
   "source": [
    "# Step 2: Convert encoded labels to one-hot-encoding\n",
    "y_train_categorical = to_categorical(encoded_y_train)\n",
    "y_test_categorical = to_categorical(encoded_y_test)"
   ]
  },
  {
   "cell_type": "markdown",
   "metadata": {},
   "source": [
    "# Create a Deep Learning Model"
   ]
  },
  {
   "cell_type": "code",
   "execution_count": 20,
   "metadata": {},
   "outputs": [],
   "source": [
    "from tensorflow.keras.models import Sequential\n",
    "from tensorflow.keras.layers import Dense"
   ]
  },
  {
   "cell_type": "code",
   "execution_count": 21,
   "metadata": {},
   "outputs": [],
   "source": [
    "# Create model and add layers\n",
    "model = Sequential()\n",
    "model.add(Dense(units=100, activation='relu', input_dim=8))\n",
    "model.add(Dense(units=100, activation='relu'))\n",
    "model.add(Dense(units=2, activation='softmax'))"
   ]
  },
  {
   "cell_type": "code",
   "execution_count": 22,
   "metadata": {},
   "outputs": [],
   "source": [
    "# Compile and fit the model\n",
    "model.compile(optimizer='adam',\n",
    "              loss='categorical_crossentropy',\n",
    "              metrics=['accuracy'])"
   ]
  },
  {
   "cell_type": "code",
   "execution_count": 23,
   "metadata": {},
   "outputs": [
    {
     "name": "stdout",
     "output_type": "stream",
     "text": [
      "Model: \"sequential\"\n",
      "_________________________________________________________________\n",
      "Layer (type)                 Output Shape              Param #   \n",
      "=================================================================\n",
      "dense (Dense)                (None, 100)               900       \n",
      "_________________________________________________________________\n",
      "dense_1 (Dense)              (None, 100)               10100     \n",
      "_________________________________________________________________\n",
      "dense_2 (Dense)              (None, 2)                 202       \n",
      "=================================================================\n",
      "Total params: 11,202\n",
      "Trainable params: 11,202\n",
      "Non-trainable params: 0\n",
      "_________________________________________________________________\n"
     ]
    }
   ],
   "source": [
    "model.summary()"
   ]
  },
  {
   "cell_type": "code",
   "execution_count": 24,
   "metadata": {},
   "outputs": [
    {
     "name": "stdout",
     "output_type": "stream",
     "text": [
      "(112499, 8) (112499, 2)\n"
     ]
    }
   ],
   "source": [
    "print(X_train_scaled.shape, y_train_categorical.shape)"
   ]
  },
  {
   "cell_type": "code",
   "execution_count": 25,
   "metadata": {},
   "outputs": [
    {
     "data": {
      "text/plain": [
       "array([[4.06188109e-06, 0.00000000e+00, 1.00000000e+00, ...,\n",
       "        1.00000000e+00, 0.00000000e+00, 0.00000000e+00],\n",
       "       [4.06188109e-06, 1.00000000e+00, 1.00000000e+00, ...,\n",
       "        1.00000000e+00, 0.00000000e+00, 0.00000000e+00],\n",
       "       [3.10614436e-06, 0.00000000e+00, 1.00000000e+00, ...,\n",
       "        1.00000000e+00, 0.00000000e+00, 0.00000000e+00],\n",
       "       ...,\n",
       "       [2.38934182e-07, 0.00000000e+00, 1.00000000e+00, ...,\n",
       "        1.00000000e+00, 0.00000000e+00, 0.00000000e+00],\n",
       "       [6.85741101e-05, 0.00000000e+00, 0.00000000e+00, ...,\n",
       "        1.00000000e+00, 0.00000000e+00, 0.00000000e+00],\n",
       "       [1.19467091e-06, 0.00000000e+00, 1.00000000e+00, ...,\n",
       "        1.00000000e+00, 0.00000000e+00, 0.00000000e+00]])"
      ]
     },
     "execution_count": 25,
     "metadata": {},
     "output_type": "execute_result"
    }
   ],
   "source": [
    "X_train_scaled"
   ]
  },
  {
   "cell_type": "code",
   "execution_count": 26,
   "metadata": {},
   "outputs": [
    {
     "data": {
      "text/plain": [
       "array([[0., 1.],\n",
       "       [1., 0.],\n",
       "       [0., 1.],\n",
       "       ...,\n",
       "       [0., 1.],\n",
       "       [0., 1.],\n",
       "       [1., 0.]], dtype=float32)"
      ]
     },
     "execution_count": 26,
     "metadata": {},
     "output_type": "execute_result"
    }
   ],
   "source": [
    "y_train_categorical"
   ]
  },
  {
   "cell_type": "code",
   "execution_count": 27,
   "metadata": {},
   "outputs": [
    {
     "name": "stdout",
     "output_type": "stream",
     "text": [
      "Epoch 1/60\n",
      "3516/3516 - 2s - loss: 0.6090 - accuracy: 0.6538\n",
      "Epoch 2/60\n",
      "3516/3516 - 2s - loss: 0.6079 - accuracy: 0.6565\n",
      "Epoch 3/60\n",
      "3516/3516 - 2s - loss: 0.6078 - accuracy: 0.6561\n",
      "Epoch 4/60\n",
      "3516/3516 - 2s - loss: 0.6075 - accuracy: 0.6561\n",
      "Epoch 5/60\n",
      "3516/3516 - 2s - loss: 0.6075 - accuracy: 0.6565\n",
      "Epoch 6/60\n",
      "3516/3516 - 2s - loss: 0.6074 - accuracy: 0.6563\n",
      "Epoch 7/60\n",
      "3516/3516 - 2s - loss: 0.6074 - accuracy: 0.6564\n",
      "Epoch 8/60\n",
      "3516/3516 - 3s - loss: 0.6073 - accuracy: 0.6564\n",
      "Epoch 9/60\n",
      "3516/3516 - 3s - loss: 0.6072 - accuracy: 0.6564\n",
      "Epoch 10/60\n",
      "3516/3516 - 2s - loss: 0.6072 - accuracy: 0.6563\n",
      "Epoch 11/60\n",
      "3516/3516 - 3s - loss: 0.6071 - accuracy: 0.6564\n",
      "Epoch 12/60\n",
      "3516/3516 - 2s - loss: 0.6072 - accuracy: 0.6564\n",
      "Epoch 13/60\n",
      "3516/3516 - 2s - loss: 0.6072 - accuracy: 0.6564\n",
      "Epoch 14/60\n",
      "3516/3516 - 3s - loss: 0.6072 - accuracy: 0.6564\n",
      "Epoch 15/60\n",
      "3516/3516 - 3s - loss: 0.6072 - accuracy: 0.6564\n",
      "Epoch 16/60\n",
      "3516/3516 - 3s - loss: 0.6071 - accuracy: 0.6564\n",
      "Epoch 17/60\n",
      "3516/3516 - 3s - loss: 0.6072 - accuracy: 0.6564\n",
      "Epoch 18/60\n",
      "3516/3516 - 3s - loss: 0.6071 - accuracy: 0.6564\n",
      "Epoch 19/60\n",
      "3516/3516 - 2s - loss: 0.6071 - accuracy: 0.6564\n",
      "Epoch 20/60\n",
      "3516/3516 - 2s - loss: 0.6070 - accuracy: 0.6564\n",
      "Epoch 21/60\n",
      "3516/3516 - 3s - loss: 0.6071 - accuracy: 0.6564\n",
      "Epoch 22/60\n",
      "3516/3516 - 3s - loss: 0.6071 - accuracy: 0.6564\n",
      "Epoch 23/60\n",
      "3516/3516 - 2s - loss: 0.6071 - accuracy: 0.6564\n",
      "Epoch 24/60\n",
      "3516/3516 - 2s - loss: 0.6070 - accuracy: 0.6564\n",
      "Epoch 25/60\n",
      "3516/3516 - 2s - loss: 0.6070 - accuracy: 0.6564\n",
      "Epoch 26/60\n",
      "3516/3516 - 2s - loss: 0.6071 - accuracy: 0.6564\n",
      "Epoch 27/60\n",
      "3516/3516 - 3s - loss: 0.6071 - accuracy: 0.6564\n",
      "Epoch 28/60\n",
      "3516/3516 - 2s - loss: 0.6070 - accuracy: 0.6562\n",
      "Epoch 29/60\n",
      "3516/3516 - 3s - loss: 0.6071 - accuracy: 0.6564\n",
      "Epoch 30/60\n",
      "3516/3516 - 3s - loss: 0.6070 - accuracy: 0.6564\n",
      "Epoch 31/60\n",
      "3516/3516 - 2s - loss: 0.6070 - accuracy: 0.6564\n",
      "Epoch 32/60\n",
      "3516/3516 - 2s - loss: 0.6070 - accuracy: 0.6564\n",
      "Epoch 33/60\n",
      "3516/3516 - 2s - loss: 0.6069 - accuracy: 0.6564\n",
      "Epoch 34/60\n",
      "3516/3516 - 2s - loss: 0.6070 - accuracy: 0.6564\n",
      "Epoch 35/60\n",
      "3516/3516 - 2s - loss: 0.6069 - accuracy: 0.6564\n",
      "Epoch 36/60\n",
      "3516/3516 - 3s - loss: 0.6069 - accuracy: 0.6564\n",
      "Epoch 37/60\n",
      "3516/3516 - 3s - loss: 0.6069 - accuracy: 0.6564\n",
      "Epoch 38/60\n",
      "3516/3516 - 3s - loss: 0.6069 - accuracy: 0.6564\n",
      "Epoch 39/60\n",
      "3516/3516 - 3s - loss: 0.6069 - accuracy: 0.6564\n",
      "Epoch 40/60\n",
      "3516/3516 - 2s - loss: 0.6069 - accuracy: 0.6564\n",
      "Epoch 41/60\n",
      "3516/3516 - 2s - loss: 0.6070 - accuracy: 0.6564\n",
      "Epoch 42/60\n",
      "3516/3516 - 2s - loss: 0.6069 - accuracy: 0.6564\n",
      "Epoch 43/60\n",
      "3516/3516 - 2s - loss: 0.6070 - accuracy: 0.6564\n",
      "Epoch 44/60\n",
      "3516/3516 - 2s - loss: 0.6069 - accuracy: 0.6564\n",
      "Epoch 45/60\n",
      "3516/3516 - 2s - loss: 0.6069 - accuracy: 0.6565\n",
      "Epoch 46/60\n",
      "3516/3516 - 2s - loss: 0.6069 - accuracy: 0.6564\n",
      "Epoch 47/60\n",
      "3516/3516 - 2s - loss: 0.6069 - accuracy: 0.6564\n",
      "Epoch 48/60\n",
      "3516/3516 - 3s - loss: 0.6069 - accuracy: 0.6563\n",
      "Epoch 49/60\n",
      "3516/3516 - 2s - loss: 0.6069 - accuracy: 0.6564\n",
      "Epoch 50/60\n",
      "3516/3516 - 2s - loss: 0.6069 - accuracy: 0.6564\n",
      "Epoch 51/60\n",
      "3516/3516 - 2s - loss: 0.6069 - accuracy: 0.6564\n",
      "Epoch 52/60\n",
      "3516/3516 - 2s - loss: 0.6069 - accuracy: 0.6564\n",
      "Epoch 53/60\n",
      "3516/3516 - 2s - loss: 0.6068 - accuracy: 0.6564\n",
      "Epoch 54/60\n",
      "3516/3516 - 2s - loss: 0.6069 - accuracy: 0.6564\n",
      "Epoch 55/60\n",
      "3516/3516 - 2s - loss: 0.6069 - accuracy: 0.6564\n",
      "Epoch 56/60\n",
      "3516/3516 - 2s - loss: 0.6069 - accuracy: 0.6564\n",
      "Epoch 57/60\n",
      "3516/3516 - 2s - loss: 0.6069 - accuracy: 0.6564\n",
      "Epoch 58/60\n",
      "3516/3516 - 2s - loss: 0.6069 - accuracy: 0.6564\n",
      "Epoch 59/60\n",
      "3516/3516 - 2s - loss: 0.6069 - accuracy: 0.6564\n",
      "Epoch 60/60\n",
      "3516/3516 - 2s - loss: 0.6069 - accuracy: 0.6564\n"
     ]
    },
    {
     "data": {
      "text/plain": [
       "<tensorflow.python.keras.callbacks.History at 0x25b6ae3dd08>"
      ]
     },
     "execution_count": 27,
     "metadata": {},
     "output_type": "execute_result"
    }
   ],
   "source": [
    "model.fit(\n",
    "    X_train_scaled,\n",
    "    y_train_categorical,\n",
    "    epochs=60,\n",
    "    shuffle=True,\n",
    "    verbose=2\n",
    ")"
   ]
  },
  {
   "cell_type": "markdown",
   "metadata": {},
   "source": [
    "## Quantify our Trained Model"
   ]
  },
  {
   "cell_type": "code",
   "execution_count": 28,
   "metadata": {},
   "outputs": [
    {
     "name": "stdout",
     "output_type": "stream",
     "text": [
      "1172/1172 - 1s - loss: 0.6056 - accuracy: 0.6589\n",
      "Normal Neural Network - Loss: 0.6055867671966553, Accuracy: 0.6589066386222839\n"
     ]
    }
   ],
   "source": [
    "model_loss, model_accuracy = model.evaluate(\n",
    "    X_test_scaled, y_test_categorical, verbose=2)\n",
    "print(\n",
    "    f\"Normal Neural Network - Loss: {model_loss}, Accuracy: {model_accuracy}\")"
   ]
  },
  {
   "cell_type": "markdown",
   "metadata": {
    "slideshow": {
     "slide_type": "subslide"
    }
   },
   "source": [
    "## Make Predictions"
   ]
  },
  {
   "cell_type": "code",
   "execution_count": 74,
   "metadata": {
    "nbgrader": {
     "grade": false,
     "grade_id": "cell-f97eb3e97245187b",
     "locked": false,
     "schema_version": 1,
     "solution": true
    },
    "slideshow": {
     "slide_type": "fragment"
    }
   },
   "outputs": [],
   "source": [
    "encoded_predictions = model.predict_classes(X_test_scaled[:1000])\n",
    "prediction_labels = label_encoder.inverse_transform(encoded_predictions)"
   ]
  },
  {
   "cell_type": "code",
   "execution_count": 75,
   "metadata": {},
   "outputs": [
    {
     "name": "stdout",
     "output_type": "stream",
     "text": [
      "Predicted classes: ['On_List' 'On_List' 'Not' 'Not' 'Not' 'Not' 'On_List' 'On_List' 'On_List'\n",
      " 'Not' 'Not' 'Not' 'Not' 'On_List' 'On_List' 'Not' 'Not' 'On_List'\n",
      " 'On_List' 'Not' 'Not' 'On_List' 'On_List' 'On_List' 'Not' 'On_List' 'Not'\n",
      " 'On_List' 'Not' 'On_List' 'On_List' 'On_List' 'Not' 'On_List' 'Not'\n",
      " 'On_List' 'On_List' 'On_List' 'Not' 'On_List' 'Not' 'Not' 'Not' 'On_List'\n",
      " 'Not' 'Not' 'Not' 'Not' 'On_List' 'Not' 'On_List' 'On_List' 'On_List'\n",
      " 'On_List' 'Not' 'Not' 'Not' 'Not' 'On_List' 'Not' 'On_List' 'On_List'\n",
      " 'On_List' 'On_List' 'Not' 'On_List' 'On_List' 'Not' 'On_List' 'Not' 'Not'\n",
      " 'Not' 'On_List' 'Not' 'On_List' 'Not' 'Not' 'Not' 'Not' 'Not' 'Not' 'Not'\n",
      " 'Not' 'On_List' 'On_List' 'On_List' 'Not' 'Not' 'On_List' 'On_List'\n",
      " 'On_List' 'On_List' 'On_List' 'Not' 'Not' 'Not' 'On_List' 'On_List'\n",
      " 'On_List' 'On_List' 'Not' 'Not' 'Not' 'Not' 'Not' 'On_List' 'On_List'\n",
      " 'Not' 'On_List' 'Not' 'Not' 'On_List' 'Not' 'On_List' 'On_List' 'Not'\n",
      " 'On_List' 'Not' 'On_List' 'Not' 'Not' 'Not' 'On_List' 'On_List' 'On_List'\n",
      " 'Not' 'Not' 'On_List' 'Not' 'Not' 'On_List' 'On_List' 'On_List' 'Not'\n",
      " 'Not' 'Not' 'On_List' 'On_List' 'Not' 'Not' 'On_List' 'On_List' 'Not'\n",
      " 'Not' 'Not' 'Not' 'Not' 'Not' 'On_List' 'On_List' 'On_List' 'Not'\n",
      " 'On_List' 'Not' 'Not' 'Not' 'Not' 'Not' 'Not' 'On_List' 'On_List'\n",
      " 'On_List' 'On_List' 'On_List' 'On_List' 'On_List' 'Not' 'On_List' 'Not'\n",
      " 'Not' 'On_List' 'On_List' 'Not' 'Not' 'Not' 'Not' 'Not' 'Not' 'Not' 'Not'\n",
      " 'On_List' 'On_List' 'Not' 'On_List' 'On_List' 'On_List' 'Not' 'Not' 'Not'\n",
      " 'On_List' 'On_List' 'On_List' 'On_List' 'Not' 'Not' 'On_List' 'On_List'\n",
      " 'Not' 'On_List' 'On_List' 'Not' 'Not' 'Not' 'On_List' 'Not' 'On_List'\n",
      " 'On_List' 'On_List' 'On_List' 'On_List' 'On_List' 'On_List' 'Not' 'Not'\n",
      " 'On_List' 'On_List' 'Not' 'Not' 'On_List' 'On_List' 'On_List' 'Not'\n",
      " 'On_List' 'Not' 'Not' 'On_List' 'On_List' 'Not' 'On_List' 'Not' 'Not'\n",
      " 'On_List' 'Not' 'Not' 'On_List' 'Not' 'On_List' 'On_List' 'Not' 'On_List'\n",
      " 'Not' 'Not' 'Not' 'On_List' 'Not' 'On_List' 'On_List' 'On_List' 'On_List'\n",
      " 'On_List' 'Not' 'On_List' 'On_List' 'Not' 'Not' 'On_List' 'On_List'\n",
      " 'On_List' 'Not' 'On_List' 'On_List' 'On_List' 'On_List' 'On_List' 'Not'\n",
      " 'On_List' 'On_List' 'On_List' 'On_List' 'Not' 'On_List' 'On_List' 'Not'\n",
      " 'On_List' 'Not' 'On_List' 'On_List' 'Not' 'Not' 'Not' 'Not' 'On_List'\n",
      " 'Not' 'Not' 'Not' 'Not' 'Not' 'Not' 'On_List' 'On_List' 'Not' 'On_List'\n",
      " 'On_List' 'Not' 'On_List' 'Not' 'Not' 'Not' 'Not' 'Not' 'Not' 'On_List'\n",
      " 'On_List' 'Not' 'On_List' 'Not' 'On_List' 'Not' 'On_List' 'Not' 'Not'\n",
      " 'On_List' 'On_List' 'On_List' 'Not' 'On_List' 'Not' 'On_List' 'Not'\n",
      " 'On_List' 'On_List' 'On_List' 'Not' 'Not' 'On_List' 'Not' 'Not' 'On_List'\n",
      " 'On_List' 'On_List' 'On_List' 'On_List' 'On_List' 'On_List' 'On_List'\n",
      " 'Not' 'Not' 'On_List' 'Not' 'On_List' 'Not' 'On_List' 'Not' 'Not' 'Not'\n",
      " 'On_List' 'On_List' 'On_List' 'On_List' 'On_List' 'On_List' 'On_List'\n",
      " 'On_List' 'On_List' 'On_List' 'Not' 'Not' 'On_List' 'Not' 'On_List'\n",
      " 'On_List' 'On_List' 'Not' 'Not' 'On_List' 'On_List' 'Not' 'Not' 'On_List'\n",
      " 'On_List' 'On_List' 'Not' 'On_List' 'Not' 'On_List' 'On_List' 'On_List'\n",
      " 'Not' 'On_List' 'On_List' 'Not' 'Not' 'On_List' 'On_List' 'On_List' 'Not'\n",
      " 'On_List' 'On_List' 'On_List' 'Not' 'On_List' 'On_List' 'On_List'\n",
      " 'On_List' 'Not' 'On_List' 'Not' 'On_List' 'On_List' 'Not' 'Not' 'On_List'\n",
      " 'Not' 'On_List' 'On_List' 'Not' 'Not' 'On_List' 'On_List' 'On_List' 'Not'\n",
      " 'Not' 'On_List' 'Not' 'On_List' 'Not' 'On_List' 'On_List' 'On_List' 'Not'\n",
      " 'On_List' 'Not' 'On_List' 'On_List' 'Not' 'On_List' 'On_List' 'On_List'\n",
      " 'On_List' 'Not' 'Not' 'Not' 'Not' 'Not' 'Not' 'On_List' 'Not' 'Not'\n",
      " 'On_List' 'On_List' 'Not' 'On_List' 'On_List' 'Not' 'Not' 'On_List' 'Not'\n",
      " 'On_List' 'On_List' 'On_List' 'On_List' 'On_List' 'On_List' 'On_List'\n",
      " 'Not' 'Not' 'On_List' 'Not' 'Not' 'On_List' 'On_List' 'Not' 'On_List'\n",
      " 'On_List' 'On_List' 'On_List' 'Not' 'On_List' 'Not' 'On_List' 'Not'\n",
      " 'On_List' 'Not' 'Not' 'On_List' 'Not' 'Not' 'On_List' 'Not' 'Not'\n",
      " 'On_List' 'On_List' 'On_List' 'On_List' 'On_List' 'On_List' 'On_List'\n",
      " 'Not' 'Not' 'Not' 'On_List' 'Not' 'On_List' 'On_List' 'On_List' 'Not'\n",
      " 'On_List' 'Not' 'On_List' 'On_List' 'On_List' 'On_List' 'Not' 'On_List'\n",
      " 'On_List' 'Not' 'On_List' 'Not' 'On_List' 'On_List' 'On_List' 'On_List'\n",
      " 'On_List' 'Not' 'On_List' 'On_List' 'Not' 'Not' 'On_List' 'Not' 'On_List'\n",
      " 'On_List' 'On_List' 'Not' 'Not' 'Not' 'Not' 'On_List' 'Not' 'Not' 'Not'\n",
      " 'On_List' 'On_List' 'Not' 'Not' 'Not' 'On_List' 'On_List' 'Not' 'Not'\n",
      " 'On_List' 'On_List' 'On_List' 'Not' 'Not' 'Not' 'Not' 'On_List' 'On_List'\n",
      " 'On_List' 'Not' 'Not' 'On_List' 'Not' 'Not' 'On_List' 'On_List' 'Not'\n",
      " 'On_List' 'Not' 'Not' 'Not' 'On_List' 'Not' 'On_List' 'On_List' 'Not'\n",
      " 'On_List' 'Not' 'Not' 'On_List' 'On_List' 'On_List' 'Not' 'On_List'\n",
      " 'On_List' 'On_List' 'On_List' 'Not' 'On_List' 'On_List' 'On_List' 'Not'\n",
      " 'Not' 'On_List' 'On_List' 'On_List' 'Not' 'On_List' 'On_List' 'On_List'\n",
      " 'Not' 'Not' 'On_List' 'On_List' 'On_List' 'Not' 'Not' 'Not' 'On_List'\n",
      " 'On_List' 'On_List' 'On_List' 'On_List' 'On_List' 'Not' 'On_List' 'Not'\n",
      " 'On_List' 'Not' 'Not' 'Not' 'On_List' 'Not' 'On_List' 'Not' 'Not'\n",
      " 'On_List' 'Not' 'Not' 'Not' 'Not' 'Not' 'On_List' 'On_List' 'On_List'\n",
      " 'On_List' 'Not' 'On_List' 'On_List' 'Not' 'On_List' 'On_List' 'On_List'\n",
      " 'On_List' 'On_List' 'On_List' 'On_List' 'Not' 'Not' 'Not' 'Not' 'Not'\n",
      " 'Not' 'Not' 'On_List' 'On_List' 'On_List' 'On_List' 'On_List' 'On_List'\n",
      " 'Not' 'Not' 'On_List' 'On_List' 'Not' 'On_List' 'On_List' 'On_List' 'Not'\n",
      " 'On_List' 'On_List' 'On_List' 'Not' 'On_List' 'Not' 'Not' 'On_List' 'Not'\n",
      " 'On_List' 'On_List' 'On_List' 'Not' 'Not' 'Not' 'On_List' 'Not' 'On_List'\n",
      " 'On_List' 'Not' 'Not' 'On_List' 'On_List' 'Not' 'On_List' 'On_List'\n",
      " 'On_List' 'Not' 'Not' 'Not' 'On_List' 'On_List' 'On_List' 'On_List' 'Not'\n",
      " 'On_List' 'On_List' 'On_List' 'On_List' 'Not' 'Not' 'Not' 'Not' 'Not'\n",
      " 'On_List' 'On_List' 'On_List' 'On_List' 'Not' 'Not' 'On_List' 'Not' 'Not'\n",
      " 'Not' 'Not' 'Not' 'On_List' 'On_List' 'On_List' 'On_List' 'On_List' 'Not'\n",
      " 'Not' 'On_List' 'Not' 'On_List' 'Not' 'Not' 'Not' 'Not' 'Not' 'Not'\n",
      " 'On_List' 'On_List' 'On_List' 'On_List' 'On_List' 'Not' 'Not' 'On_List'\n",
      " 'On_List' 'Not' 'On_List' 'On_List' 'On_List' 'Not' 'On_List' 'On_List'\n",
      " 'On_List' 'On_List' 'On_List' 'Not' 'On_List' 'On_List' 'On_List'\n",
      " 'On_List' 'Not' 'On_List' 'Not' 'Not' 'On_List' 'On_List' 'On_List'\n",
      " 'On_List' 'Not' 'Not' 'Not' 'On_List' 'Not' 'On_List' 'On_List' 'On_List'\n",
      " 'On_List' 'Not' 'On_List' 'On_List' 'On_List' 'On_List' 'On_List'\n",
      " 'On_List' 'Not' 'Not' 'On_List' 'On_List' 'On_List' 'On_List' 'Not' 'Not'\n",
      " 'On_List' 'On_List' 'Not' 'Not' 'On_List' 'On_List' 'Not' 'Not' 'On_List'\n",
      " 'On_List' 'Not' 'Not' 'On_List' 'Not' 'On_List' 'Not' 'On_List' 'Not'\n",
      " 'Not' 'On_List' 'On_List' 'On_List' 'Not' 'Not' 'On_List' 'Not' 'On_List'\n",
      " 'On_List' 'On_List' 'On_List' 'On_List' 'On_List' 'Not' 'Not' 'On_List'\n",
      " 'Not' 'On_List' 'On_List' 'Not' 'On_List' 'Not' 'On_List' 'Not' 'Not'\n",
      " 'Not' 'Not' 'Not' 'Not' 'Not' 'On_List' 'On_List' 'On_List' 'On_List'\n",
      " 'On_List' 'Not' 'Not' 'Not' 'Not' 'On_List' 'On_List' 'Not' 'On_List'\n",
      " 'On_List' 'On_List' 'Not' 'Not' 'Not' 'Not' 'On_List' 'On_List' 'On_List'\n",
      " 'Not' 'On_List' 'On_List' 'Not' 'On_List' 'Not' 'On_List' 'Not' 'On_List'\n",
      " 'Not' 'Not' 'On_List' 'On_List' 'On_List' 'On_List' 'On_List' 'On_List'\n",
      " 'Not' 'Not' 'On_List' 'On_List' 'On_List' 'On_List' 'Not' 'On_List' 'Not'\n",
      " 'On_List' 'On_List' 'On_List' 'Not' 'Not' 'Not' 'Not' 'On_List' 'Not'\n",
      " 'Not' 'On_List' 'Not' 'Not' 'Not' 'On_List' 'On_List' 'On_List' 'On_List'\n",
      " 'On_List' 'Not' 'On_List' 'On_List' 'On_List' 'Not' 'Not' 'On_List' 'Not'\n",
      " 'On_List' 'Not' 'Not' 'Not' 'Not' 'On_List' 'On_List' 'On_List' 'On_List'\n",
      " 'Not' 'On_List' 'On_List' 'On_List' 'Not' 'On_List' 'Not' 'Not' 'Not'\n",
      " 'On_List' 'On_List' 'On_List' 'Not' 'Not' 'On_List' 'Not' 'On_List'\n",
      " 'On_List' 'On_List' 'Not' 'Not' 'Not' 'On_List' 'On_List' 'Not' 'Not'\n",
      " 'On_List' 'On_List' 'Not' 'Not' 'On_List' 'On_List' 'On_List' 'Not' 'Not'\n",
      " 'On_List' 'On_List' 'Not' 'Not' 'On_List' 'Not' 'On_List' 'On_List'\n",
      " 'On_List' 'On_List' 'Not' 'Not' 'Not' 'Not' 'On_List' 'On_List' 'On_List'\n",
      " 'On_List' 'Not' 'On_List' 'Not' 'Not' 'On_List' 'Not' 'On_List' 'Not'\n",
      " 'On_List' 'Not' 'Not' 'On_List' 'On_List' 'On_List' 'On_List' 'Not' 'Not'\n",
      " 'On_List' 'On_List' 'Not' 'Not' 'On_List' 'On_List' 'On_List' 'On_List'\n",
      " 'On_List']\n",
      "Actual Labels: ['On_List', 'Not', 'Not', 'Not', 'Not', 'Not', 'Not', 'Not', 'Not', 'Not', 'On_List', 'Not', 'Not', 'Not', 'On_List', 'Not', 'Not', 'On_List', 'On_List', 'Not', 'Not', 'On_List', 'Not', 'Not', 'Not', 'On_List', 'Not', 'On_List', 'Not', 'Not', 'On_List', 'On_List', 'Not', 'Not', 'Not', 'Not', 'Not', 'Not', 'Not', 'On_List', 'Not', 'Not', 'Not', 'On_List', 'Not', 'On_List', 'Not', 'Not', 'On_List', 'Not', 'Not', 'On_List', 'Not', 'Not', 'Not', 'Not', 'On_List', 'Not', 'On_List', 'Not', 'On_List', 'On_List', 'Not', 'Not', 'On_List', 'On_List', 'On_List', 'Not', 'Not', 'On_List', 'Not', 'Not', 'On_List', 'Not', 'On_List', 'Not', 'On_List', 'Not', 'Not', 'Not', 'Not', 'Not', 'Not', 'On_List', 'Not', 'On_List', 'On_List', 'On_List', 'Not', 'On_List', 'On_List', 'On_List', 'On_List', 'On_List', 'Not', 'Not', 'On_List', 'On_List', 'On_List', 'On_List', 'Not', 'Not', 'Not', 'On_List', 'On_List', 'On_List', 'Not', 'Not', 'Not', 'Not', 'Not', 'On_List', 'On_List', 'On_List', 'Not', 'Not', 'On_List', 'On_List', 'Not', 'Not', 'Not', 'Not', 'On_List', 'On_List', 'Not', 'Not', 'Not', 'Not', 'On_List', 'On_List', 'Not', 'On_List', 'Not', 'Not', 'Not', 'On_List', 'Not', 'On_List', 'Not', 'Not', 'Not', 'On_List', 'Not', 'Not', 'Not', 'Not', 'Not', 'On_List', 'On_List', 'On_List', 'On_List', 'Not', 'On_List', 'Not', 'Not', 'Not', 'Not', 'Not', 'Not', 'On_List', 'On_List', 'On_List', 'Not', 'On_List', 'On_List', 'On_List', 'Not', 'Not', 'On_List', 'Not', 'Not', 'On_List', 'Not', 'Not', 'Not', 'Not', 'Not', 'Not', 'Not', 'Not', 'On_List', 'Not', 'Not', 'On_List', 'On_List', 'On_List', 'Not', 'Not', 'On_List', 'Not', 'Not', 'On_List', 'Not', 'Not', 'Not', 'Not', 'Not', 'Not', 'Not', 'Not', 'Not', 'Not', 'On_List', 'Not', 'Not', 'On_List', 'On_List', 'Not', 'On_List', 'Not', 'Not', 'Not', 'Not', 'Not', 'Not', 'On_List', 'Not', 'Not', 'On_List', 'Not', 'On_List', 'Not', 'Not', 'Not', 'On_List', 'Not', 'On_List', 'On_List', 'Not', 'Not', 'Not', 'On_List', 'Not', 'Not', 'Not', 'On_List', 'Not', 'Not', 'Not', 'Not', 'Not', 'Not', 'Not', 'On_List', 'Not', 'Not', 'Not', 'On_List', 'Not', 'Not', 'Not', 'On_List', 'Not', 'Not', 'Not', 'On_List', 'On_List', 'On_List', 'Not', 'Not', 'Not', 'Not', 'Not', 'On_List', 'Not', 'On_List', 'On_List', 'Not', 'Not', 'Not', 'On_List', 'Not', 'Not', 'On_List', 'Not', 'On_List', 'On_List', 'Not', 'Not', 'Not', 'Not', 'On_List', 'Not', 'Not', 'Not', 'Not', 'On_List', 'Not', 'Not', 'Not', 'On_List', 'On_List', 'On_List', 'Not', 'Not', 'Not', 'Not', 'Not', 'On_List', 'Not', 'On_List', 'On_List', 'On_List', 'Not', 'On_List', 'Not', 'Not', 'Not', 'On_List', 'Not', 'Not', 'On_List', 'On_List', 'On_List', 'On_List', 'Not', 'Not', 'On_List', 'Not', 'On_List', 'Not', 'On_List', 'Not', 'Not', 'Not', 'Not', 'Not', 'Not', 'Not', 'Not', 'Not', 'On_List', 'On_List', 'Not', 'On_List', 'Not', 'Not', 'Not', 'On_List', 'Not', 'Not', 'On_List', 'On_List', 'Not', 'Not', 'On_List', 'On_List', 'Not', 'Not', 'On_List', 'Not', 'Not', 'On_List', 'On_List', 'On_List', 'Not', 'Not', 'Not', 'Not', 'Not', 'Not', 'Not', 'Not', 'Not', 'Not', 'On_List', 'Not', 'On_List', 'On_List', 'Not', 'On_List', 'On_List', 'Not', 'Not', 'On_List', 'On_List', 'On_List', 'Not', 'Not', 'On_List', 'Not', 'Not', 'On_List', 'On_List', 'Not', 'Not', 'On_List', 'Not', 'On_List', 'Not', 'On_List', 'Not', 'On_List', 'Not', 'On_List', 'Not', 'Not', 'Not', 'On_List', 'Not', 'Not', 'On_List', 'Not', 'On_List', 'Not', 'Not', 'Not', 'On_List', 'Not', 'On_List', 'On_List', 'Not', 'Not', 'On_List', 'On_List', 'Not', 'Not', 'Not', 'Not', 'Not', 'Not', 'Not', 'On_List', 'Not', 'Not', 'Not', 'On_List', 'On_List', 'On_List', 'On_List', 'Not', 'Not', 'Not', 'Not', 'Not', 'Not', 'On_List', 'Not', 'On_List', 'Not', 'Not', 'Not', 'Not', 'Not', 'Not', 'On_List', 'Not', 'Not', 'On_List', 'On_List', 'Not', 'On_List', 'Not', 'On_List', 'Not', 'Not', 'On_List', 'Not', 'Not', 'Not', 'On_List', 'Not', 'Not', 'Not', 'On_List', 'Not', 'Not', 'Not', 'Not', 'Not', 'Not', 'On_List', 'Not', 'Not', 'Not', 'Not', 'On_List', 'On_List', 'Not', 'Not', 'Not', 'On_List', 'On_List', 'On_List', 'Not', 'On_List', 'Not', 'Not', 'Not', 'On_List', 'Not', 'Not', 'On_List', 'Not', 'On_List', 'On_List', 'Not', 'Not', 'On_List', 'Not', 'On_List', 'On_List', 'Not', 'Not', 'Not', 'On_List', 'Not', 'Not', 'Not', 'On_List', 'On_List', 'On_List', 'Not', 'On_List', 'On_List', 'On_List', 'On_List', 'Not', 'Not', 'Not', 'Not', 'Not', 'On_List', 'Not', 'Not', 'On_List', 'Not', 'Not', 'Not', 'Not', 'Not', 'Not', 'On_List', 'Not', 'Not', 'Not', 'On_List', 'Not', 'Not', 'On_List', 'On_List', 'On_List', 'On_List', 'Not', 'Not', 'Not', 'Not', 'On_List', 'On_List', 'On_List', 'Not', 'On_List', 'On_List', 'Not', 'Not', 'On_List', 'On_List', 'Not', 'On_List', 'Not', 'Not', 'Not', 'On_List', 'Not', 'On_List', 'Not', 'Not', 'On_List', 'Not', 'On_List', 'Not', 'On_List', 'On_List', 'Not', 'On_List', 'On_List', 'On_List', 'On_List', 'Not', 'On_List', 'On_List', 'Not', 'Not', 'Not', 'On_List', 'Not', 'Not', 'Not', 'On_List', 'On_List', 'Not', 'Not', 'Not', 'Not', 'On_List', 'Not', 'On_List', 'On_List', 'Not', 'On_List', 'Not', 'On_List', 'On_List', 'On_List', 'On_List', 'Not', 'On_List', 'On_List', 'On_List', 'On_List', 'Not', 'On_List', 'Not', 'On_List', 'Not', 'Not', 'Not', 'On_List', 'Not', 'On_List', 'Not', 'On_List', 'On_List', 'Not', 'On_List', 'Not', 'Not', 'On_List', 'Not', 'Not', 'Not', 'On_List', 'Not', 'Not', 'Not', 'On_List', 'On_List', 'On_List', 'Not', 'On_List', 'Not', 'Not', 'Not', 'On_List', 'On_List', 'Not', 'Not', 'Not', 'On_List', 'On_List', 'On_List', 'Not', 'Not', 'Not', 'On_List', 'On_List', 'Not', 'On_List', 'On_List', 'Not', 'Not', 'On_List', 'Not', 'Not', 'On_List', 'Not', 'On_List', 'Not', 'Not', 'On_List', 'On_List', 'Not', 'Not', 'Not', 'Not', 'Not', 'Not', 'On_List', 'Not', 'On_List', 'Not', 'Not', 'Not', 'On_List', 'On_List', 'Not', 'On_List', 'On_List', 'On_List', 'Not', 'Not', 'On_List', 'On_List', 'On_List', 'Not', 'On_List', 'On_List', 'Not', 'Not', 'Not', 'Not', 'Not', 'Not', 'Not', 'On_List', 'On_List', 'On_List', 'On_List', 'Not', 'On_List', 'On_List', 'Not', 'Not', 'On_List', 'On_List', 'Not', 'On_List', 'Not', 'Not', 'On_List', 'Not', 'On_List', 'Not', 'Not', 'On_List', 'On_List', 'Not', 'Not', 'On_List', 'On_List', 'Not', 'On_List', 'Not', 'On_List', 'On_List', 'On_List', 'Not', 'On_List', 'Not', 'Not', 'On_List', 'On_List', 'On_List', 'Not', 'Not', 'Not', 'Not', 'On_List', 'Not', 'Not', 'Not', 'On_List', 'On_List', 'Not', 'Not', 'On_List', 'Not', 'On_List', 'On_List', 'On_List', 'Not', 'On_List', 'On_List', 'Not', 'Not', 'Not', 'On_List', 'On_List', 'Not', 'On_List', 'On_List', 'On_List', 'On_List', 'Not', 'On_List', 'Not', 'On_List', 'On_List', 'Not', 'On_List', 'Not', 'Not', 'On_List', 'On_List', 'Not', 'On_List', 'On_List', 'Not', 'Not', 'Not', 'Not', 'Not', 'On_List', 'On_List', 'On_List', 'Not', 'On_List', 'Not', 'Not', 'Not', 'Not', 'Not', 'On_List', 'Not', 'Not', 'Not', 'Not', 'On_List', 'On_List', 'Not', 'On_List', 'Not', 'Not', 'Not', 'Not', 'On_List', 'On_List', 'Not', 'On_List', 'On_List', 'Not', 'On_List', 'On_List', 'Not', 'On_List', 'Not', 'Not', 'On_List', 'Not', 'On_List', 'Not', 'On_List', 'Not', 'On_List', 'Not', 'Not', 'On_List', 'Not', 'On_List', 'On_List', 'Not', 'On_List', 'Not', 'Not', 'Not', 'Not', 'On_List', 'On_List', 'Not', 'On_List', 'On_List', 'On_List', 'Not', 'Not', 'On_List', 'Not', 'On_List', 'Not', 'Not', 'Not', 'On_List', 'On_List', 'Not', 'Not', 'Not', 'On_List', 'Not', 'On_List', 'Not', 'Not', 'Not', 'On_List', 'On_List', 'Not', 'On_List', 'Not', 'On_List', 'Not', 'Not', 'On_List', 'Not', 'On_List', 'Not', 'On_List', 'Not', 'On_List', 'Not', 'Not', 'Not', 'Not', 'On_List', 'Not', 'Not', 'On_List', 'Not', 'Not', 'Not', 'Not', 'Not', 'Not', 'On_List', 'Not', 'Not', 'Not', 'On_List', 'On_List', 'On_List', 'On_List', 'Not', 'On_List', 'Not', 'Not', 'On_List', 'Not', 'Not', 'Not', 'On_List', 'Not', 'On_List', 'Not', 'On_List', 'On_List', 'On_List', 'Not', 'On_List', 'Not', 'Not', 'Not', 'Not', 'On_List', 'Not', 'Not', 'Not', 'Not', 'On_List', 'Not', 'On_List', 'Not', 'Not', 'On_List', 'Not', 'Not', 'Not', 'On_List', 'On_List', 'Not', 'Not', 'Not', 'On_List', 'Not', 'Not', 'On_List', 'Not', 'On_List', 'Not', 'Not', 'On_List', 'On_List', 'Not', 'Not', 'Not', 'Not', 'On_List', 'On_List', 'On_List', 'On_List', 'Not', 'Not', 'Not', 'Not', 'Not', 'On_List', 'On_List', 'On_List', 'Not', 'On_List', 'Not', 'On_List', 'Not', 'Not', 'Not', 'Not', 'Not', 'Not', 'Not', 'On_List', 'On_List', 'On_List', 'On_List', 'Not', 'Not', 'On_List', 'On_List', 'Not', 'Not', 'On_List', 'On_List', 'Not', 'On_List', 'On_List']\n"
     ]
    }
   ],
   "source": [
    "print(f\"Predicted classes: {prediction_labels}\")\n",
    "print(f\"Actual Labels: {list(y_test[:1000])}\")"
   ]
  },
  {
   "cell_type": "code",
   "execution_count": 76,
   "metadata": {},
   "outputs": [],
   "source": [
    "import seaborn as sn"
   ]
  },
  {
   "cell_type": "code",
   "execution_count": 77,
   "metadata": {
    "scrolled": true
   },
   "outputs": [
    {
     "data": {
      "text/html": [
       "<div>\n",
       "<style scoped>\n",
       "    .dataframe tbody tr th:only-of-type {\n",
       "        vertical-align: middle;\n",
       "    }\n",
       "\n",
       "    .dataframe tbody tr th {\n",
       "        vertical-align: top;\n",
       "    }\n",
       "\n",
       "    .dataframe thead th {\n",
       "        text-align: right;\n",
       "    }\n",
       "</style>\n",
       "<table border=\"1\" class=\"dataframe\">\n",
       "  <thead>\n",
       "    <tr style=\"text-align: right;\">\n",
       "      <th></th>\n",
       "      <th>Actuals</th>\n",
       "      <th>Predictions</th>\n",
       "    </tr>\n",
       "  </thead>\n",
       "  <tbody>\n",
       "    <tr>\n",
       "      <th>0</th>\n",
       "      <td>On_List</td>\n",
       "      <td>On_List</td>\n",
       "    </tr>\n",
       "    <tr>\n",
       "      <th>1</th>\n",
       "      <td>Not</td>\n",
       "      <td>On_List</td>\n",
       "    </tr>\n",
       "    <tr>\n",
       "      <th>2</th>\n",
       "      <td>Not</td>\n",
       "      <td>Not</td>\n",
       "    </tr>\n",
       "    <tr>\n",
       "      <th>3</th>\n",
       "      <td>Not</td>\n",
       "      <td>Not</td>\n",
       "    </tr>\n",
       "    <tr>\n",
       "      <th>4</th>\n",
       "      <td>Not</td>\n",
       "      <td>Not</td>\n",
       "    </tr>\n",
       "    <tr>\n",
       "      <th>...</th>\n",
       "      <td>...</td>\n",
       "      <td>...</td>\n",
       "    </tr>\n",
       "    <tr>\n",
       "      <th>995</th>\n",
       "      <td>On_List</td>\n",
       "      <td>On_List</td>\n",
       "    </tr>\n",
       "    <tr>\n",
       "      <th>996</th>\n",
       "      <td>On_List</td>\n",
       "      <td>On_List</td>\n",
       "    </tr>\n",
       "    <tr>\n",
       "      <th>997</th>\n",
       "      <td>Not</td>\n",
       "      <td>On_List</td>\n",
       "    </tr>\n",
       "    <tr>\n",
       "      <th>998</th>\n",
       "      <td>On_List</td>\n",
       "      <td>On_List</td>\n",
       "    </tr>\n",
       "    <tr>\n",
       "      <th>999</th>\n",
       "      <td>On_List</td>\n",
       "      <td>On_List</td>\n",
       "    </tr>\n",
       "  </tbody>\n",
       "</table>\n",
       "<p>1000 rows × 2 columns</p>\n",
       "</div>"
      ],
      "text/plain": [
       "     Actuals Predictions\n",
       "0    On_List     On_List\n",
       "1        Not     On_List\n",
       "2        Not         Not\n",
       "3        Not         Not\n",
       "4        Not         Not\n",
       "..       ...         ...\n",
       "995  On_List     On_List\n",
       "996  On_List     On_List\n",
       "997      Not     On_List\n",
       "998  On_List     On_List\n",
       "999  On_List     On_List\n",
       "\n",
       "[1000 rows x 2 columns]"
      ]
     },
     "execution_count": 77,
     "metadata": {},
     "output_type": "execute_result"
    }
   ],
   "source": [
    "y_perdiction_results = prediction_labels\n",
    "y_results = y_test[:1000]\n",
    "display_data = pd.DataFrame({'Actuals':y_results, 'Predictions':y_perdiction_results})\n",
    "display_data.reset_index(drop=True, inplace=True)\n",
    "display_data"
   ]
  },
  {
   "cell_type": "code",
   "execution_count": 78,
   "metadata": {},
   "outputs": [],
   "source": [
    "y_test_temp = y_test[:1000]\n",
    "y_Predicted = encoded_predictions\n",
    "y_Actual = []\n",
    "\n",
    "for y_data in y_test_temp:\n",
    "    if(y_data == \"Not\"):\n",
    "        y_Actual.append(0)\n",
    "    else:\n",
    "        y_Actual.append(1)"
   ]
  },
  {
   "cell_type": "code",
   "execution_count": 79,
   "metadata": {},
   "outputs": [
    {
     "name": "stdout",
     "output_type": "stream",
     "text": [
      "<class 'pandas.core.frame.DataFrame'>\n",
      "RangeIndex: 1000 entries, 0 to 999\n",
      "Data columns (total 2 columns):\n",
      " #   Column       Non-Null Count  Dtype\n",
      "---  ------       --------------  -----\n",
      " 0   y_Actual     1000 non-null   int64\n",
      " 1   y_Predicted  1000 non-null   int64\n",
      "dtypes: int64(2)\n",
      "memory usage: 15.8 KB\n"
     ]
    }
   ],
   "source": [
    "new_data = pd.DataFrame({'y_Actual':y_Actual, 'y_Predicted':y_Predicted})\n",
    "new_data.info()"
   ]
  },
  {
   "cell_type": "code",
   "execution_count": 80,
   "metadata": {},
   "outputs": [
    {
     "data": {
      "text/html": [
       "<div>\n",
       "<style scoped>\n",
       "    .dataframe tbody tr th:only-of-type {\n",
       "        vertical-align: middle;\n",
       "    }\n",
       "\n",
       "    .dataframe tbody tr th {\n",
       "        vertical-align: top;\n",
       "    }\n",
       "\n",
       "    .dataframe thead th {\n",
       "        text-align: right;\n",
       "    }\n",
       "</style>\n",
       "<table border=\"1\" class=\"dataframe\">\n",
       "  <thead>\n",
       "    <tr style=\"text-align: right;\">\n",
       "      <th></th>\n",
       "      <th>y_Actual</th>\n",
       "      <th>y_Predicted</th>\n",
       "    </tr>\n",
       "  </thead>\n",
       "  <tbody>\n",
       "    <tr>\n",
       "      <th>0</th>\n",
       "      <td>1</td>\n",
       "      <td>1</td>\n",
       "    </tr>\n",
       "    <tr>\n",
       "      <th>1</th>\n",
       "      <td>0</td>\n",
       "      <td>1</td>\n",
       "    </tr>\n",
       "    <tr>\n",
       "      <th>2</th>\n",
       "      <td>0</td>\n",
       "      <td>0</td>\n",
       "    </tr>\n",
       "    <tr>\n",
       "      <th>3</th>\n",
       "      <td>0</td>\n",
       "      <td>0</td>\n",
       "    </tr>\n",
       "    <tr>\n",
       "      <th>4</th>\n",
       "      <td>0</td>\n",
       "      <td>0</td>\n",
       "    </tr>\n",
       "    <tr>\n",
       "      <th>...</th>\n",
       "      <td>...</td>\n",
       "      <td>...</td>\n",
       "    </tr>\n",
       "    <tr>\n",
       "      <th>995</th>\n",
       "      <td>1</td>\n",
       "      <td>1</td>\n",
       "    </tr>\n",
       "    <tr>\n",
       "      <th>996</th>\n",
       "      <td>1</td>\n",
       "      <td>1</td>\n",
       "    </tr>\n",
       "    <tr>\n",
       "      <th>997</th>\n",
       "      <td>0</td>\n",
       "      <td>1</td>\n",
       "    </tr>\n",
       "    <tr>\n",
       "      <th>998</th>\n",
       "      <td>1</td>\n",
       "      <td>1</td>\n",
       "    </tr>\n",
       "    <tr>\n",
       "      <th>999</th>\n",
       "      <td>1</td>\n",
       "      <td>1</td>\n",
       "    </tr>\n",
       "  </tbody>\n",
       "</table>\n",
       "<p>1000 rows × 2 columns</p>\n",
       "</div>"
      ],
      "text/plain": [
       "     y_Actual  y_Predicted\n",
       "0           1            1\n",
       "1           0            1\n",
       "2           0            0\n",
       "3           0            0\n",
       "4           0            0\n",
       "..        ...          ...\n",
       "995         1            1\n",
       "996         1            1\n",
       "997         0            1\n",
       "998         1            1\n",
       "999         1            1\n",
       "\n",
       "[1000 rows x 2 columns]"
      ]
     },
     "execution_count": 80,
     "metadata": {},
     "output_type": "execute_result"
    }
   ],
   "source": [
    "new_data.reset_index(drop=True, inplace=True)\n",
    "new_data"
   ]
  },
  {
   "cell_type": "code",
   "execution_count": 81,
   "metadata": {},
   "outputs": [],
   "source": [
    "#df_new = pd.DataFrame(new_data, columns=['y_Actual','y_Predicted'])\n",
    "#df_new.info()"
   ]
  },
  {
   "cell_type": "code",
   "execution_count": 82,
   "metadata": {},
   "outputs": [],
   "source": [
    "#df_new"
   ]
  },
  {
   "cell_type": "code",
   "execution_count": 83,
   "metadata": {},
   "outputs": [
    {
     "data": {
      "image/png": "[encoded data removed]",
      "text/plain": [
       "<Figure size 432x288 with 2 Axes>"
      ]
     },
     "metadata": {
      "needs_background": "light"
     },
     "output_type": "display_data"
    }
   ],
   "source": [
    "#df_new = pd.DataFrame(new_data, columns=['y_Actual','y_Predicted'])\n",
    "\n",
    "confusion_matrix = pd.crosstab(new_data['y_Actual'], new_data['y_Predicted'], rownames=['Actuals'], colnames=['Predictions'])\n",
    "\n",
    "sn.heatmap(confusion_matrix, annot=True, linewidths=.5, fmt=\".0f\", annot_kws={'size':24})\n",
    "plt.show()"
   ]
  },
  {
   "cell_type": "code",
   "execution_count": 84,
   "metadata": {},
   "outputs": [
    {
     "data": {
      "text/html": [
       "<div>\n",
       "<style scoped>\n",
       "    .dataframe tbody tr th:only-of-type {\n",
       "        vertical-align: middle;\n",
       "    }\n",
       "\n",
       "    .dataframe tbody tr th {\n",
       "        vertical-align: top;\n",
       "    }\n",
       "\n",
       "    .dataframe thead th {\n",
       "        text-align: right;\n",
       "    }\n",
       "</style>\n",
       "<table border=\"1\" class=\"dataframe\">\n",
       "  <thead>\n",
       "    <tr style=\"text-align: right;\">\n",
       "      <th>Predictions</th>\n",
       "      <th>0</th>\n",
       "      <th>1</th>\n",
       "    </tr>\n",
       "    <tr>\n",
       "      <th>Actuals</th>\n",
       "      <th></th>\n",
       "      <th></th>\n",
       "    </tr>\n",
       "  </thead>\n",
       "  <tbody>\n",
       "    <tr>\n",
       "      <th>0</th>\n",
       "      <td>352</td>\n",
       "      <td>243</td>\n",
       "    </tr>\n",
       "    <tr>\n",
       "      <th>1</th>\n",
       "      <td>99</td>\n",
       "      <td>306</td>\n",
       "    </tr>\n",
       "  </tbody>\n",
       "</table>\n",
       "</div>"
      ],
      "text/plain": [
       "Predictions    0    1\n",
       "Actuals              \n",
       "0            352  243\n",
       "1             99  306"
      ]
     },
     "execution_count": 84,
     "metadata": {},
     "output_type": "execute_result"
    }
   ],
   "source": [
    "confusion_matrix"
   ]
  },
  {
   "cell_type": "code",
   "execution_count": 85,
   "metadata": {},
   "outputs": [],
   "source": [
    "confusion_matrix = confusion_matrix.rename(columns={0 : \"Not on LEIE List\", 1 : \"On LEIE List\"})\n",
    "confusion_matrix = confusion_matrix.rename(index={0 : \"Not on LEIE List\", 1 : \"On LEIE List\"})"
   ]
  },
  {
   "cell_type": "code",
   "execution_count": 86,
   "metadata": {},
   "outputs": [
    {
     "data": {
      "text/html": [
       "<div>\n",
       "<style scoped>\n",
       "    .dataframe tbody tr th:only-of-type {\n",
       "        vertical-align: middle;\n",
       "    }\n",
       "\n",
       "    .dataframe tbody tr th {\n",
       "        vertical-align: top;\n",
       "    }\n",
       "\n",
       "    .dataframe thead th {\n",
       "        text-align: right;\n",
       "    }\n",
       "</style>\n",
       "<table border=\"1\" class=\"dataframe\">\n",
       "  <thead>\n",
       "    <tr style=\"text-align: right;\">\n",
       "      <th>Predictions</th>\n",
       "      <th>Not on LEIE List</th>\n",
       "      <th>On LEIE List</th>\n",
       "    </tr>\n",
       "    <tr>\n",
       "      <th>Actuals</th>\n",
       "      <th></th>\n",
       "      <th></th>\n",
       "    </tr>\n",
       "  </thead>\n",
       "  <tbody>\n",
       "    <tr>\n",
       "      <th>Not on LEIE List</th>\n",
       "      <td>352</td>\n",
       "      <td>243</td>\n",
       "    </tr>\n",
       "    <tr>\n",
       "      <th>On LEIE List</th>\n",
       "      <td>99</td>\n",
       "      <td>306</td>\n",
       "    </tr>\n",
       "  </tbody>\n",
       "</table>\n",
       "</div>"
      ],
      "text/plain": [
       "Predictions       Not on LEIE List  On LEIE List\n",
       "Actuals                                         \n",
       "Not on LEIE List               352           243\n",
       "On LEIE List                    99           306"
      ]
     },
     "execution_count": 86,
     "metadata": {},
     "output_type": "execute_result"
    }
   ],
   "source": [
    "confusion_matrix"
   ]
  },
  {
   "cell_type": "code",
   "execution_count": 87,
   "metadata": {},
   "outputs": [
    {
     "data": {
      "image/png": "[encoded data removed]",
      "text/plain": [
       "<Figure size 432x288 with 2 Axes>"
      ]
     },
     "metadata": {
      "needs_background": "light"
     },
     "output_type": "display_data"
    }
   ],
   "source": [
    "sn.heatmap(confusion_matrix, annot=True, linewidths=.5, fmt=\".0f\", annot_kws={'size':24})\n",
    "plt.show()"
   ]
  },
  {
   "cell_type": "code",
   "execution_count": null,
   "metadata": {},
   "outputs": [],
   "source": []
  }
 ],
 "metadata": {
  "kernelspec": {
   "display_name": "Python 3",
   "language": "python",
   "name": "python3"
  },
  "language_info": {
   "codemirror_mode": {
    "name": "ipython",
    "version": 3
   },
   "file_extension": ".py",
   "mimetype": "text/x-python",
   "name": "python",
   "nbconvert_exporter": "python",
   "pygments_lexer": "ipython3",
   "version": "3.7.6"
  },
  "varInspector": {
   "cols": {
    "lenName": 16,
    "lenType": 16,
    "lenVar": 40
   },
   "kernels_config": {
    "python": {
     "delete_cmd_postfix": "",
     "delete_cmd_prefix": "del ",
     "library": "var_list.py",
     "varRefreshCmd": "print(var_dic_list())"
    },
    "r": {
     "delete_cmd_postfix": ") ",
     "delete_cmd_prefix": "rm(",
     "library": "var_list.r",
     "varRefreshCmd": "cat(var_dic_list()) "
    }
   },
   "types_to_exclude": [
    "module",
    "function",
    "builtin_function_or_method",
    "instance",
    "_Feature"
   ],
   "window_display": false
  }
 },
 "nbformat": 4,
 "nbformat_minor": 4
}
